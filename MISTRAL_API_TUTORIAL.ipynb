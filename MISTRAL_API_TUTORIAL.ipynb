{
  "nbformat": 4,
  "nbformat_minor": 0,
  "metadata": {
    "colab": {
      "provenance": [],
      "authorship_tag": "ABX9TyNDWHGdClEIYa9+AJBpFKeq",
      "include_colab_link": true
    },
    "kernelspec": {
      "name": "python3",
      "display_name": "Python 3"
    },
    "language_info": {
      "name": "python"
    }
  },
  "cells": [
    {
      "cell_type": "markdown",
      "metadata": {
        "id": "view-in-github",
        "colab_type": "text"
      },
      "source": [
        "<a href=\"https://colab.research.google.com/github/frank-morales2020/Cloud_curious/blob/master/MISTRAL_API_TUTORIAL.ipynb\" target=\"_parent\"><img src=\"https://colab.research.google.com/assets/colab-badge.svg\" alt=\"Open In Colab\"/></a>"
      ]
    },
    {
      "cell_type": "markdown",
      "source": [
        "https://docs.mistral.ai/platform/client/"
      ],
      "metadata": {
        "id": "HFSQBSaVuYEu"
      }
    },
    {
      "cell_type": "markdown",
      "source": [
        "# Dependencies and Settings"
      ],
      "metadata": {
        "id": "NesDaI4OICGe"
      }
    },
    {
      "cell_type": "markdown",
      "source": [
        "Installing Modules"
      ],
      "metadata": {
        "id": "S2X7iLVUPIrN"
      }
    },
    {
      "cell_type": "code",
      "source": [
        "!pip install colab-env --quiet\n",
        "!pip install mistralai --quiet"
      ],
      "metadata": {
        "id": "ghqAXWE-xJa_"
      },
      "execution_count": 3,
      "outputs": []
    },
    {
      "cell_type": "markdown",
      "source": [
        "Importing Modules"
      ],
      "metadata": {
        "id": "k9lF1C1DNgKm"
      }
    },
    {
      "cell_type": "code",
      "source": [
        "import mistralai\n",
        "from mistralai.client import MistralClient\n",
        "from mistralai.models.chat_completion import ChatMessage\n",
        "import os\n",
        "import colab_env\n",
        "\n",
        "api_key = os.environ[\"MISTRAL_API_KEY\"]\n",
        "model = \"mistral-large-latest\"\n",
        "\n",
        "client = MistralClient(api_key=api_key)"
      ],
      "metadata": {
        "colab": {
          "base_uri": "https://localhost:8080/"
        },
        "id": "a87Hog_P8h9P",
        "outputId": "bf4c0e3e-7ef2-46ac-8052-4ef1dfc72d3d"
      },
      "execution_count": 4,
      "outputs": [
        {
          "output_type": "stream",
          "name": "stdout",
          "text": [
            "Drive already mounted at /content/gdrive; to attempt to forcibly remount, call drive.mount(\"/content/gdrive\", force_remount=True).\n"
          ]
        }
      ]
    },
    {
      "cell_type": "markdown",
      "source": [
        "Function Definitions"
      ],
      "metadata": {
        "id": "rErYuWh3PNm0"
      }
    },
    {
      "cell_type": "code",
      "source": [
        "def mistral_chat(prompt,model,client,stream):\n",
        "  client = MistralClient(api_key=api_key)\n",
        "  messages = [ChatMessage(role=\"user\", content=prompt)]\n",
        "  if stream==True:\n",
        "     print(\"Streaming\")\n",
        "     stream_response = client.chat_stream(model=model, messages=messages, safe_mode=True, temperature=0.9)\n",
        "     #for chunk in stream_response:\n",
        "     #   print(chunk.choices[0].delta.content)\n",
        "     return stream_response\n",
        "  else:\n",
        "\n",
        "     print(\"No streaming\")\n",
        "     chat_response = client.chat(model=model,messages=messages, safe_mode=True,temperature=0.9)\n",
        "     #print(chat_response.choices[0].message.content)\n",
        "     return chat_response"
      ],
      "metadata": {
        "id": "CQPXU56gJGNS"
      },
      "execution_count": 126,
      "outputs": []
    },
    {
      "cell_type": "markdown",
      "source": [
        "# No streaming"
      ],
      "metadata": {
        "id": "0kjQNPiMHt8e"
      }
    },
    {
      "cell_type": "code",
      "source": [
        "#!/usr/bin/env python\n",
        "\n",
        "import os\n",
        "\n",
        "from mistralai.client import MistralClient\n",
        "from mistralai.models.chat_completion import ChatMessage\n",
        "\n",
        "\n",
        "def main():\n",
        "    print(\"No streaming\")\n",
        "    print()\n",
        "    api_key = os.environ[\"MISTRAL_API_KEY\"]\n",
        "    #model = \"mistral-tiny\"\n",
        "    model = \"mistral-large-latest\"\n",
        "\n",
        "    client = MistralClient(api_key=api_key)\n",
        "\n",
        "    chat_response = client.chat(\n",
        "        model=model,\n",
        "        messages=[ChatMessage(role=\"user\", content=\"What is the best French restaurant in Paris?\")],\n",
        "        #messages=[ChatMessage(role=\"user\", content=\"What is the best French wine\")],\n",
        "    )\n",
        "    print(chat_response.choices[0].message.content)\n",
        "\n",
        "\n",
        "if __name__ == \"__main__\":\n",
        "\n",
        "    main()"
      ],
      "metadata": {
        "colab": {
          "base_uri": "https://localhost:8080/"
        },
        "id": "cic62MIUqAje",
        "outputId": "cbb2493e-9dae-4b3b-9174-f0564ed67af9"
      },
      "execution_count": 128,
      "outputs": [
        {
          "output_type": "stream",
          "name": "stdout",
          "text": [
            "No streaming\n",
            "\n",
            "There are many excellent French restaurants in Paris, and the \"best\" one can depend on personal preferences, such as the type of cuisine, atmosphere, and budget. However, here are a few highly-rated French restaurants in Paris:\n",
            "\n",
            "1. Guy Savoy - A renowned restaurant with three Michelin stars, Guy Savoy is known for its innovative and refined French cuisine.\n",
            "\n",
            "2. Le Meurice - Alain Ducasse's restaurant at Le Meurice hotel offers contemporary French cuisine in an elegant setting.\n",
            "\n",
            "3. L'Astrance - This three-Michelin-starred restaurant, led by chef Pascal Barbot, serves creative and modern French dishes using seasonal ingredients.\n",
            "\n",
            "4. L'Arpège - Chef Alain Passard's three-Michelin-starred restaurant focuses on vegetable-driven cuisine, showcasing the best of French produce.\n",
            "\n",
            "5. Septime - A more casual option, Septime offers a seasonal tasting menu with creative French dishes, and it has one Michelin star.\n",
            "\n",
            "It's always recommended to make reservations well in advance for these popular restaurants. Additionally, consider looking for smaller, lesser-known establishments, as they can also offer exceptional and authentic French dining experiences.\n"
          ]
        }
      ]
    },
    {
      "cell_type": "code",
      "source": [
        "query='Why is the best French cheese?'\n",
        "query=\"What is the best French restaurant in Paris?\"\n",
        "#model =  \"open-mistral-7b\"\n",
        "model = \"mistral-large-latest\"\n",
        "\n",
        "chat_response=mistral_chat(query,model,client,stream=False)\n",
        "print()\n",
        "print(chat_response.choices[0].message.content)\n"
      ],
      "metadata": {
        "colab": {
          "base_uri": "https://localhost:8080/"
        },
        "id": "y71lC549KkKZ",
        "outputId": "12d74e41-2fda-4c0f-9a47-ec053ab4839a"
      },
      "execution_count": 129,
      "outputs": [
        {
          "output_type": "stream",
          "name": "stdout",
          "text": [
            "No streaming\n",
            "\n",
            "I don't have real-time data or personal experiences, but based on available information, one of the top French restaurants in Paris is \"Guy Savoy\". It's a Michelin three-star restaurant known for its innovative and high-quality cuisine. However, personal tastes can vary, so it's always a good idea to check recent reviews and see if the style of cooking matches your preferences.\n"
          ]
        }
      ]
    },
    {
      "cell_type": "markdown",
      "source": [
        "# With streaming\n"
      ],
      "metadata": {
        "id": "bUeM_CynH0yE"
      }
    },
    {
      "cell_type": "code",
      "source": [
        "#!/usr/bin/env python\n",
        "\n",
        "import os\n",
        "\n",
        "from mistralai.client import MistralClient\n",
        "from mistralai.models.chat_completion import ChatMessage\n",
        "\n",
        "\n",
        "def main():\n",
        "    api_key = os.environ[\"MISTRAL_API_KEY\"]\n",
        "    model = \"mistral-tiny\"\n",
        "\n",
        "    client = MistralClient(api_key=api_key)\n",
        "\n",
        "    for chunk in client.chat_stream(\n",
        "        model=model,\n",
        "        messages=[ChatMessage(role=\"user\", content=\"What is the best French wine?\")],\n",
        "    ):\n",
        "        if chunk.choices[0].delta.content is not None:\n",
        "            print(chunk.choices[0].delta.content, end=\"\")\n",
        "\n",
        "\n",
        "if __name__ == \"__main__\":\n",
        "    main()"
      ],
      "metadata": {
        "colab": {
          "base_uri": "https://localhost:8080/"
        },
        "id": "deRHdMfDuBdD",
        "outputId": "200815ed-4209-478d-8709-b2d131f7cc76"
      },
      "execution_count": 114,
      "outputs": [
        {
          "output_type": "stream",
          "name": "stdout",
          "text": [
            "Determining the \"best\" French wine is subjective and depends on personal preferences, as well as the specific occasion or food pairing. France is known for producing a wide variety of high-quality wines, and some of the most famous and highly regarded wines come from the following regions and appellations:\n",
            "\n",
            "1. Bordeaux: Known for its red wines, particularly those from the Medoc and Pauillac regions, which are renowned for their complexity, aging potential, and balance of fruit, tannins, and acidity. Famous chateaux include Lafite Rothschild, Latour, Margaux, and Mouton Rothschild.\n",
            "2. Burgundy: Famous for its Pinot Noir and Chardonnay wines, particularly those from the Cote de Nuits and Cote de Beaune regions. These wines are prized for their elegance, refinement, and ability to express the unique terroir of their vineyards. Famous appellations and producers include Gevrey-Chambertin, Chambolle-Musigny, and the Grand Cru vineyards of the Cote de Nuits.\n",
            "3. Champagne: Known for its sparkling wines, produced using the traditional method of secondary fermentation in the bottle. Champagne is prized for its finesse, elegance, and ability to pair with a wide range of foods. Famous producers include Moet & Chandon, Veuve Clicquot, and Dom Perignon.\n",
            "4. Rhone Valley: Known for its Syrah and Grenache wines, particularly those from the Northern Rhone, such as Hermitage and Cote Rotie. These wines are renowned for their power, complexity, and aging potential.\n",
            "5. Alsace: Known for its white wines, particularly those made from Riesling, Gewurztraminer, and Pinot Gris. These wines are prized for their aromatic complexity, elegance, and ability to pair with a wide range of foods.\n",
            "\n",
            "Ultimately, the best French wine for you will depend on your personal preferences, budget, and the specific occasion or food pairing. It's always a good idea to consult a wine expert or professional for personalized recommendations."
          ]
        }
      ]
    }
  ]
}