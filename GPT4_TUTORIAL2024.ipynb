{
  "nbformat": 4,
  "nbformat_minor": 0,
  "metadata": {
    "colab": {
      "provenance": [],
      "authorship_tag": "ABX9TyOXbHp6f79gSl5rJ9zjZ/XC",
      "include_colab_link": true
    },
    "kernelspec": {
      "name": "python3",
      "display_name": "Python 3"
    },
    "language_info": {
      "name": "python"
    }
  },
  "cells": [
    {
      "cell_type": "markdown",
      "metadata": {
        "id": "view-in-github",
        "colab_type": "text"
      },
      "source": [
        "<a href=\"https://colab.research.google.com/github/frank-morales2020/Cloud_curious/blob/master/GPT4_TUTORIAL2024.ipynb\" target=\"_parent\"><img src=\"https://colab.research.google.com/assets/colab-badge.svg\" alt=\"Open In Colab\"/></a>"
      ]
    },
    {
      "cell_type": "code",
      "source": [
        "#added by Frank Morales(FM) 22/02/2024\n",
        "%pip install openai  --root-user-action=ignore\n",
        "%pip install colab-env --upgrade --quiet --root-user-action=ignore"
      ],
      "metadata": {
        "id": "31JqEPIeV84n"
      },
      "execution_count": null,
      "outputs": []
    },
    {
      "cell_type": "code",
      "execution_count": 5,
      "metadata": {
        "id": "W2f9gUvuVmYz"
      },
      "outputs": [],
      "source": [
        "def gpt_reponse(query):\n",
        "  response = client.chat.completions.create(\n",
        "    model=\"gpt-4\",\n",
        "    #model=\"gpt-3.5-turbo\"\n",
        "    #response_format={ \"type\": \"json_object\" },\n",
        "    messages=[\n",
        "      #{\"role\": \"system\", \"content\": \"You are a helpful assistant designed to output JSON.\"},\n",
        "      {\"role\": \"system\", \"content\": \"You are a helpful assistant designed to output text.\"},\n",
        "      {\"role\": \"user\", \"content\": query}\n",
        "    ]\n",
        "  )\n",
        "\n",
        "  return response"
      ]
    },
    {
      "cell_type": "code",
      "source": [
        "import warnings\n",
        "warnings.filterwarnings('ignore')\n",
        "\n",
        "import colab_env\n",
        "import openai\n",
        "import os\n",
        "openai.api_key = os.getenv(\"OPENAI_API_KEY\")\n",
        "\n",
        "from openai import OpenAI\n",
        "client = OpenAI()"
      ],
      "metadata": {
        "id": "XaZRK6yrVyEO",
        "colab": {
          "base_uri": "https://localhost:8080/"
        },
        "outputId": "df810c72-cc05-4fd4-f7a1-98cb2327c2ef"
      },
      "execution_count": 6,
      "outputs": [
        {
          "output_type": "stream",
          "name": "stdout",
          "text": [
            "Mounted at /content/gdrive\n"
          ]
        }
      ]
    },
    {
      "cell_type": "code",
      "source": [
        "query = \"I bought an ice cream for 6 kids. Each cone was $1.25 and I paid with a $10 bill. How many dollars did I get back? Explain first before answering.\"\n",
        "response=gpt_reponse(query)\n",
        "print()\n",
        "print('Question: %s'%query)\n",
        "print('Answer: %s'%response.choices[0].message.content)"
      ],
      "metadata": {
        "colab": {
          "base_uri": "https://localhost:8080/"
        },
        "id": "03AQB3j1WgRj",
        "outputId": "07a30a5a-2279-4b93-bef6-f5725a68284b"
      },
      "execution_count": 7,
      "outputs": [
        {
          "output_type": "stream",
          "name": "stdout",
          "text": [
            "\n",
            "Question: I bought an ice cream for 6 kids. Each cone was $1.25 and I paid with a $10 bill. How many dollars did I get back? Explain first before answering.\n",
            "Answer: First, you have to calculate the total price of the ice cream cones. Since each cone costs $1.25, you multiply the price of one by the number of kids: $1.25 * 6 = $7.50. \n",
            "\n",
            "Then, you subtract the total price of the ice cream cones from the $10 bill you paid with. This will tell you how much change you received: $10 - $7.50 = $2.50.\n",
            "\n",
            "You got $2.50 back.\n"
          ]
        }
      ]
    },
    {
      "cell_type": "code",
      "source": [
        "query = \"Who won the world series in 2009 and who lost, explained?, who were the managers?\"\n",
        "response=gpt_reponse(query)\n",
        "print()\n",
        "print('Question: %s'%query)\n",
        "print('Answer: %s'%response.choices[0].message.content)"
      ],
      "metadata": {
        "colab": {
          "base_uri": "https://localhost:8080/"
        },
        "id": "I2sjWQ-GWwSd",
        "outputId": "15c76373-4a2d-4b1e-c186-2c3da2229b21"
      },
      "execution_count": 8,
      "outputs": [
        {
          "output_type": "stream",
          "name": "stdout",
          "text": [
            "\n",
            "Question: Who won the world series in 2009 and who lost, explained?, who were the managers?\n",
            "Answer: The World Series in 2009 was won by the New York Yankees, who beat the Philadelphia Phillies. This was the 27th title for the Yankees and their first since 2000. The Phillies, who were the defending champions from the previous year, lost the Series.\n",
            "\n",
            "The manager of the New York Yankees at that time was Joe Girardi. Girardi was in his second year as manager of the Yankees, having taken over from Joe Torre at the end of the 2007 season. Under Girardi's leadership, the Yankees compiled the best record in the Major Leagues during the regular season and continued that success through the playoffs.\n",
            "\n",
            "On the other side, the Philadelphia Phillies were managed by Charlie Manuel. Manuel had been the Phillies' manager since 2005 and had led the team to the World Series championship in 2008. Despite their loss in the 2009 World Series, the Phillies under Manuel remained a strong team in the National League, winning the NL East division for the third consecutive year.\n"
          ]
        }
      ]
    },
    {
      "cell_type": "code",
      "source": [
        "query = \"what is the most cost-saving flight route between New York City and Shanghai? with airlines have it?\"\n",
        "response=gpt_reponse(query)\n",
        "print()\n",
        "print('Question: %s'%query)\n",
        "print('Answer: %s'%response.choices[0].message.content)"
      ],
      "metadata": {
        "colab": {
          "base_uri": "https://localhost:8080/"
        },
        "id": "n85zmiNXtS7V",
        "outputId": "bab782f6-0dfc-4ccc-bf79-e70c13524491"
      },
      "execution_count": 11,
      "outputs": [
        {
          "output_type": "stream",
          "name": "stdout",
          "text": [
            "\n",
            "Question: what is the most cost-saving flight route between New York City and Shanghai? with airlines have it?\n",
            "Answer: Flight prices can vary significantly depending on many factors such as the time of booking, time of travel, airline, and whether the flight is direct or has stopovers. Thus, It is not possible for me to give a current optimal route without accessing real-time data. \n",
            "\n",
            "However, common affordable airlines that often offer flights between New York (JFK) and Shanghai (PVG) include Air China, China Eastern, Cathay Pacific, and United Airlines. \n",
            "\n",
            "To find the most cost-saving route, make use of flight comparison websites like Skyscanner, Expedia, Kayak, Google Flights etc. These platforms allow you to compare prices from different airlines, view prices for flexible dates, and will give you an idea of which route will be the most cost-effective. \n",
            "\n",
            "Remember that flights with stopovers can sometimes be cheaper but also take longer. Be sure to check the flight details to make sure the travel duration and scheduling would be comfortable along with being affordable for you.\n"
          ]
        }
      ]
    },
    {
      "cell_type": "code",
      "source": [
        "import IPython\n",
        "import pytz\n",
        "from datetime import datetime\n",
        "\n",
        "prompt = \"GENERATE futuristic IMAGE of Mixture of Expert Architecture. Definitions and Applications included Google's Gemini and Mixtral 8x7B\"\n",
        "\n",
        "response = client.images.generate(\n",
        "  model=\"dall-e-3\",\n",
        "  prompt=\"%s\"%prompt,\n",
        "  #size=\"1024x1024\",\n",
        "  #size=\"256x256\",\n",
        "  quality=\"standard\",\n",
        "  n=1,\n",
        "  #=\"b64_json\",\n",
        ")\n",
        "\n",
        "\n",
        "image_url = response.data[0].url\n",
        "\n",
        "print(prompt)\n",
        "print()\n",
        "print(response.data[0].url)\n",
        "print()\n",
        "\n",
        "# datetime object containing current date and time\n",
        "newYorkTz = pytz.timezone(\"America/New_York\")\n",
        "now = datetime.now(newYorkTz)\n",
        "#print(\"now =\", now)\n",
        "\n",
        "# dd/mm/YY H:M:S\n",
        "dt_string = now.strftime(\"%d/%m/%Y %H:%M:%S\")\n",
        "#print(\"date and time =\", dt_string)\n",
        "\n",
        "print()\n",
        "print('TEST - OPENAI/GPT-4-VISION API - MODEL Dall-e-3 - BY FRANK MORALES - %s'%dt_string)\n",
        "print()\n",
        "\n",
        "\n",
        "IPython.display.HTML(\"<img src =\" + response.data[0].url + \">\")"
      ],
      "metadata": {
        "colab": {
          "base_uri": "https://localhost:8080/",
          "height": 1000
        },
        "id": "4xro7VQGXNU0",
        "outputId": "218aab18-f412-4a58-fc9e-da8016901eb7"
      },
      "execution_count": 10,
      "outputs": [
        {
          "output_type": "stream",
          "name": "stdout",
          "text": [
            "GENERATE futuristic IMAGE of Mixture of Expert Architecture. Definitions and Applications included Google's Gemini and Mixtral 8x7B\n",
            "\n",
            "https://oaidalleapiprodscus.blob.core.windows.net/private/org-kw9OnWtmHIJ748Xe7oTALKxl/user-mgtzrBIISo3G68oiCnIQ0OBP/img-xnud98OUU7aN6ZFvHdCLryWP.png?st=2024-02-24T23%3A49%3A48Z&se=2024-02-25T01%3A49%3A48Z&sp=r&sv=2021-08-06&sr=b&rscd=inline&rsct=image/png&skoid=6aaadede-4fb3-4698-a8f6-684d7786b067&sktid=a48cca56-e6da-484e-a814-9c849652bcb3&skt=2024-02-24T18%3A30%3A25Z&ske=2024-02-25T18%3A30%3A25Z&sks=b&skv=2021-08-06&sig=bbMfDOjOgBnwRHpAwA%2Bf/DpkxJRD3utPoN%2BB2RzAgyg%3D\n",
            "\n",
            "\n",
            "TEST - OPENAI/GPT-4-VISION API - MODEL Dall-e-3 - BY FRANK MORALES - 24/02/2024 19:49:48\n",
            "\n"
          ]
        },
        {
          "output_type": "execute_result",
          "data": {
            "text/plain": [
              "<IPython.core.display.HTML object>"
            ],
            "text/html": [
              "<img src =https://oaidalleapiprodscus.blob.core.windows.net/private/org-kw9OnWtmHIJ748Xe7oTALKxl/user-mgtzrBIISo3G68oiCnIQ0OBP/img-xnud98OUU7aN6ZFvHdCLryWP.png?st=2024-02-24T23%3A49%3A48Z&se=2024-02-25T01%3A49%3A48Z&sp=r&sv=2021-08-06&sr=b&rscd=inline&rsct=image/png&skoid=6aaadede-4fb3-4698-a8f6-684d7786b067&sktid=a48cca56-e6da-484e-a814-9c849652bcb3&skt=2024-02-24T18%3A30%3A25Z&ske=2024-02-25T18%3A30%3A25Z&sks=b&skv=2021-08-06&sig=bbMfDOjOgBnwRHpAwA%2Bf/DpkxJRD3utPoN%2BB2RzAgyg%3D>"
            ]
          },
          "metadata": {},
          "execution_count": 10
        }
      ]
    }
  ]
}