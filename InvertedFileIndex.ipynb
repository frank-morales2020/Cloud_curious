{
  "nbformat": 4,
  "nbformat_minor": 0,
  "metadata": {
    "colab": {
      "provenance": [],
      "authorship_tag": "ABX9TyPpTkbnpp/Cb4uPTGPNGo/p",
      "include_colab_link": true
    },
    "kernelspec": {
      "name": "python3",
      "display_name": "Python 3"
    },
    "language_info": {
      "name": "python"
    }
  },
  "cells": [
    {
      "cell_type": "markdown",
      "metadata": {
        "id": "view-in-github",
        "colab_type": "text"
      },
      "source": [
        "<a href=\"https://colab.research.google.com/github/frank-morales2020/Cloud_curious/blob/master/InvertedFileIndex.ipynb\" target=\"_parent\"><img src=\"https://colab.research.google.com/assets/colab-badge.svg\" alt=\"Open In Colab\"/></a>"
      ]
    },
    {
      "cell_type": "code",
      "execution_count": 3,
      "metadata": {
        "colab": {
          "base_uri": "https://localhost:8080/"
        },
        "id": "fqFOkupojv_H",
        "outputId": "559fb6ac-ffe6-424c-efe8-476047ab520e"
      },
      "outputs": [
        {
          "output_type": "stream",
          "name": "stdout",
          "text": [
            "{'the': [0, 0, 1, 1], 'cat': [0], 'sat': [0, 1], 'on': [0, 1], 'mat': [0], 'dog': [1], 'log': [1], 'cats': [2], 'and': [2], 'dogs': [2], 'are': [2], 'great': [2]}\n"
          ]
        }
      ],
      "source": [
        "def create_inverted_index(corpus):\n",
        "    inverted_index = {}\n",
        "\n",
        "    for document_id, text in enumerate(corpus):\n",
        "        for word in text.split(' '):\n",
        "            locations = inverted_index.setdefault(word, [])\n",
        "            locations.append(document_id)\n",
        "\n",
        "    return inverted_index\n",
        "\n",
        "# Example usage:\n",
        "corpus = [\n",
        "    'the cat sat on the mat',\n",
        "    'the dog sat on the log',\n",
        "    'cats and dogs are great',\n",
        "]\n",
        "\n",
        "inverted_index = create_inverted_index(corpus)\n",
        "print(inverted_index)"
      ]
    }
  ]
}