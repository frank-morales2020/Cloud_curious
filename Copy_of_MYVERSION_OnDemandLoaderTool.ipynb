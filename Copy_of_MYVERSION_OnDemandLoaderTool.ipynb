{
  "cells": [
    {
      "cell_type": "markdown",
      "metadata": {
        "id": "view-in-github",
        "colab_type": "text"
      },
      "source": [
        "<a href=\"https://colab.research.google.com/github/frank-morales2020/Cloud_curious/blob/master/Copy_of_MYVERSION_OnDemandLoaderTool.ipynb\" target=\"_parent\"><img src=\"https://colab.research.google.com/assets/colab-badge.svg\" alt=\"Open In Colab\"/></a>"
      ]
    },
    {
      "cell_type": "markdown",
      "id": "4f4b3e2a",
      "metadata": {
        "id": "4f4b3e2a"
      },
      "source": [
        "<a href=\"https://colab.research.google.com/github/jerryjliu/llama_index/blob/main/docs/examples/tools/OnDemandLoaderTool.ipynb\" target=\"_parent\"><img src=\"https://colab.research.google.com/assets/colab-badge.svg\" alt=\"Open In Colab\"/></a>"
      ]
    },
    {
      "cell_type": "markdown",
      "id": "318d3e6d-8155-4f86-ac16-bdacaf041bb9",
      "metadata": {
        "id": "318d3e6d-8155-4f86-ac16-bdacaf041bb9"
      },
      "source": [
        "# OnDemandLoaderTool Tutorial\n",
        "\n",
        "Our `OnDemandLoaderTool` is a powerful agent tool that allows for \"on-demand\" data querying from any data source on LlamaHub.\n",
        "\n",
        "This tool takes in a `BaseReader` data loader, and when called will 1) load data, 2) index data, and 3) query the data.\n",
        "\n",
        "In this walkthrough, we show how to use the `OnDemandLoaderTool` to convert our Wikipedia data loader into an accessible search tool for a LangChain agent."
      ]
    },
    {
      "cell_type": "markdown",
      "id": "31bb896a",
      "metadata": {
        "id": "31bb896a"
      },
      "source": [
        "If you're opening this Notebook on colab, you will probably need to install LlamaIndex 🦙."
      ]
    },
    {
      "cell_type": "code",
      "execution_count": 20,
      "id": "b3cb7c29",
      "metadata": {
        "id": "b3cb7c29"
      },
      "outputs": [],
      "source": [
        "!pip install llama-index-readers-wikipedia -q"
      ]
    },
    {
      "cell_type": "code",
      "execution_count": 22,
      "id": "d6815113",
      "metadata": {
        "id": "d6815113"
      },
      "outputs": [],
      "source": [
        "!pip install llama-index -q"
      ]
    },
    {
      "cell_type": "code",
      "execution_count": 11,
      "id": "d1680fc8-1904-4ea8-b8da-88306b365e7f",
      "metadata": {
        "id": "d1680fc8-1904-4ea8-b8da-88306b365e7f"
      },
      "outputs": [],
      "source": [
        "from llama_index.core.tools.ondemand_loader_tool import OnDemandLoaderTool\n",
        "from llama_index.readers.wikipedia import WikipediaReader\n",
        "from typing import List\n",
        "\n",
        "from pydantic import BaseModel"
      ]
    },
    {
      "cell_type": "markdown",
      "id": "e167e7ed-92ba-4662-b6f6-24dc36ea4805",
      "metadata": {
        "id": "e167e7ed-92ba-4662-b6f6-24dc36ea4805"
      },
      "source": [
        "### Define Tool\n",
        "\n",
        "We first define the `WikipediaReader`. Note that the `load_data` interface to `WikipediaReader` takes in a list of `pages`. By default, this queries the Wikipedia search endpoint which will autosuggest the relevant pages.\n",
        "\n",
        "We then wrap it into our `OnDemandLoaderTool`.\n",
        "\n",
        "By default since we don't specify the `index_cls`, a simple vector store index is initialized."
      ]
    },
    {
      "cell_type": "code",
      "source": [
        "!pip install wikipedia -q\n",
        "!pip install langchain -q"
      ],
      "metadata": {
        "id": "yOxW96vOiwe8"
      },
      "id": "yOxW96vOiwe8",
      "execution_count": 24,
      "outputs": []
    },
    {
      "cell_type": "code",
      "execution_count": 13,
      "id": "7c5caf3b-3544-4a39-be69-35e18ef12172",
      "metadata": {
        "id": "7c5caf3b-3544-4a39-be69-35e18ef12172"
      },
      "outputs": [],
      "source": [
        "reader = WikipediaReader()"
      ]
    },
    {
      "cell_type": "code",
      "execution_count": 14,
      "id": "ea9169ad-fe61-47da-bbdf-ce3a89c371a3",
      "metadata": {
        "id": "ea9169ad-fe61-47da-bbdf-ce3a89c371a3"
      },
      "outputs": [],
      "source": [
        "tool = OnDemandLoaderTool.from_defaults(\n",
        "    reader,\n",
        "    name=\"Wikipedia Tool\",\n",
        "    description=\"A tool for loading and querying articles from Wikipedia\",\n",
        ")"
      ]
    },
    {
      "cell_type": "markdown",
      "id": "0f8e6bb2-b019-4b23-9b4b-bd5e6f436bcb",
      "metadata": {
        "id": "0f8e6bb2-b019-4b23-9b4b-bd5e6f436bcb"
      },
      "source": [
        "#### Testing\n",
        "\n",
        "We can try running the tool by itself (or as a LangChain tool), just to showcase what the interface is like!\n",
        "\n",
        "Note that besides the arguments required for the data loader, the tool also takes in a `query_str` which will be\n",
        "the query against the index."
      ]
    },
    {
      "cell_type": "code",
      "source": [
        "#added by Frank Morales(FM) 22/02/2024\n",
        "!pip install openai  --root-user-action=ignore -q\n",
        "!pip install colab-env --upgrade --quiet --root-user-action=ignore -q"
      ],
      "metadata": {
        "id": "J43Hn7WwjUGH"
      },
      "id": "J43Hn7WwjUGH",
      "execution_count": 28,
      "outputs": []
    },
    {
      "cell_type": "markdown",
      "source": [
        "# OpenAI Settings"
      ],
      "metadata": {
        "id": "v-QiUVjzELbi"
      },
      "id": "v-QiUVjzELbi"
    },
    {
      "cell_type": "code",
      "source": [
        "#added by Frank Morales(FM) 22/02/2024\n",
        "import warnings\n",
        "warnings.filterwarnings('ignore')\n",
        "\n",
        "import colab_env\n",
        "import openai\n",
        "import os\n",
        "openai.api_key = os.getenv(\"OPENAI_API_KEY\")\n",
        "\n",
        "from openai import OpenAI\n",
        "client = OpenAI()"
      ],
      "metadata": {
        "id": "uf6fILRsjVf8",
        "colab": {
          "base_uri": "https://localhost:8080/"
        },
        "outputId": "aef0b27d-dfe0-4b93-bc1a-b7e816d57588"
      },
      "id": "uf6fILRsjVf8",
      "execution_count": 5,
      "outputs": [
        {
          "output_type": "stream",
          "name": "stdout",
          "text": [
            "Drive already mounted at /content/gdrive; to attempt to forcibly remount, call drive.mount(\"/content/gdrive\", force_remount=True).\n"
          ]
        }
      ]
    },
    {
      "cell_type": "code",
      "execution_count": null,
      "id": "46fc86a2-0d25-4673-9d2c-a12ba10de5f4",
      "metadata": {
        "id": "46fc86a2-0d25-4673-9d2c-a12ba10de5f4"
      },
      "outputs": [],
      "source": [
        "# run tool by itself\n",
        "#added by Frank Morales(FM) 22/02/2024\n",
        "tool([\"Montreal\"], query_str=\"What is the best restaurant in Montreal?\")"
      ]
    },
    {
      "cell_type": "code",
      "execution_count": 15,
      "id": "e22b8acd-e619-4ec7-925e-8e5d517214f3",
      "metadata": {
        "id": "e22b8acd-e619-4ec7-925e-8e5d517214f3"
      },
      "outputs": [],
      "source": [
        "# run tool as langchain structured tool\n",
        "lc_tool = tool.to_langchain_structured_tool(verbose=True)"
      ]
    },
    {
      "cell_type": "code",
      "execution_count": 16,
      "id": "c5c48344-2a57-4b4a-8faa-1d7a9a450208",
      "metadata": {
        "id": "c5c48344-2a57-4b4a-8faa-1d7a9a450208",
        "colab": {
          "base_uri": "https://localhost:8080/"
        },
        "outputId": "6525f325-8be9-47af-db50-e4822fdf4511"
      },
      "outputs": [
        {
          "output_type": "stream",
          "name": "stdout",
          "text": [
            "\u001b[32;1m\u001b[1;3mI do not have information regarding the best restaurant in Montreal based on the context provided.\u001b[0m"
          ]
        },
        {
          "output_type": "execute_result",
          "data": {
            "text/plain": [
              "ToolOutput(content='I do not have information regarding the best restaurant in Montreal based on the context provided.', tool_name='Wikipedia Tool', raw_input={'query': 'What is the best restaurant in Montreal?'}, raw_output=Response(response='I do not have information regarding the best restaurant in Montreal based on the context provided.', source_nodes=[NodeWithScore(node=TextNode(id_='7a291fe4-3e93-4781-99b7-f03f132a4e5e', embedding=None, metadata={}, excluded_embed_metadata_keys=[], excluded_llm_metadata_keys=[], relationships={<NodeRelationship.SOURCE: '1'>: RelatedNodeInfo(node_id='7954681', node_type=<ObjectType.DOCUMENT: '4'>, metadata={}, hash='2c83d3017e2b5e6fc169d91f22b0db0b2051c8680ec8b8b3c6165ff2d9afbd63'), <NodeRelationship.PREVIOUS: '2'>: RelatedNodeInfo(node_id='1cd592a1-0cd6-4196-baad-87cbfc833167', node_type=<ObjectType.TEXT: '1'>, metadata={}, hash='8faf4c36397eac44a173c0e165427e3a1685d179af1e84d8e9ed5e8a3f13d2db'), <NodeRelationship.NEXT: '3'>: RelatedNodeInfo(node_id='e54f496d-74cf-4b49-b3ae-7c2e92c2b5fc', node_type=<ObjectType.TEXT: '1'>, metadata={}, hash='dbbd50475947afb2757b596d2743294023e8255924e7d58d6013a7fc60d085e9')}, text=\"== Architecture ==\\n\\nFor over a century and a half, Montreal was the industrial and financial centre of Canada. This legacy has left a variety of buildings including factories, elevators, warehouses, mills, and refineries, that today provide an invaluable insight into the city's history, especially in the downtown area and the Old Port area. There are 50 National Historic Sites of Canada, more than any other city.\\nSome of the city's earliest still-standing buildings date back to the late 17th and early 18th centuries. Although most are clustered around the Old Montreal area, such as the Sulpician Seminary adjacent to Notre Dame Basilica that dates back to 1687, and Château Ramezay, which was built in 1705, examples of early colonial architecture are dotted throughout the city. Situated in Lachine, the Le Ber-Le Moyne House is the oldest complete building in the city, built between 1669 and 1671. In Point St. Charles visitors can see the Maison Saint-Gabriel, which can trace its history back to 1698. There are many historic buildings in Old Montreal in their original form: Notre Dame of Montreal Basilica, Bonsecours Market, and the 19th‑century headquarters of all major Canadian banks on St. James Street (French: Rue Saint Jacques). Montreal's earliest buildings are characterized by their uniquely French influence and grey stone construction.\\n\\nSaint Joseph's Oratory, completed in 1967, Ernest Cormier's Art Deco Université de Montréal main building, the landmark Place Ville Marie office tower, the controversial Olympic Stadium and surrounding structures, are but a few notable examples of the city's 20th-century architecture. Pavilions designed for the 1967 International and Universal Exposition, popularly known as Expo 67, featured a wide range of architectural designs. Though most pavilions were temporary structures, several have become landmarks, including Buckminster Fuller's geodesic dome U.S. Pavilion, now the Montreal Biosphere, and Moshe Safdie's striking Habitat 67 apartment complex.\\nThe Montreal Metro has public artwork by some of the biggest names in Quebec culture.\\nIn 2006 Montreal was named a UNESCO City of Design, one of only three design capitals of the world (the others being Berlin and Buenos Aires). This distinguished title recognizes Montreal's design community. Since 2005 the city has been home for the International Council of Graphic Design Associations (Icograda); the International Design Alliance (IDA).\\nThe Underground City (officially RÉSO), an important tourist attraction, is an underground network connecting shopping centres, pedestrian thoroughfares, universities, hotels, restaurants, bistros, subway stations and more, in and around downtown with 32 km (20 mi) of tunnels over 12 km2 (4.6 sq mi) in the most densely populated part of Montreal.\", start_char_idx=21361, end_char_idx=24175, text_template='{metadata_str}\\n\\n{content}', metadata_template='{key}: {value}', metadata_seperator='\\n'), score=0.8002663783531856), NodeWithScore(node=TextNode(id_='3ca1b7e6-23d8-46c7-a527-64f97939f194', embedding=None, metadata={}, excluded_embed_metadata_keys=[], excluded_llm_metadata_keys=[], relationships={<NodeRelationship.SOURCE: '1'>: RelatedNodeInfo(node_id='7954681', node_type=<ObjectType.DOCUMENT: '4'>, metadata={}, hash='2c83d3017e2b5e6fc169d91f22b0db0b2051c8680ec8b8b3c6165ff2d9afbd63'), <NodeRelationship.PREVIOUS: '2'>: RelatedNodeInfo(node_id='cc593853-73bb-44ca-aa48-a72689b260f7', node_type=<ObjectType.TEXT: '1'>, metadata={}, hash='4b5d80bb4dd75c0d31dcaf46dc2a4fa7c3a25b391e7b29a3de35499dab2047dd'), <NodeRelationship.NEXT: '3'>: RelatedNodeInfo(node_id='b864cb06-7911-4934-b776-b73270826023', node_type=<ObjectType.TEXT: '1'>, metadata={}, hash='121060553a1df4c6b4559055396a04efa21a927dfdcd74a4258d97ab6db7745e')}, text=\"== Sports ==\\n\\nThe most popular sport is ice hockey. The professional hockey team, the Montreal Canadiens, is one of the Original Six teams of the National Hockey League (NHL), and has won an NHL-record 24 Stanley Cup championships. The Canadiens' most recent Stanley Cup victory came in 1993. They have major rivalries with the Toronto Maple Leafs and Boston Bruins, both of which are also Original Six teams, and with the Ottawa Senators, the closest team geographically. The Canadiens have played at the Bell Centre since 1996. Prior to that they played at the Montreal Forum.\\n\\nThe Montreal Alouettes of the Canadian Football League (CFL) play at Percival Molson Memorial Stadium on the campus of McGill University for their regular-season games. Late season and playoff games are sometimes played at the much larger, enclosed Olympic Stadium, which also hosted the 2008 Grey Cup. The Alouettes have won the Grey Cup eight times, most recently in 2023. The Alouettes have had two periods on hiatus. During the second one, the Montreal Machine played in the World League of American Football in 1991 and 1992. The McGill Redbirds, Concordia Stingers, and Université de Montréal Carabins play in the U Sports football league.\\nMontreal has a storied baseball history. The city was the home of the minor-league Montreal Royals of the International League until 1960. In 1946, Jackie Robinson broke the Baseball colour line with the Royals in an emotionally difficult year; Robinson was forever grateful for the local fans' fervent support. Major League Baseball came to town in the form of the Montreal Expos in 1969. They played their games at Jarry Park Stadium until moving into Olympic Stadium in 1977. After 36 years in Montreal, the team relocated to Washington, D.C., in 2005 and re-branded themselves as the Washington Nationals.\\n\\nCF Montréal (formerly known as the Montreal Impact) are the city's professional soccer team. They play at a soccer-specific stadium called Saputo Stadium. They joined North America's biggest soccer league, Major League Soccer, in 2012. The Montreal games of the 2007 FIFA U-20 World Cup and 2014 FIFA U-20 Women's World Cup were held at Olympic Stadium, and the venue hosted Montreal games in the 2015 FIFA Women's World Cup.\\nMontreal is the site of a high-profile auto racing event each year: the Canadian Grand Prix of Formula One (F1) racing. This race takes place on the Circuit Gilles Villeneuve on Île Notre-Dame. In 2009, the race was dropped from the Formula One calendar, to the chagrin of some fans, but the Canadian Grand Prix returned to the Formula One calendar in 2010. It was dropped from the calendar again in 2020 and 2021, due to COVID-19 pandemic, but racing resumed in 2022, with the 2022 Canadian Grand Prix. The Circuit Gilles Villeneuve also hosted a round of the Champ Car World Series from 2002 to 2007, and was home to the NAPA Auto Parts 200, a NASCAR Nationwide Series race, and the Montréal 200, a Grand Am Rolex Sports Car Series race.\\nUniprix Stadium, built in 1993 on the site of Jarry Park, is used for the National Bank Open (formerly known as the Rogers Cup) men's and women's tennis tournaments. The men's tournament is a Masters 1000 event on the ATP Tour, and the women's tournament is a Premier tournament on the WTA Tour. The men's and women's tournaments alternate between Montreal and Toronto every year.\\n\\nMontreal was the host of the 1976 Summer Olympic Games. The stadium cost $1.5 billion; with interest that figure ballooned to nearly $3 billion, and was paid off in December 2006. Montreal also hosted the first ever World Outgames in the summer of 2006, attracting over 16,000 participants engaged in 35 sporting activities.\\nMontreal was the host city for the 17th unicycling world championship and convention (UNICON) in August 2014.\", start_char_idx=44662, end_char_idx=48481, text_template='{metadata_str}\\n\\n{content}', metadata_template='{key}: {value}', metadata_seperator='\\n'), score=0.7983349363951366)], metadata={'7a291fe4-3e93-4781-99b7-f03f132a4e5e': {}, '3ca1b7e6-23d8-46c7-a527-64f97939f194': {}}), is_error=False)"
            ]
          },
          "metadata": {},
          "execution_count": 16
        }
      ],
      "source": [
        "lc_tool.run(\n",
        "    tool_input={\n",
        "        \"pages\": [\"Montreal\"],\n",
        "        \"query_str\": \"What is the best restaurant in Montreal?\",\n",
        "    }\n",
        ")"
      ]
    },
    {
      "cell_type": "markdown",
      "id": "2bac4007-7121-4ab4-91e3-6706e59de6b7",
      "metadata": {
        "id": "2bac4007-7121-4ab4-91e3-6706e59de6b7"
      },
      "source": [
        "### Initialize LangChain Agent\n",
        "\n",
        "For tutorial purposes, the agent just has access to one tool - the Wikipedia Reader\n",
        "\n",
        "Note that we need to use Structured Tools from LangChain."
      ]
    },
    {
      "cell_type": "code",
      "execution_count": 17,
      "id": "bd77d986-23be-49d9-9522-d19b41f66a32",
      "metadata": {
        "id": "bd77d986-23be-49d9-9522-d19b41f66a32"
      },
      "outputs": [],
      "source": [
        "from langchain.agents import initialize_agent\n",
        "from langchain.chat_models import ChatOpenAI"
      ]
    },
    {
      "cell_type": "code",
      "execution_count": 28,
      "id": "8a789712-a285-495e-bf71-b61856e0848a",
      "metadata": {
        "id": "8a789712-a285-495e-bf71-b61856e0848a"
      },
      "outputs": [],
      "source": [
        "llm = ChatOpenAI(temperature=0, model_name=\"gpt-3.5-turbo\", streaming=True)\n",
        "\n",
        "llmGPT4 = ChatOpenAI(temperature=0, model_name=\"gpt-4\", streaming=True)"
      ]
    },
    {
      "cell_type": "code",
      "execution_count": 29,
      "id": "8a6ff85e-81ae-4b66-a83b-4d066eded32a",
      "metadata": {
        "id": "8a6ff85e-81ae-4b66-a83b-4d066eded32a"
      },
      "outputs": [],
      "source": [
        "agent = initialize_agent(\n",
        "    [lc_tool],\n",
        "    llm=llm,\n",
        "    agent=\"structured-chat-zero-shot-react-description\",\n",
        "    verbose=False,\n",
        ")"
      ]
    },
    {
      "cell_type": "code",
      "source": [
        "agentGPT4 = initialize_agent(\n",
        "    [lc_tool],\n",
        "    llm=llmGPT4,\n",
        "    agent=\"structured-chat-zero-shot-react-description\",\n",
        "    verbose=False,\n",
        ")"
      ],
      "metadata": {
        "id": "Gd8dsQH1AGvF"
      },
      "id": "Gd8dsQH1AGvF",
      "execution_count": 30,
      "outputs": []
    },
    {
      "cell_type": "markdown",
      "id": "56b88449-1291-470c-8b7c-cb49d2edbede",
      "metadata": {
        "id": "56b88449-1291-470c-8b7c-cb49d2edbede"
      },
      "source": [
        "# Now let's run some queries!\n",
        "\n",
        "The OnDemandLoaderTool allows the agent to simultaneously 1) load the data from Wikipedia, 2) query that data."
      ]
    },
    {
      "cell_type": "code",
      "execution_count": null,
      "id": "76e7a99f-2802-4e7e-ac8b-3810797fdc3c",
      "metadata": {
        "id": "76e7a99f-2802-4e7e-ac8b-3810797fdc3c"
      },
      "outputs": [],
      "source": [
        "agent.run(\"What is the best restaurant in Montreal?\")"
      ]
    },
    {
      "cell_type": "code",
      "source": [
        "agentGPT4.run(\"What is the best restaurant in Montreal?\")"
      ],
      "metadata": {
        "colab": {
          "base_uri": "https://localhost:8080/",
          "height": 159
        },
        "id": "7drxOLNuAS1W",
        "outputId": "1c68c3e2-3ee5-4a64-fa82-27df2660c823"
      },
      "id": "7drxOLNuAS1W",
      "execution_count": 33,
      "outputs": [
        {
          "output_type": "stream",
          "name": "stdout",
          "text": [
            "\n",
            "Observation: \u001b[36;1m\u001b[1;3mQuébécois restaurants such as Lafleur, Valentine, La Belle Province, and St-Hubert have played a significant role in showcasing traditional Québécois dishes and contributing to the culinary landscape of Québec. These restaurants have been instrumental in popularizing iconic dishes like poutine, tourtière, and guédille, offering locals and visitors alike a taste of authentic Québécois cuisine. Additionally, the influence of immigrants from various countries, particularly Italy, Greece, France, and Portugal, has led to the diversification of menus in Québécois restaurants, incorporating dishes like souvlaki pita, shawarmas, and other international flavors.\u001b[0m\n",
            "Thought:"
          ]
        },
        {
          "output_type": "execute_result",
          "data": {
            "text/plain": [
              "\"The 'best' restaurant can be subjective and depends on personal preferences, such as type of cuisine, ambiance, price range, etc. However, some of the most popular restaurants in Montreal for traditional Québécois cuisine include Lafleur, Valentine, La Belle Province, and St-Hubert. These restaurants have been instrumental in popularizing iconic dishes like poutine, tourtière, and guédille, offering locals and visitors alike a taste of authentic Québécois cuisine.\""
            ],
            "application/vnd.google.colaboratory.intrinsic+json": {
              "type": "string"
            }
          },
          "metadata": {},
          "execution_count": 33
        }
      ]
    }
  ],
  "metadata": {
    "kernelspec": {
      "display_name": "Python 3",
      "name": "python3"
    },
    "language_info": {
      "codemirror_mode": {
        "name": "ipython",
        "version": 3
      },
      "file_extension": ".py",
      "mimetype": "text/x-python",
      "name": "python",
      "nbconvert_exporter": "python",
      "pygments_lexer": "ipython3"
    },
    "colab": {
      "provenance": [],
      "machine_shape": "hm",
      "gpuType": "L4",
      "include_colab_link": true
    },
    "accelerator": "GPU"
  },
  "nbformat": 4,
  "nbformat_minor": 5
}