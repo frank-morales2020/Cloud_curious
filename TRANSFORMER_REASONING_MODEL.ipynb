{
  "nbformat": 4,
  "nbformat_minor": 0,
  "metadata": {
    "colab": {
      "provenance": [],
      "machine_shape": "hm",
      "gpuType": "L4",
      "authorship_tag": "ABX9TyMQFweKQVwpjxOi+/fMI/Os",
      "include_colab_link": true
    },
    "kernelspec": {
      "name": "python3",
      "display_name": "Python 3"
    },
    "language_info": {
      "name": "python"
    },
    "accelerator": "GPU"
  },
  "cells": [
    {
      "cell_type": "markdown",
      "metadata": {
        "id": "view-in-github",
        "colab_type": "text"
      },
      "source": [
        "<a href=\"https://colab.research.google.com/github/frank-morales2020/Cloud_curious/blob/master/TRANSFORMER_REASONING_MODEL.ipynb\" target=\"_parent\"><img src=\"https://colab.research.google.com/assets/colab-badge.svg\" alt=\"Open In Colab\"/></a>"
      ]
    },
    {
      "cell_type": "code",
      "source": [
        "!pip install datasets -q\n",
        "!pip install transformers -q\n",
        "!pip install torch -q"
      ],
      "metadata": {
        "id": "ANmkAB3Q6Fnv"
      },
      "execution_count": null,
      "outputs": []
    },
    {
      "cell_type": "code",
      "execution_count": 5,
      "metadata": {
        "colab": {
          "base_uri": "https://localhost:8080/"
        },
        "id": "ehV4SxTO5G7G",
        "outputId": "f9ca03d0-3561-46cc-fb6a-d8b4fe8ae63e"
      },
      "outputs": [
        {
          "output_type": "stream",
          "name": "stdout",
          "text": [
            "\n",
            "\n",
            "Training started...\n",
            "Device: cuda\n",
            "Optimizer: AdamW (\n",
            "Parameter Group 0\n",
            "    amsgrad: False\n",
            "    betas: (0.9, 0.999)\n",
            "    capturable: False\n",
            "    differentiable: False\n",
            "    eps: 1e-08\n",
            "    foreach: None\n",
            "    fused: None\n",
            "    initial_lr: 5e-05\n",
            "    lr: 0.0\n",
            "    maximize: False\n",
            "    weight_decay: 0.01\n",
            ")\n",
            "Scheduler: <torch.optim.lr_scheduler.LambdaLR object at 0x787249169090>\n",
            "Criterion: CrossEntropyLoss()\n",
            "Total Steps: 23400\n",
            "Warmup Steps: 1000\n",
            "Learning Rate: 5e-05\n",
            "Batch Size: 32\n",
            "Number of Epochs: 100\n",
            "Max Length: 128\n",
            "Dropout: 0.1\n",
            "D_Model: 256\n",
            "D_FF: 512\n",
            "Number of Layers: 3\n",
            "Number of Heads: 8\n",
            "Gradient Clipping: 1.0\n",
            "Warmup Steps: 1000\n",
            "Total Training Steps: 23400\n",
            "Vocabulary Size: 49237\n",
            "Updated Vocabulary Size: 49241\n",
            "Size of train_dataloader: 234\n",
            "Size of test_dataloader: 42\n",
            "\n",
            "\n"
          ]
        },
        {
          "output_type": "stream",
          "name": "stderr",
          "text": [
            "Epoch 1: 100%|██████████| 234/234 [00:22<00:00, 10.46it/s, loss=9.86]\n"
          ]
        },
        {
          "output_type": "stream",
          "name": "stdout",
          "text": [
            "Epoch 1 Training Loss: 10.5165\n"
          ]
        },
        {
          "output_type": "stream",
          "name": "stderr",
          "text": [
            "Epoch 1 Evaluation: 100%|██████████| 42/42 [00:01<00:00, 32.56it/s]\n"
          ]
        },
        {
          "output_type": "stream",
          "name": "stdout",
          "text": [
            "Epoch 1 Evaluation Loss: 9.8905\n"
          ]
        },
        {
          "output_type": "stream",
          "name": "stderr",
          "text": [
            "Epoch 2: 100%|██████████| 234/234 [00:22<00:00, 10.45it/s, loss=8.72]\n"
          ]
        },
        {
          "output_type": "stream",
          "name": "stdout",
          "text": [
            "Epoch 2 Training Loss: 9.3182\n"
          ]
        },
        {
          "output_type": "stream",
          "name": "stderr",
          "text": [
            "Epoch 2 Evaluation: 100%|██████████| 42/42 [00:01<00:00, 32.68it/s]\n"
          ]
        },
        {
          "output_type": "stream",
          "name": "stdout",
          "text": [
            "Epoch 2 Evaluation Loss: 8.7918\n"
          ]
        },
        {
          "output_type": "stream",
          "name": "stderr",
          "text": [
            "Epoch 3: 100%|██████████| 234/234 [00:22<00:00, 10.46it/s, loss=7.53]\n"
          ]
        },
        {
          "output_type": "stream",
          "name": "stdout",
          "text": [
            "Epoch 3 Training Loss: 8.0671\n"
          ]
        },
        {
          "output_type": "stream",
          "name": "stderr",
          "text": [
            "Epoch 3 Evaluation: 100%|██████████| 42/42 [00:01<00:00, 32.56it/s]\n"
          ]
        },
        {
          "output_type": "stream",
          "name": "stdout",
          "text": [
            "Epoch 3 Evaluation Loss: 7.5804\n"
          ]
        },
        {
          "output_type": "stream",
          "name": "stderr",
          "text": [
            "Epoch 4: 100%|██████████| 234/234 [00:22<00:00, 10.37it/s, loss=6.92]\n"
          ]
        },
        {
          "output_type": "stream",
          "name": "stdout",
          "text": [
            "Epoch 4 Training Loss: 7.1488\n"
          ]
        },
        {
          "output_type": "stream",
          "name": "stderr",
          "text": [
            "Epoch 4 Evaluation: 100%|██████████| 42/42 [00:01<00:00, 32.72it/s]\n"
          ]
        },
        {
          "output_type": "stream",
          "name": "stdout",
          "text": [
            "Epoch 4 Evaluation Loss: 7.0628\n"
          ]
        },
        {
          "output_type": "stream",
          "name": "stderr",
          "text": [
            "Epoch 5: 100%|██████████| 234/234 [00:22<00:00, 10.31it/s, loss=6.49]\n"
          ]
        },
        {
          "output_type": "stream",
          "name": "stdout",
          "text": [
            "Epoch 5 Training Loss: 6.6946\n"
          ]
        },
        {
          "output_type": "stream",
          "name": "stderr",
          "text": [
            "Epoch 5 Evaluation: 100%|██████████| 42/42 [00:01<00:00, 32.55it/s]\n"
          ]
        },
        {
          "output_type": "stream",
          "name": "stdout",
          "text": [
            "Epoch 5 Evaluation Loss: 6.6831\n"
          ]
        },
        {
          "output_type": "stream",
          "name": "stderr",
          "text": [
            "Epoch 6: 100%|██████████| 234/234 [00:22<00:00, 10.32it/s, loss=6.28]\n"
          ]
        },
        {
          "output_type": "stream",
          "name": "stdout",
          "text": [
            "Epoch 6 Training Loss: 6.3713\n"
          ]
        },
        {
          "output_type": "stream",
          "name": "stderr",
          "text": [
            "Epoch 6 Evaluation: 100%|██████████| 42/42 [00:01<00:00, 32.46it/s]\n"
          ]
        },
        {
          "output_type": "stream",
          "name": "stdout",
          "text": [
            "Epoch 6 Evaluation Loss: 6.4499\n"
          ]
        },
        {
          "output_type": "stream",
          "name": "stderr",
          "text": [
            "Epoch 7: 100%|██████████| 234/234 [00:22<00:00, 10.24it/s, loss=6.1]\n"
          ]
        },
        {
          "output_type": "stream",
          "name": "stdout",
          "text": [
            "Epoch 7 Training Loss: 6.1448\n"
          ]
        },
        {
          "output_type": "stream",
          "name": "stderr",
          "text": [
            "Epoch 7 Evaluation: 100%|██████████| 42/42 [00:01<00:00, 32.47it/s]\n"
          ]
        },
        {
          "output_type": "stream",
          "name": "stdout",
          "text": [
            "Epoch 7 Evaluation Loss: 6.2883\n"
          ]
        },
        {
          "output_type": "stream",
          "name": "stderr",
          "text": [
            "Epoch 8: 100%|██████████| 234/234 [00:22<00:00, 10.29it/s, loss=5.59]\n"
          ]
        },
        {
          "output_type": "stream",
          "name": "stdout",
          "text": [
            "Epoch 8 Training Loss: 5.9646\n"
          ]
        },
        {
          "output_type": "stream",
          "name": "stderr",
          "text": [
            "Epoch 8 Evaluation: 100%|██████████| 42/42 [00:01<00:00, 32.23it/s]\n"
          ]
        },
        {
          "output_type": "stream",
          "name": "stdout",
          "text": [
            "Epoch 8 Evaluation Loss: 6.1542\n"
          ]
        },
        {
          "output_type": "stream",
          "name": "stderr",
          "text": [
            "Epoch 9: 100%|██████████| 234/234 [00:22<00:00, 10.24it/s, loss=5.49]\n"
          ]
        },
        {
          "output_type": "stream",
          "name": "stdout",
          "text": [
            "Epoch 9 Training Loss: 5.8120\n"
          ]
        },
        {
          "output_type": "stream",
          "name": "stderr",
          "text": [
            "Epoch 9 Evaluation: 100%|██████████| 42/42 [00:01<00:00, 32.24it/s]\n"
          ]
        },
        {
          "output_type": "stream",
          "name": "stdout",
          "text": [
            "Epoch 9 Evaluation Loss: 6.0496\n"
          ]
        },
        {
          "output_type": "stream",
          "name": "stderr",
          "text": [
            "Epoch 10: 100%|██████████| 234/234 [00:22<00:00, 10.27it/s, loss=5.79]\n"
          ]
        },
        {
          "output_type": "stream",
          "name": "stdout",
          "text": [
            "Epoch 10 Training Loss: 5.6814\n"
          ]
        },
        {
          "output_type": "stream",
          "name": "stderr",
          "text": [
            "Epoch 10 Evaluation: 100%|██████████| 42/42 [00:01<00:00, 32.36it/s]\n"
          ]
        },
        {
          "output_type": "stream",
          "name": "stdout",
          "text": [
            "Epoch 10 Evaluation Loss: 5.9586\n"
          ]
        },
        {
          "output_type": "stream",
          "name": "stderr",
          "text": [
            "Epoch 11: 100%|██████████| 234/234 [00:22<00:00, 10.28it/s, loss=5.74]\n"
          ]
        },
        {
          "output_type": "stream",
          "name": "stdout",
          "text": [
            "Epoch 11 Training Loss: 5.5643\n"
          ]
        },
        {
          "output_type": "stream",
          "name": "stderr",
          "text": [
            "Epoch 11 Evaluation: 100%|██████████| 42/42 [00:01<00:00, 32.41it/s]\n"
          ]
        },
        {
          "output_type": "stream",
          "name": "stdout",
          "text": [
            "Epoch 11 Evaluation Loss: 5.8836\n"
          ]
        },
        {
          "output_type": "stream",
          "name": "stderr",
          "text": [
            "Epoch 12: 100%|██████████| 234/234 [00:22<00:00, 10.27it/s, loss=5.56]\n"
          ]
        },
        {
          "output_type": "stream",
          "name": "stdout",
          "text": [
            "Epoch 12 Training Loss: 5.4578\n"
          ]
        },
        {
          "output_type": "stream",
          "name": "stderr",
          "text": [
            "Epoch 12 Evaluation: 100%|██████████| 42/42 [00:01<00:00, 32.15it/s]\n"
          ]
        },
        {
          "output_type": "stream",
          "name": "stdout",
          "text": [
            "Epoch 12 Evaluation Loss: 5.8192\n"
          ]
        },
        {
          "output_type": "stream",
          "name": "stderr",
          "text": [
            "Epoch 13: 100%|██████████| 234/234 [00:22<00:00, 10.22it/s, loss=5.17]\n"
          ]
        },
        {
          "output_type": "stream",
          "name": "stdout",
          "text": [
            "Epoch 13 Training Loss: 5.3618\n"
          ]
        },
        {
          "output_type": "stream",
          "name": "stderr",
          "text": [
            "Epoch 13 Evaluation: 100%|██████████| 42/42 [00:01<00:00, 31.84it/s]\n"
          ]
        },
        {
          "output_type": "stream",
          "name": "stdout",
          "text": [
            "Epoch 13 Evaluation Loss: 5.7453\n"
          ]
        },
        {
          "output_type": "stream",
          "name": "stderr",
          "text": [
            "Epoch 14: 100%|██████████| 234/234 [00:22<00:00, 10.22it/s, loss=5.28]\n"
          ]
        },
        {
          "output_type": "stream",
          "name": "stdout",
          "text": [
            "Epoch 14 Training Loss: 5.2741\n"
          ]
        },
        {
          "output_type": "stream",
          "name": "stderr",
          "text": [
            "Epoch 14 Evaluation: 100%|██████████| 42/42 [00:01<00:00, 32.14it/s]\n"
          ]
        },
        {
          "output_type": "stream",
          "name": "stdout",
          "text": [
            "Epoch 14 Evaluation Loss: 5.6863\n"
          ]
        },
        {
          "output_type": "stream",
          "name": "stderr",
          "text": [
            "Epoch 15: 100%|██████████| 234/234 [00:22<00:00, 10.22it/s, loss=5.04]\n"
          ]
        },
        {
          "output_type": "stream",
          "name": "stdout",
          "text": [
            "Epoch 15 Training Loss: 5.1900\n"
          ]
        },
        {
          "output_type": "stream",
          "name": "stderr",
          "text": [
            "Epoch 15 Evaluation: 100%|██████████| 42/42 [00:01<00:00, 31.96it/s]\n"
          ]
        },
        {
          "output_type": "stream",
          "name": "stdout",
          "text": [
            "Epoch 15 Evaluation Loss: 5.6405\n"
          ]
        },
        {
          "output_type": "stream",
          "name": "stderr",
          "text": [
            "Epoch 16: 100%|██████████| 234/234 [00:22<00:00, 10.25it/s, loss=5.08]\n"
          ]
        },
        {
          "output_type": "stream",
          "name": "stdout",
          "text": [
            "Epoch 16 Training Loss: 5.1143\n"
          ]
        },
        {
          "output_type": "stream",
          "name": "stderr",
          "text": [
            "Epoch 16 Evaluation: 100%|██████████| 42/42 [00:01<00:00, 32.16it/s]\n"
          ]
        },
        {
          "output_type": "stream",
          "name": "stdout",
          "text": [
            "Epoch 16 Evaluation Loss: 5.5923\n"
          ]
        },
        {
          "output_type": "stream",
          "name": "stderr",
          "text": [
            "Epoch 17: 100%|██████████| 234/234 [00:22<00:00, 10.23it/s, loss=5.14]\n"
          ]
        },
        {
          "output_type": "stream",
          "name": "stdout",
          "text": [
            "Epoch 17 Training Loss: 5.0387\n"
          ]
        },
        {
          "output_type": "stream",
          "name": "stderr",
          "text": [
            "Epoch 17 Evaluation: 100%|██████████| 42/42 [00:01<00:00, 31.99it/s]\n"
          ]
        },
        {
          "output_type": "stream",
          "name": "stdout",
          "text": [
            "Epoch 17 Evaluation Loss: 5.5604\n"
          ]
        },
        {
          "output_type": "stream",
          "name": "stderr",
          "text": [
            "Epoch 18: 100%|██████████| 234/234 [00:22<00:00, 10.28it/s, loss=5.01]\n"
          ]
        },
        {
          "output_type": "stream",
          "name": "stdout",
          "text": [
            "Epoch 18 Training Loss: 4.9713\n"
          ]
        },
        {
          "output_type": "stream",
          "name": "stderr",
          "text": [
            "Epoch 18 Evaluation: 100%|██████████| 42/42 [00:01<00:00, 32.19it/s]\n"
          ]
        },
        {
          "output_type": "stream",
          "name": "stdout",
          "text": [
            "Epoch 18 Evaluation Loss: 5.5289\n"
          ]
        },
        {
          "output_type": "stream",
          "name": "stderr",
          "text": [
            "Epoch 19: 100%|██████████| 234/234 [00:22<00:00, 10.24it/s, loss=5]\n"
          ]
        },
        {
          "output_type": "stream",
          "name": "stdout",
          "text": [
            "Epoch 19 Training Loss: 4.9050\n"
          ]
        },
        {
          "output_type": "stream",
          "name": "stderr",
          "text": [
            "Epoch 19 Evaluation: 100%|██████████| 42/42 [00:01<00:00, 32.17it/s]\n"
          ]
        },
        {
          "output_type": "stream",
          "name": "stdout",
          "text": [
            "Epoch 19 Evaluation Loss: 5.5015\n"
          ]
        },
        {
          "output_type": "stream",
          "name": "stderr",
          "text": [
            "Epoch 20: 100%|██████████| 234/234 [00:22<00:00, 10.28it/s, loss=4.69]\n"
          ]
        },
        {
          "output_type": "stream",
          "name": "stdout",
          "text": [
            "Epoch 20 Training Loss: 4.8415\n"
          ]
        },
        {
          "output_type": "stream",
          "name": "stderr",
          "text": [
            "Epoch 20 Evaluation: 100%|██████████| 42/42 [00:01<00:00, 32.11it/s]\n"
          ]
        },
        {
          "output_type": "stream",
          "name": "stdout",
          "text": [
            "Epoch 20 Evaluation Loss: 5.4685\n"
          ]
        },
        {
          "output_type": "stream",
          "name": "stderr",
          "text": [
            "Epoch 21: 100%|██████████| 234/234 [00:22<00:00, 10.29it/s, loss=5.08]\n"
          ]
        },
        {
          "output_type": "stream",
          "name": "stdout",
          "text": [
            "Epoch 21 Training Loss: 4.7842\n"
          ]
        },
        {
          "output_type": "stream",
          "name": "stderr",
          "text": [
            "Epoch 21 Evaluation: 100%|██████████| 42/42 [00:01<00:00, 32.04it/s]\n"
          ]
        },
        {
          "output_type": "stream",
          "name": "stdout",
          "text": [
            "Epoch 21 Evaluation Loss: 5.4349\n"
          ]
        },
        {
          "output_type": "stream",
          "name": "stderr",
          "text": [
            "Epoch 22: 100%|██████████| 234/234 [00:22<00:00, 10.21it/s, loss=4.53]\n"
          ]
        },
        {
          "output_type": "stream",
          "name": "stdout",
          "text": [
            "Epoch 22 Training Loss: 4.7267\n"
          ]
        },
        {
          "output_type": "stream",
          "name": "stderr",
          "text": [
            "Epoch 22 Evaluation: 100%|██████████| 42/42 [00:01<00:00, 32.09it/s]\n"
          ]
        },
        {
          "output_type": "stream",
          "name": "stdout",
          "text": [
            "Epoch 22 Evaluation Loss: 5.4134\n"
          ]
        },
        {
          "output_type": "stream",
          "name": "stderr",
          "text": [
            "Epoch 23: 100%|██████████| 234/234 [00:22<00:00, 10.24it/s, loss=4.44]\n"
          ]
        },
        {
          "output_type": "stream",
          "name": "stdout",
          "text": [
            "Epoch 23 Training Loss: 4.6714\n"
          ]
        },
        {
          "output_type": "stream",
          "name": "stderr",
          "text": [
            "Epoch 23 Evaluation: 100%|██████████| 42/42 [00:01<00:00, 32.16it/s]\n"
          ]
        },
        {
          "output_type": "stream",
          "name": "stdout",
          "text": [
            "Epoch 23 Evaluation Loss: 5.3899\n"
          ]
        },
        {
          "output_type": "stream",
          "name": "stderr",
          "text": [
            "Epoch 24: 100%|██████████| 234/234 [00:22<00:00, 10.23it/s, loss=4.79]\n"
          ]
        },
        {
          "output_type": "stream",
          "name": "stdout",
          "text": [
            "Epoch 24 Training Loss: 4.6201\n"
          ]
        },
        {
          "output_type": "stream",
          "name": "stderr",
          "text": [
            "Epoch 24 Evaluation: 100%|██████████| 42/42 [00:01<00:00, 32.24it/s]\n"
          ]
        },
        {
          "output_type": "stream",
          "name": "stdout",
          "text": [
            "Epoch 24 Evaluation Loss: 5.3682\n"
          ]
        },
        {
          "output_type": "stream",
          "name": "stderr",
          "text": [
            "Epoch 25: 100%|██████████| 234/234 [00:22<00:00, 10.23it/s, loss=4.6]\n"
          ]
        },
        {
          "output_type": "stream",
          "name": "stdout",
          "text": [
            "Epoch 25 Training Loss: 4.5694\n"
          ]
        },
        {
          "output_type": "stream",
          "name": "stderr",
          "text": [
            "Epoch 25 Evaluation: 100%|██████████| 42/42 [00:01<00:00, 32.17it/s]\n"
          ]
        },
        {
          "output_type": "stream",
          "name": "stdout",
          "text": [
            "Epoch 25 Evaluation Loss: 5.3540\n"
          ]
        },
        {
          "output_type": "stream",
          "name": "stderr",
          "text": [
            "Epoch 26: 100%|██████████| 234/234 [00:22<00:00, 10.31it/s, loss=4.21]\n"
          ]
        },
        {
          "output_type": "stream",
          "name": "stdout",
          "text": [
            "Epoch 26 Training Loss: 4.5209\n"
          ]
        },
        {
          "output_type": "stream",
          "name": "stderr",
          "text": [
            "Epoch 26 Evaluation: 100%|██████████| 42/42 [00:01<00:00, 32.19it/s]\n"
          ]
        },
        {
          "output_type": "stream",
          "name": "stdout",
          "text": [
            "Epoch 26 Evaluation Loss: 5.3474\n"
          ]
        },
        {
          "output_type": "stream",
          "name": "stderr",
          "text": [
            "Epoch 27: 100%|██████████| 234/234 [00:22<00:00, 10.24it/s, loss=4.64]\n"
          ]
        },
        {
          "output_type": "stream",
          "name": "stdout",
          "text": [
            "Epoch 27 Training Loss: 4.4730\n"
          ]
        },
        {
          "output_type": "stream",
          "name": "stderr",
          "text": [
            "Epoch 27 Evaluation: 100%|██████████| 42/42 [00:01<00:00, 32.13it/s]\n"
          ]
        },
        {
          "output_type": "stream",
          "name": "stdout",
          "text": [
            "Epoch 27 Evaluation Loss: 5.3104\n"
          ]
        },
        {
          "output_type": "stream",
          "name": "stderr",
          "text": [
            "Epoch 28: 100%|██████████| 234/234 [00:22<00:00, 10.28it/s, loss=4.3]\n"
          ]
        },
        {
          "output_type": "stream",
          "name": "stdout",
          "text": [
            "Epoch 28 Training Loss: 4.4271\n"
          ]
        },
        {
          "output_type": "stream",
          "name": "stderr",
          "text": [
            "Epoch 28 Evaluation: 100%|██████████| 42/42 [00:01<00:00, 32.16it/s]\n"
          ]
        },
        {
          "output_type": "stream",
          "name": "stdout",
          "text": [
            "Epoch 28 Evaluation Loss: 5.3001\n"
          ]
        },
        {
          "output_type": "stream",
          "name": "stderr",
          "text": [
            "Epoch 29: 100%|██████████| 234/234 [00:22<00:00, 10.22it/s, loss=4.28]\n"
          ]
        },
        {
          "output_type": "stream",
          "name": "stdout",
          "text": [
            "Epoch 29 Training Loss: 4.3830\n"
          ]
        },
        {
          "output_type": "stream",
          "name": "stderr",
          "text": [
            "Epoch 29 Evaluation: 100%|██████████| 42/42 [00:01<00:00, 32.31it/s]\n"
          ]
        },
        {
          "output_type": "stream",
          "name": "stdout",
          "text": [
            "Epoch 29 Evaluation Loss: 5.2878\n"
          ]
        },
        {
          "output_type": "stream",
          "name": "stderr",
          "text": [
            "Epoch 30: 100%|██████████| 234/234 [00:22<00:00, 10.28it/s, loss=4.4]\n"
          ]
        },
        {
          "output_type": "stream",
          "name": "stdout",
          "text": [
            "Epoch 30 Training Loss: 4.3393\n"
          ]
        },
        {
          "output_type": "stream",
          "name": "stderr",
          "text": [
            "Epoch 30 Evaluation: 100%|██████████| 42/42 [00:01<00:00, 32.06it/s]\n"
          ]
        },
        {
          "output_type": "stream",
          "name": "stdout",
          "text": [
            "Epoch 30 Evaluation Loss: 5.2893\n"
          ]
        },
        {
          "output_type": "stream",
          "name": "stderr",
          "text": [
            "Epoch 31: 100%|██████████| 234/234 [00:22<00:00, 10.24it/s, loss=4.66]\n"
          ]
        },
        {
          "output_type": "stream",
          "name": "stdout",
          "text": [
            "Epoch 31 Training Loss: 4.2997\n"
          ]
        },
        {
          "output_type": "stream",
          "name": "stderr",
          "text": [
            "Epoch 31 Evaluation: 100%|██████████| 42/42 [00:01<00:00, 31.95it/s]\n"
          ]
        },
        {
          "output_type": "stream",
          "name": "stdout",
          "text": [
            "Epoch 31 Evaluation Loss: 5.2766\n"
          ]
        },
        {
          "output_type": "stream",
          "name": "stderr",
          "text": [
            "Epoch 32: 100%|██████████| 234/234 [00:22<00:00, 10.18it/s, loss=4.61]\n"
          ]
        },
        {
          "output_type": "stream",
          "name": "stdout",
          "text": [
            "Epoch 32 Training Loss: 4.2566\n"
          ]
        },
        {
          "output_type": "stream",
          "name": "stderr",
          "text": [
            "Epoch 32 Evaluation: 100%|██████████| 42/42 [00:01<00:00, 32.18it/s]\n"
          ]
        },
        {
          "output_type": "stream",
          "name": "stdout",
          "text": [
            "Epoch 32 Evaluation Loss: 5.2551\n"
          ]
        },
        {
          "output_type": "stream",
          "name": "stderr",
          "text": [
            "Epoch 33: 100%|██████████| 234/234 [00:22<00:00, 10.24it/s, loss=4.24]\n"
          ]
        },
        {
          "output_type": "stream",
          "name": "stdout",
          "text": [
            "Epoch 33 Training Loss: 4.2160\n"
          ]
        },
        {
          "output_type": "stream",
          "name": "stderr",
          "text": [
            "Epoch 33 Evaluation: 100%|██████████| 42/42 [00:01<00:00, 32.06it/s]\n"
          ]
        },
        {
          "output_type": "stream",
          "name": "stdout",
          "text": [
            "Epoch 33 Evaluation Loss: 5.2424\n"
          ]
        },
        {
          "output_type": "stream",
          "name": "stderr",
          "text": [
            "Epoch 34: 100%|██████████| 234/234 [00:22<00:00, 10.25it/s, loss=4.57]\n"
          ]
        },
        {
          "output_type": "stream",
          "name": "stdout",
          "text": [
            "Epoch 34 Training Loss: 4.1783\n"
          ]
        },
        {
          "output_type": "stream",
          "name": "stderr",
          "text": [
            "Epoch 34 Evaluation: 100%|██████████| 42/42 [00:01<00:00, 32.16it/s]\n"
          ]
        },
        {
          "output_type": "stream",
          "name": "stdout",
          "text": [
            "Epoch 34 Evaluation Loss: 5.2457\n"
          ]
        },
        {
          "output_type": "stream",
          "name": "stderr",
          "text": [
            "Epoch 35: 100%|██████████| 234/234 [00:22<00:00, 10.29it/s, loss=4.24]\n"
          ]
        },
        {
          "output_type": "stream",
          "name": "stdout",
          "text": [
            "Epoch 35 Training Loss: 4.1406\n"
          ]
        },
        {
          "output_type": "stream",
          "name": "stderr",
          "text": [
            "Epoch 35 Evaluation: 100%|██████████| 42/42 [00:01<00:00, 32.01it/s]\n"
          ]
        },
        {
          "output_type": "stream",
          "name": "stdout",
          "text": [
            "Epoch 35 Evaluation Loss: 5.2286\n"
          ]
        },
        {
          "output_type": "stream",
          "name": "stderr",
          "text": [
            "Epoch 36: 100%|██████████| 234/234 [00:22<00:00, 10.23it/s, loss=4.34]\n"
          ]
        },
        {
          "output_type": "stream",
          "name": "stdout",
          "text": [
            "Epoch 36 Training Loss: 4.1045\n"
          ]
        },
        {
          "output_type": "stream",
          "name": "stderr",
          "text": [
            "Epoch 36 Evaluation: 100%|██████████| 42/42 [00:01<00:00, 32.10it/s]\n"
          ]
        },
        {
          "output_type": "stream",
          "name": "stdout",
          "text": [
            "Epoch 36 Evaluation Loss: 5.2312\n"
          ]
        },
        {
          "output_type": "stream",
          "name": "stderr",
          "text": [
            "Epoch 37: 100%|██████████| 234/234 [00:22<00:00, 10.25it/s, loss=3.85]\n"
          ]
        },
        {
          "output_type": "stream",
          "name": "stdout",
          "text": [
            "Epoch 37 Training Loss: 4.0666\n"
          ]
        },
        {
          "output_type": "stream",
          "name": "stderr",
          "text": [
            "Epoch 37 Evaluation: 100%|██████████| 42/42 [00:01<00:00, 31.98it/s]\n"
          ]
        },
        {
          "output_type": "stream",
          "name": "stdout",
          "text": [
            "Epoch 37 Evaluation Loss: 5.2328\n"
          ]
        },
        {
          "output_type": "stream",
          "name": "stderr",
          "text": [
            "Epoch 38: 100%|██████████| 234/234 [00:22<00:00, 10.21it/s, loss=3.89]\n"
          ]
        },
        {
          "output_type": "stream",
          "name": "stdout",
          "text": [
            "Epoch 38 Training Loss: 4.0316\n"
          ]
        },
        {
          "output_type": "stream",
          "name": "stderr",
          "text": [
            "Epoch 38 Evaluation: 100%|██████████| 42/42 [00:01<00:00, 31.96it/s]\n"
          ]
        },
        {
          "output_type": "stream",
          "name": "stdout",
          "text": [
            "Epoch 38 Evaluation Loss: 5.2122\n"
          ]
        },
        {
          "output_type": "stream",
          "name": "stderr",
          "text": [
            "Epoch 39: 100%|██████████| 234/234 [00:22<00:00, 10.24it/s, loss=4.09]\n"
          ]
        },
        {
          "output_type": "stream",
          "name": "stdout",
          "text": [
            "Epoch 39 Training Loss: 3.9988\n"
          ]
        },
        {
          "output_type": "stream",
          "name": "stderr",
          "text": [
            "Epoch 39 Evaluation: 100%|██████████| 42/42 [00:01<00:00, 31.94it/s]\n"
          ]
        },
        {
          "output_type": "stream",
          "name": "stdout",
          "text": [
            "Epoch 39 Evaluation Loss: 5.2031\n"
          ]
        },
        {
          "output_type": "stream",
          "name": "stderr",
          "text": [
            "Epoch 40: 100%|██████████| 234/234 [00:22<00:00, 10.25it/s, loss=3.98]\n"
          ]
        },
        {
          "output_type": "stream",
          "name": "stdout",
          "text": [
            "Epoch 40 Training Loss: 3.9639\n"
          ]
        },
        {
          "output_type": "stream",
          "name": "stderr",
          "text": [
            "Epoch 40 Evaluation: 100%|██████████| 42/42 [00:01<00:00, 32.17it/s]\n"
          ]
        },
        {
          "output_type": "stream",
          "name": "stdout",
          "text": [
            "Epoch 40 Evaluation Loss: 5.2098\n"
          ]
        },
        {
          "output_type": "stream",
          "name": "stderr",
          "text": [
            "Epoch 41: 100%|██████████| 234/234 [00:22<00:00, 10.22it/s, loss=3.95]\n"
          ]
        },
        {
          "output_type": "stream",
          "name": "stdout",
          "text": [
            "Epoch 41 Training Loss: 3.9315\n"
          ]
        },
        {
          "output_type": "stream",
          "name": "stderr",
          "text": [
            "Epoch 41 Evaluation: 100%|██████████| 42/42 [00:01<00:00, 32.13it/s]\n"
          ]
        },
        {
          "output_type": "stream",
          "name": "stdout",
          "text": [
            "Epoch 41 Evaluation Loss: 5.1949\n"
          ]
        },
        {
          "output_type": "stream",
          "name": "stderr",
          "text": [
            "Epoch 42: 100%|██████████| 234/234 [00:22<00:00, 10.22it/s, loss=3.67]\n"
          ]
        },
        {
          "output_type": "stream",
          "name": "stdout",
          "text": [
            "Epoch 42 Training Loss: 3.9016\n"
          ]
        },
        {
          "output_type": "stream",
          "name": "stderr",
          "text": [
            "Epoch 42 Evaluation: 100%|██████████| 42/42 [00:01<00:00, 31.97it/s]\n"
          ]
        },
        {
          "output_type": "stream",
          "name": "stdout",
          "text": [
            "Epoch 42 Evaluation Loss: 5.1944\n"
          ]
        },
        {
          "output_type": "stream",
          "name": "stderr",
          "text": [
            "Epoch 43: 100%|██████████| 234/234 [00:22<00:00, 10.21it/s, loss=3.76]\n"
          ]
        },
        {
          "output_type": "stream",
          "name": "stdout",
          "text": [
            "Epoch 43 Training Loss: 3.8675\n"
          ]
        },
        {
          "output_type": "stream",
          "name": "stderr",
          "text": [
            "Epoch 43 Evaluation: 100%|██████████| 42/42 [00:01<00:00, 32.14it/s]\n"
          ]
        },
        {
          "output_type": "stream",
          "name": "stdout",
          "text": [
            "Epoch 43 Evaluation Loss: 5.1988\n"
          ]
        },
        {
          "output_type": "stream",
          "name": "stderr",
          "text": [
            "Epoch 44: 100%|██████████| 234/234 [00:22<00:00, 10.25it/s, loss=3.55]\n"
          ]
        },
        {
          "output_type": "stream",
          "name": "stdout",
          "text": [
            "Epoch 44 Training Loss: 3.8385\n"
          ]
        },
        {
          "output_type": "stream",
          "name": "stderr",
          "text": [
            "Epoch 44 Evaluation: 100%|██████████| 42/42 [00:01<00:00, 31.93it/s]\n"
          ]
        },
        {
          "output_type": "stream",
          "name": "stdout",
          "text": [
            "Epoch 44 Evaluation Loss: 5.1940\n"
          ]
        },
        {
          "output_type": "stream",
          "name": "stderr",
          "text": [
            "Epoch 45: 100%|██████████| 234/234 [00:22<00:00, 10.26it/s, loss=4.02]\n"
          ]
        },
        {
          "output_type": "stream",
          "name": "stdout",
          "text": [
            "Epoch 45 Training Loss: 3.8095\n"
          ]
        },
        {
          "output_type": "stream",
          "name": "stderr",
          "text": [
            "Epoch 45 Evaluation: 100%|██████████| 42/42 [00:01<00:00, 31.94it/s]\n"
          ]
        },
        {
          "output_type": "stream",
          "name": "stdout",
          "text": [
            "Epoch 45 Evaluation Loss: 5.1704\n"
          ]
        },
        {
          "output_type": "stream",
          "name": "stderr",
          "text": [
            "Epoch 46: 100%|██████████| 234/234 [00:22<00:00, 10.24it/s, loss=3.98]\n"
          ]
        },
        {
          "output_type": "stream",
          "name": "stdout",
          "text": [
            "Epoch 46 Training Loss: 3.7822\n"
          ]
        },
        {
          "output_type": "stream",
          "name": "stderr",
          "text": [
            "Epoch 46 Evaluation: 100%|██████████| 42/42 [00:01<00:00, 32.14it/s]\n"
          ]
        },
        {
          "output_type": "stream",
          "name": "stdout",
          "text": [
            "Epoch 46 Evaluation Loss: 5.1886\n"
          ]
        },
        {
          "output_type": "stream",
          "name": "stderr",
          "text": [
            "Epoch 47: 100%|██████████| 234/234 [00:22<00:00, 10.25it/s, loss=3.75]\n"
          ]
        },
        {
          "output_type": "stream",
          "name": "stdout",
          "text": [
            "Epoch 47 Training Loss: 3.7513\n"
          ]
        },
        {
          "output_type": "stream",
          "name": "stderr",
          "text": [
            "Epoch 47 Evaluation: 100%|██████████| 42/42 [00:01<00:00, 32.11it/s]\n"
          ]
        },
        {
          "output_type": "stream",
          "name": "stdout",
          "text": [
            "Epoch 47 Evaluation Loss: 5.1775\n"
          ]
        },
        {
          "output_type": "stream",
          "name": "stderr",
          "text": [
            "Epoch 48: 100%|██████████| 234/234 [00:22<00:00, 10.25it/s, loss=3.74]\n"
          ]
        },
        {
          "output_type": "stream",
          "name": "stdout",
          "text": [
            "Epoch 48 Training Loss: 3.7238\n"
          ]
        },
        {
          "output_type": "stream",
          "name": "stderr",
          "text": [
            "Epoch 48 Evaluation: 100%|██████████| 42/42 [00:01<00:00, 31.98it/s]\n"
          ]
        },
        {
          "output_type": "stream",
          "name": "stdout",
          "text": [
            "Epoch 48 Evaluation Loss: 5.1910\n"
          ]
        },
        {
          "output_type": "stream",
          "name": "stderr",
          "text": [
            "Epoch 49: 100%|██████████| 234/234 [00:22<00:00, 10.22it/s, loss=3.62]\n"
          ]
        },
        {
          "output_type": "stream",
          "name": "stdout",
          "text": [
            "Epoch 49 Training Loss: 3.6953\n"
          ]
        },
        {
          "output_type": "stream",
          "name": "stderr",
          "text": [
            "Epoch 49 Evaluation: 100%|██████████| 42/42 [00:01<00:00, 31.92it/s]\n"
          ]
        },
        {
          "output_type": "stream",
          "name": "stdout",
          "text": [
            "Epoch 49 Evaluation Loss: 5.1727\n"
          ]
        },
        {
          "output_type": "stream",
          "name": "stderr",
          "text": [
            "Epoch 50: 100%|██████████| 234/234 [00:22<00:00, 10.26it/s, loss=3.51]\n"
          ]
        },
        {
          "output_type": "stream",
          "name": "stdout",
          "text": [
            "Epoch 50 Training Loss: 3.6698\n"
          ]
        },
        {
          "output_type": "stream",
          "name": "stderr",
          "text": [
            "Epoch 50 Evaluation: 100%|██████████| 42/42 [00:01<00:00, 31.97it/s]\n"
          ]
        },
        {
          "output_type": "stream",
          "name": "stdout",
          "text": [
            "Epoch 50 Evaluation Loss: 5.1836\n"
          ]
        },
        {
          "output_type": "stream",
          "name": "stderr",
          "text": [
            "Epoch 51: 100%|██████████| 234/234 [00:22<00:00, 10.24it/s, loss=3.64]\n"
          ]
        },
        {
          "output_type": "stream",
          "name": "stdout",
          "text": [
            "Epoch 51 Training Loss: 3.6447\n"
          ]
        },
        {
          "output_type": "stream",
          "name": "stderr",
          "text": [
            "Epoch 51 Evaluation: 100%|██████████| 42/42 [00:01<00:00, 32.22it/s]\n"
          ]
        },
        {
          "output_type": "stream",
          "name": "stdout",
          "text": [
            "Epoch 51 Evaluation Loss: 5.1910\n"
          ]
        },
        {
          "output_type": "stream",
          "name": "stderr",
          "text": [
            "Epoch 52: 100%|██████████| 234/234 [00:22<00:00, 10.23it/s, loss=3.41]\n"
          ]
        },
        {
          "output_type": "stream",
          "name": "stdout",
          "text": [
            "Epoch 52 Training Loss: 3.6176\n"
          ]
        },
        {
          "output_type": "stream",
          "name": "stderr",
          "text": [
            "Epoch 52 Evaluation: 100%|██████████| 42/42 [00:01<00:00, 31.94it/s]\n"
          ]
        },
        {
          "output_type": "stream",
          "name": "stdout",
          "text": [
            "Epoch 52 Evaluation Loss: 5.1925\n"
          ]
        },
        {
          "output_type": "stream",
          "name": "stderr",
          "text": [
            "Epoch 53: 100%|██████████| 234/234 [00:22<00:00, 10.19it/s, loss=3.47]\n"
          ]
        },
        {
          "output_type": "stream",
          "name": "stdout",
          "text": [
            "Epoch 53 Training Loss: 3.5931\n"
          ]
        },
        {
          "output_type": "stream",
          "name": "stderr",
          "text": [
            "Epoch 53 Evaluation: 100%|██████████| 42/42 [00:01<00:00, 32.04it/s]\n"
          ]
        },
        {
          "output_type": "stream",
          "name": "stdout",
          "text": [
            "Epoch 53 Evaluation Loss: 5.1688\n"
          ]
        },
        {
          "output_type": "stream",
          "name": "stderr",
          "text": [
            "Epoch 54: 100%|██████████| 234/234 [00:22<00:00, 10.18it/s, loss=3.66]\n"
          ]
        },
        {
          "output_type": "stream",
          "name": "stdout",
          "text": [
            "Epoch 54 Training Loss: 3.5690\n"
          ]
        },
        {
          "output_type": "stream",
          "name": "stderr",
          "text": [
            "Epoch 54 Evaluation: 100%|██████████| 42/42 [00:01<00:00, 32.12it/s]\n"
          ]
        },
        {
          "output_type": "stream",
          "name": "stdout",
          "text": [
            "Epoch 54 Evaluation Loss: 5.1737\n"
          ]
        },
        {
          "output_type": "stream",
          "name": "stderr",
          "text": [
            "Epoch 55: 100%|██████████| 234/234 [00:23<00:00, 10.15it/s, loss=3.46]\n"
          ]
        },
        {
          "output_type": "stream",
          "name": "stdout",
          "text": [
            "Epoch 55 Training Loss: 3.5471\n"
          ]
        },
        {
          "output_type": "stream",
          "name": "stderr",
          "text": [
            "Epoch 55 Evaluation: 100%|██████████| 42/42 [00:01<00:00, 31.91it/s]\n"
          ]
        },
        {
          "output_type": "stream",
          "name": "stdout",
          "text": [
            "Epoch 55 Evaluation Loss: 5.1727\n"
          ]
        },
        {
          "output_type": "stream",
          "name": "stderr",
          "text": [
            "Epoch 56: 100%|██████████| 234/234 [00:22<00:00, 10.24it/s, loss=3.62]\n"
          ]
        },
        {
          "output_type": "stream",
          "name": "stdout",
          "text": [
            "Epoch 56 Training Loss: 3.5243\n"
          ]
        },
        {
          "output_type": "stream",
          "name": "stderr",
          "text": [
            "Epoch 56 Evaluation: 100%|██████████| 42/42 [00:01<00:00, 32.08it/s]\n"
          ]
        },
        {
          "output_type": "stream",
          "name": "stdout",
          "text": [
            "Epoch 56 Evaluation Loss: 5.1852\n"
          ]
        },
        {
          "output_type": "stream",
          "name": "stderr",
          "text": [
            "Epoch 57: 100%|██████████| 234/234 [00:22<00:00, 10.23it/s, loss=3.82]\n"
          ]
        },
        {
          "output_type": "stream",
          "name": "stdout",
          "text": [
            "Epoch 57 Training Loss: 3.5015\n"
          ]
        },
        {
          "output_type": "stream",
          "name": "stderr",
          "text": [
            "Epoch 57 Evaluation: 100%|██████████| 42/42 [00:01<00:00, 31.78it/s]\n"
          ]
        },
        {
          "output_type": "stream",
          "name": "stdout",
          "text": [
            "Epoch 57 Evaluation Loss: 5.1631\n"
          ]
        },
        {
          "output_type": "stream",
          "name": "stderr",
          "text": [
            "Epoch 58: 100%|██████████| 234/234 [00:22<00:00, 10.27it/s, loss=3.53]\n"
          ]
        },
        {
          "output_type": "stream",
          "name": "stdout",
          "text": [
            "Epoch 58 Training Loss: 3.4805\n"
          ]
        },
        {
          "output_type": "stream",
          "name": "stderr",
          "text": [
            "Epoch 58 Evaluation: 100%|██████████| 42/42 [00:01<00:00, 31.91it/s]\n"
          ]
        },
        {
          "output_type": "stream",
          "name": "stdout",
          "text": [
            "Epoch 58 Evaluation Loss: 5.1656\n"
          ]
        },
        {
          "output_type": "stream",
          "name": "stderr",
          "text": [
            "Epoch 59: 100%|██████████| 234/234 [00:22<00:00, 10.21it/s, loss=3.39]\n"
          ]
        },
        {
          "output_type": "stream",
          "name": "stdout",
          "text": [
            "Epoch 59 Training Loss: 3.4607\n"
          ]
        },
        {
          "output_type": "stream",
          "name": "stderr",
          "text": [
            "Epoch 59 Evaluation: 100%|██████████| 42/42 [00:01<00:00, 31.99it/s]\n"
          ]
        },
        {
          "output_type": "stream",
          "name": "stdout",
          "text": [
            "Epoch 59 Evaluation Loss: 5.1674\n"
          ]
        },
        {
          "output_type": "stream",
          "name": "stderr",
          "text": [
            "Epoch 60: 100%|██████████| 234/234 [00:22<00:00, 10.21it/s, loss=3.63]\n"
          ]
        },
        {
          "output_type": "stream",
          "name": "stdout",
          "text": [
            "Epoch 60 Training Loss: 3.4390\n"
          ]
        },
        {
          "output_type": "stream",
          "name": "stderr",
          "text": [
            "Epoch 60 Evaluation: 100%|██████████| 42/42 [00:01<00:00, 32.13it/s]\n"
          ]
        },
        {
          "output_type": "stream",
          "name": "stdout",
          "text": [
            "Epoch 60 Evaluation Loss: 5.1593\n"
          ]
        },
        {
          "output_type": "stream",
          "name": "stderr",
          "text": [
            "Epoch 61: 100%|██████████| 234/234 [00:22<00:00, 10.27it/s, loss=3.42]\n"
          ]
        },
        {
          "output_type": "stream",
          "name": "stdout",
          "text": [
            "Epoch 61 Training Loss: 3.4186\n"
          ]
        },
        {
          "output_type": "stream",
          "name": "stderr",
          "text": [
            "Epoch 61 Evaluation: 100%|██████████| 42/42 [00:01<00:00, 32.12it/s]\n"
          ]
        },
        {
          "output_type": "stream",
          "name": "stdout",
          "text": [
            "Epoch 61 Evaluation Loss: 5.1733\n"
          ]
        },
        {
          "output_type": "stream",
          "name": "stderr",
          "text": [
            "Epoch 62: 100%|██████████| 234/234 [00:22<00:00, 10.22it/s, loss=3.42]\n"
          ]
        },
        {
          "output_type": "stream",
          "name": "stdout",
          "text": [
            "Epoch 62 Training Loss: 3.4004\n"
          ]
        },
        {
          "output_type": "stream",
          "name": "stderr",
          "text": [
            "Epoch 62 Evaluation: 100%|██████████| 42/42 [00:01<00:00, 32.10it/s]\n"
          ]
        },
        {
          "output_type": "stream",
          "name": "stdout",
          "text": [
            "Epoch 62 Evaluation Loss: 5.1634\n"
          ]
        },
        {
          "output_type": "stream",
          "name": "stderr",
          "text": [
            "Epoch 63: 100%|██████████| 234/234 [00:22<00:00, 10.23it/s, loss=3.18]\n"
          ]
        },
        {
          "output_type": "stream",
          "name": "stdout",
          "text": [
            "Epoch 63 Training Loss: 3.3793\n"
          ]
        },
        {
          "output_type": "stream",
          "name": "stderr",
          "text": [
            "Epoch 63 Evaluation: 100%|██████████| 42/42 [00:01<00:00, 32.04it/s]\n"
          ]
        },
        {
          "output_type": "stream",
          "name": "stdout",
          "text": [
            "Epoch 63 Evaluation Loss: 5.1712\n"
          ]
        },
        {
          "output_type": "stream",
          "name": "stderr",
          "text": [
            "Epoch 64: 100%|██████████| 234/234 [00:22<00:00, 10.27it/s, loss=3.52]\n"
          ]
        },
        {
          "output_type": "stream",
          "name": "stdout",
          "text": [
            "Epoch 64 Training Loss: 3.3627\n"
          ]
        },
        {
          "output_type": "stream",
          "name": "stderr",
          "text": [
            "Epoch 64 Evaluation: 100%|██████████| 42/42 [00:01<00:00, 32.14it/s]\n"
          ]
        },
        {
          "output_type": "stream",
          "name": "stdout",
          "text": [
            "Epoch 64 Evaluation Loss: 5.1577\n"
          ]
        },
        {
          "output_type": "stream",
          "name": "stderr",
          "text": [
            "Epoch 65: 100%|██████████| 234/234 [00:22<00:00, 10.26it/s, loss=3.43]\n"
          ]
        },
        {
          "output_type": "stream",
          "name": "stdout",
          "text": [
            "Epoch 65 Training Loss: 3.3447\n"
          ]
        },
        {
          "output_type": "stream",
          "name": "stderr",
          "text": [
            "Epoch 65 Evaluation: 100%|██████████| 42/42 [00:01<00:00, 32.08it/s]\n"
          ]
        },
        {
          "output_type": "stream",
          "name": "stdout",
          "text": [
            "Epoch 65 Evaluation Loss: 5.1722\n"
          ]
        },
        {
          "output_type": "stream",
          "name": "stderr",
          "text": [
            "Epoch 66: 100%|██████████| 234/234 [00:22<00:00, 10.28it/s, loss=3.33]\n"
          ]
        },
        {
          "output_type": "stream",
          "name": "stdout",
          "text": [
            "Epoch 66 Training Loss: 3.3298\n"
          ]
        },
        {
          "output_type": "stream",
          "name": "stderr",
          "text": [
            "Epoch 66 Evaluation: 100%|██████████| 42/42 [00:01<00:00, 32.05it/s]\n"
          ]
        },
        {
          "output_type": "stream",
          "name": "stdout",
          "text": [
            "Epoch 66 Evaluation Loss: 5.1710\n"
          ]
        },
        {
          "output_type": "stream",
          "name": "stderr",
          "text": [
            "Epoch 67: 100%|██████████| 234/234 [00:22<00:00, 10.20it/s, loss=3.42]\n"
          ]
        },
        {
          "output_type": "stream",
          "name": "stdout",
          "text": [
            "Epoch 67 Training Loss: 3.3092\n"
          ]
        },
        {
          "output_type": "stream",
          "name": "stderr",
          "text": [
            "Epoch 67 Evaluation: 100%|██████████| 42/42 [00:01<00:00, 31.98it/s]\n"
          ]
        },
        {
          "output_type": "stream",
          "name": "stdout",
          "text": [
            "Epoch 67 Evaluation Loss: 5.1661\n"
          ]
        },
        {
          "output_type": "stream",
          "name": "stderr",
          "text": [
            "Epoch 68: 100%|██████████| 234/234 [00:22<00:00, 10.23it/s, loss=3.24]\n"
          ]
        },
        {
          "output_type": "stream",
          "name": "stdout",
          "text": [
            "Epoch 68 Training Loss: 3.2936\n"
          ]
        },
        {
          "output_type": "stream",
          "name": "stderr",
          "text": [
            "Epoch 68 Evaluation: 100%|██████████| 42/42 [00:01<00:00, 31.98it/s]\n"
          ]
        },
        {
          "output_type": "stream",
          "name": "stdout",
          "text": [
            "Epoch 68 Evaluation Loss: 5.1587\n"
          ]
        },
        {
          "output_type": "stream",
          "name": "stderr",
          "text": [
            "Epoch 69: 100%|██████████| 234/234 [00:23<00:00, 10.15it/s, loss=3.35]\n"
          ]
        },
        {
          "output_type": "stream",
          "name": "stdout",
          "text": [
            "Epoch 69 Training Loss: 3.2802\n"
          ]
        },
        {
          "output_type": "stream",
          "name": "stderr",
          "text": [
            "Epoch 69 Evaluation: 100%|██████████| 42/42 [00:01<00:00, 32.10it/s]\n"
          ]
        },
        {
          "output_type": "stream",
          "name": "stdout",
          "text": [
            "Epoch 69 Evaluation Loss: 5.1718\n"
          ]
        },
        {
          "output_type": "stream",
          "name": "stderr",
          "text": [
            "Epoch 70: 100%|██████████| 234/234 [00:22<00:00, 10.22it/s, loss=3.23]\n"
          ]
        },
        {
          "output_type": "stream",
          "name": "stdout",
          "text": [
            "Epoch 70 Training Loss: 3.2632\n"
          ]
        },
        {
          "output_type": "stream",
          "name": "stderr",
          "text": [
            "Epoch 70 Evaluation: 100%|██████████| 42/42 [00:01<00:00, 32.02it/s]\n"
          ]
        },
        {
          "output_type": "stream",
          "name": "stdout",
          "text": [
            "Epoch 70 Evaluation Loss: 5.1686\n"
          ]
        },
        {
          "output_type": "stream",
          "name": "stderr",
          "text": [
            "Epoch 71: 100%|██████████| 234/234 [00:22<00:00, 10.22it/s, loss=3.46]\n"
          ]
        },
        {
          "output_type": "stream",
          "name": "stdout",
          "text": [
            "Epoch 71 Training Loss: 3.2482\n"
          ]
        },
        {
          "output_type": "stream",
          "name": "stderr",
          "text": [
            "Epoch 71 Evaluation: 100%|██████████| 42/42 [00:01<00:00, 32.11it/s]\n"
          ]
        },
        {
          "output_type": "stream",
          "name": "stdout",
          "text": [
            "Epoch 71 Evaluation Loss: 5.1655\n"
          ]
        },
        {
          "output_type": "stream",
          "name": "stderr",
          "text": [
            "Epoch 72: 100%|██████████| 234/234 [00:22<00:00, 10.19it/s, loss=3.38]\n"
          ]
        },
        {
          "output_type": "stream",
          "name": "stdout",
          "text": [
            "Epoch 72 Training Loss: 3.2328\n"
          ]
        },
        {
          "output_type": "stream",
          "name": "stderr",
          "text": [
            "Epoch 72 Evaluation: 100%|██████████| 42/42 [00:01<00:00, 32.07it/s]\n"
          ]
        },
        {
          "output_type": "stream",
          "name": "stdout",
          "text": [
            "Epoch 72 Evaluation Loss: 5.1690\n"
          ]
        },
        {
          "output_type": "stream",
          "name": "stderr",
          "text": [
            "Epoch 73: 100%|██████████| 234/234 [00:22<00:00, 10.24it/s, loss=3.1]\n"
          ]
        },
        {
          "output_type": "stream",
          "name": "stdout",
          "text": [
            "Epoch 73 Training Loss: 3.2189\n"
          ]
        },
        {
          "output_type": "stream",
          "name": "stderr",
          "text": [
            "Epoch 73 Evaluation: 100%|██████████| 42/42 [00:01<00:00, 31.83it/s]\n"
          ]
        },
        {
          "output_type": "stream",
          "name": "stdout",
          "text": [
            "Epoch 73 Evaluation Loss: 5.1671\n"
          ]
        },
        {
          "output_type": "stream",
          "name": "stderr",
          "text": [
            "Epoch 74: 100%|██████████| 234/234 [00:22<00:00, 10.22it/s, loss=3.45]\n"
          ]
        },
        {
          "output_type": "stream",
          "name": "stdout",
          "text": [
            "Epoch 74 Training Loss: 3.2068\n"
          ]
        },
        {
          "output_type": "stream",
          "name": "stderr",
          "text": [
            "Epoch 74 Evaluation: 100%|██████████| 42/42 [00:01<00:00, 31.98it/s]\n"
          ]
        },
        {
          "output_type": "stream",
          "name": "stdout",
          "text": [
            "Epoch 74 Evaluation Loss: 5.1623\n"
          ]
        },
        {
          "output_type": "stream",
          "name": "stderr",
          "text": [
            "Epoch 75: 100%|██████████| 234/234 [00:22<00:00, 10.19it/s, loss=3.14]\n"
          ]
        },
        {
          "output_type": "stream",
          "name": "stdout",
          "text": [
            "Epoch 75 Training Loss: 3.1942\n"
          ]
        },
        {
          "output_type": "stream",
          "name": "stderr",
          "text": [
            "Epoch 75 Evaluation: 100%|██████████| 42/42 [00:01<00:00, 31.78it/s]\n"
          ]
        },
        {
          "output_type": "stream",
          "name": "stdout",
          "text": [
            "Epoch 75 Evaluation Loss: 5.1664\n"
          ]
        },
        {
          "output_type": "stream",
          "name": "stderr",
          "text": [
            "Epoch 76: 100%|██████████| 234/234 [00:22<00:00, 10.18it/s, loss=3.17]\n"
          ]
        },
        {
          "output_type": "stream",
          "name": "stdout",
          "text": [
            "Epoch 76 Training Loss: 3.1809\n"
          ]
        },
        {
          "output_type": "stream",
          "name": "stderr",
          "text": [
            "Epoch 76 Evaluation: 100%|██████████| 42/42 [00:01<00:00, 32.07it/s]\n"
          ]
        },
        {
          "output_type": "stream",
          "name": "stdout",
          "text": [
            "Epoch 76 Evaluation Loss: 5.1693\n"
          ]
        },
        {
          "output_type": "stream",
          "name": "stderr",
          "text": [
            "Epoch 77: 100%|██████████| 234/234 [00:22<00:00, 10.21it/s, loss=3.46]\n"
          ]
        },
        {
          "output_type": "stream",
          "name": "stdout",
          "text": [
            "Epoch 77 Training Loss: 3.1691\n"
          ]
        },
        {
          "output_type": "stream",
          "name": "stderr",
          "text": [
            "Epoch 77 Evaluation: 100%|██████████| 42/42 [00:01<00:00, 32.06it/s]\n"
          ]
        },
        {
          "output_type": "stream",
          "name": "stdout",
          "text": [
            "Epoch 77 Evaluation Loss: 5.1713\n"
          ]
        },
        {
          "output_type": "stream",
          "name": "stderr",
          "text": [
            "Epoch 78: 100%|██████████| 234/234 [00:22<00:00, 10.21it/s, loss=3.31]\n"
          ]
        },
        {
          "output_type": "stream",
          "name": "stdout",
          "text": [
            "Epoch 78 Training Loss: 3.1577\n"
          ]
        },
        {
          "output_type": "stream",
          "name": "stderr",
          "text": [
            "Epoch 78 Evaluation: 100%|██████████| 42/42 [00:01<00:00, 32.06it/s]\n"
          ]
        },
        {
          "output_type": "stream",
          "name": "stdout",
          "text": [
            "Epoch 78 Evaluation Loss: 5.1663\n"
          ]
        },
        {
          "output_type": "stream",
          "name": "stderr",
          "text": [
            "Epoch 79: 100%|██████████| 234/234 [00:22<00:00, 10.24it/s, loss=3.19]\n"
          ]
        },
        {
          "output_type": "stream",
          "name": "stdout",
          "text": [
            "Epoch 79 Training Loss: 3.1465\n"
          ]
        },
        {
          "output_type": "stream",
          "name": "stderr",
          "text": [
            "Epoch 79 Evaluation: 100%|██████████| 42/42 [00:01<00:00, 32.05it/s]\n"
          ]
        },
        {
          "output_type": "stream",
          "name": "stdout",
          "text": [
            "Epoch 79 Evaluation Loss: 5.1620\n"
          ]
        },
        {
          "output_type": "stream",
          "name": "stderr",
          "text": [
            "Epoch 80: 100%|██████████| 234/234 [00:22<00:00, 10.24it/s, loss=2.98]\n"
          ]
        },
        {
          "output_type": "stream",
          "name": "stdout",
          "text": [
            "Epoch 80 Training Loss: 3.1365\n"
          ]
        },
        {
          "output_type": "stream",
          "name": "stderr",
          "text": [
            "Epoch 80 Evaluation: 100%|██████████| 42/42 [00:01<00:00, 31.93it/s]\n"
          ]
        },
        {
          "output_type": "stream",
          "name": "stdout",
          "text": [
            "Epoch 80 Evaluation Loss: 5.1761\n"
          ]
        },
        {
          "output_type": "stream",
          "name": "stderr",
          "text": [
            "Epoch 81: 100%|██████████| 234/234 [00:22<00:00, 10.21it/s, loss=3.05]\n"
          ]
        },
        {
          "output_type": "stream",
          "name": "stdout",
          "text": [
            "Epoch 81 Training Loss: 3.1253\n"
          ]
        },
        {
          "output_type": "stream",
          "name": "stderr",
          "text": [
            "Epoch 81 Evaluation: 100%|██████████| 42/42 [00:01<00:00, 32.15it/s]\n"
          ]
        },
        {
          "output_type": "stream",
          "name": "stdout",
          "text": [
            "Epoch 81 Evaluation Loss: 5.1677\n"
          ]
        },
        {
          "output_type": "stream",
          "name": "stderr",
          "text": [
            "Epoch 82: 100%|██████████| 234/234 [00:22<00:00, 10.23it/s, loss=3.33]\n"
          ]
        },
        {
          "output_type": "stream",
          "name": "stdout",
          "text": [
            "Epoch 82 Training Loss: 3.1171\n"
          ]
        },
        {
          "output_type": "stream",
          "name": "stderr",
          "text": [
            "Epoch 82 Evaluation: 100%|██████████| 42/42 [00:01<00:00, 32.02it/s]\n"
          ]
        },
        {
          "output_type": "stream",
          "name": "stdout",
          "text": [
            "Epoch 82 Evaluation Loss: 5.1565\n"
          ]
        },
        {
          "output_type": "stream",
          "name": "stderr",
          "text": [
            "Epoch 83: 100%|██████████| 234/234 [00:22<00:00, 10.26it/s, loss=3.13]\n"
          ]
        },
        {
          "output_type": "stream",
          "name": "stdout",
          "text": [
            "Epoch 83 Training Loss: 3.1081\n"
          ]
        },
        {
          "output_type": "stream",
          "name": "stderr",
          "text": [
            "Epoch 83 Evaluation: 100%|██████████| 42/42 [00:01<00:00, 31.95it/s]\n"
          ]
        },
        {
          "output_type": "stream",
          "name": "stdout",
          "text": [
            "Epoch 83 Evaluation Loss: 5.1695\n"
          ]
        },
        {
          "output_type": "stream",
          "name": "stderr",
          "text": [
            "Epoch 84: 100%|██████████| 234/234 [00:23<00:00, 10.16it/s, loss=3.03]\n"
          ]
        },
        {
          "output_type": "stream",
          "name": "stdout",
          "text": [
            "Epoch 84 Training Loss: 3.0994\n"
          ]
        },
        {
          "output_type": "stream",
          "name": "stderr",
          "text": [
            "Epoch 84 Evaluation: 100%|██████████| 42/42 [00:01<00:00, 31.98it/s]\n"
          ]
        },
        {
          "output_type": "stream",
          "name": "stdout",
          "text": [
            "Epoch 84 Evaluation Loss: 5.1633\n"
          ]
        },
        {
          "output_type": "stream",
          "name": "stderr",
          "text": [
            "Epoch 85: 100%|██████████| 234/234 [00:22<00:00, 10.22it/s, loss=2.91]\n"
          ]
        },
        {
          "output_type": "stream",
          "name": "stdout",
          "text": [
            "Epoch 85 Training Loss: 3.0908\n"
          ]
        },
        {
          "output_type": "stream",
          "name": "stderr",
          "text": [
            "Epoch 85 Evaluation: 100%|██████████| 42/42 [00:01<00:00, 32.20it/s]\n"
          ]
        },
        {
          "output_type": "stream",
          "name": "stdout",
          "text": [
            "Epoch 85 Evaluation Loss: 5.1713\n"
          ]
        },
        {
          "output_type": "stream",
          "name": "stderr",
          "text": [
            "Epoch 86: 100%|██████████| 234/234 [00:22<00:00, 10.22it/s, loss=3.12]\n"
          ]
        },
        {
          "output_type": "stream",
          "name": "stdout",
          "text": [
            "Epoch 86 Training Loss: 3.0833\n"
          ]
        },
        {
          "output_type": "stream",
          "name": "stderr",
          "text": [
            "Epoch 86 Evaluation: 100%|██████████| 42/42 [00:01<00:00, 32.04it/s]\n"
          ]
        },
        {
          "output_type": "stream",
          "name": "stdout",
          "text": [
            "Epoch 86 Evaluation Loss: 5.1683\n"
          ]
        },
        {
          "output_type": "stream",
          "name": "stderr",
          "text": [
            "Epoch 87: 100%|██████████| 234/234 [00:22<00:00, 10.24it/s, loss=3.08]\n"
          ]
        },
        {
          "output_type": "stream",
          "name": "stdout",
          "text": [
            "Epoch 87 Training Loss: 3.0782\n"
          ]
        },
        {
          "output_type": "stream",
          "name": "stderr",
          "text": [
            "Epoch 87 Evaluation: 100%|██████████| 42/42 [00:01<00:00, 31.99it/s]\n"
          ]
        },
        {
          "output_type": "stream",
          "name": "stdout",
          "text": [
            "Epoch 87 Evaluation Loss: 5.1661\n"
          ]
        },
        {
          "output_type": "stream",
          "name": "stderr",
          "text": [
            "Epoch 88: 100%|██████████| 234/234 [00:22<00:00, 10.25it/s, loss=2.92]\n"
          ]
        },
        {
          "output_type": "stream",
          "name": "stdout",
          "text": [
            "Epoch 88 Training Loss: 3.0715\n"
          ]
        },
        {
          "output_type": "stream",
          "name": "stderr",
          "text": [
            "Epoch 88 Evaluation: 100%|██████████| 42/42 [00:01<00:00, 32.26it/s]\n"
          ]
        },
        {
          "output_type": "stream",
          "name": "stdout",
          "text": [
            "Epoch 88 Evaluation Loss: 5.1697\n"
          ]
        },
        {
          "output_type": "stream",
          "name": "stderr",
          "text": [
            "Epoch 89: 100%|██████████| 234/234 [00:22<00:00, 10.19it/s, loss=3.02]\n"
          ]
        },
        {
          "output_type": "stream",
          "name": "stdout",
          "text": [
            "Epoch 89 Training Loss: 3.0633\n"
          ]
        },
        {
          "output_type": "stream",
          "name": "stderr",
          "text": [
            "Epoch 89 Evaluation: 100%|██████████| 42/42 [00:01<00:00, 32.11it/s]\n"
          ]
        },
        {
          "output_type": "stream",
          "name": "stdout",
          "text": [
            "Epoch 89 Evaluation Loss: 5.1616\n"
          ]
        },
        {
          "output_type": "stream",
          "name": "stderr",
          "text": [
            "Epoch 90: 100%|██████████| 234/234 [00:22<00:00, 10.27it/s, loss=2.99]\n"
          ]
        },
        {
          "output_type": "stream",
          "name": "stdout",
          "text": [
            "Epoch 90 Training Loss: 3.0584\n"
          ]
        },
        {
          "output_type": "stream",
          "name": "stderr",
          "text": [
            "Epoch 90 Evaluation: 100%|██████████| 42/42 [00:01<00:00, 31.99it/s]\n"
          ]
        },
        {
          "output_type": "stream",
          "name": "stdout",
          "text": [
            "Epoch 90 Evaluation Loss: 5.1655\n"
          ]
        },
        {
          "output_type": "stream",
          "name": "stderr",
          "text": [
            "Epoch 91: 100%|██████████| 234/234 [00:22<00:00, 10.20it/s, loss=3.2]\n"
          ]
        },
        {
          "output_type": "stream",
          "name": "stdout",
          "text": [
            "Epoch 91 Training Loss: 3.0539\n"
          ]
        },
        {
          "output_type": "stream",
          "name": "stderr",
          "text": [
            "Epoch 91 Evaluation: 100%|██████████| 42/42 [00:01<00:00, 32.02it/s]\n"
          ]
        },
        {
          "output_type": "stream",
          "name": "stdout",
          "text": [
            "Epoch 91 Evaluation Loss: 5.1696\n"
          ]
        },
        {
          "output_type": "stream",
          "name": "stderr",
          "text": [
            "Epoch 92: 100%|██████████| 234/234 [00:22<00:00, 10.19it/s, loss=2.85]\n"
          ]
        },
        {
          "output_type": "stream",
          "name": "stdout",
          "text": [
            "Epoch 92 Training Loss: 3.0492\n"
          ]
        },
        {
          "output_type": "stream",
          "name": "stderr",
          "text": [
            "Epoch 92 Evaluation: 100%|██████████| 42/42 [00:01<00:00, 31.94it/s]\n"
          ]
        },
        {
          "output_type": "stream",
          "name": "stdout",
          "text": [
            "Epoch 92 Evaluation Loss: 5.1702\n"
          ]
        },
        {
          "output_type": "stream",
          "name": "stderr",
          "text": [
            "Epoch 93: 100%|██████████| 234/234 [00:23<00:00, 10.16it/s, loss=3.15]\n"
          ]
        },
        {
          "output_type": "stream",
          "name": "stdout",
          "text": [
            "Epoch 93 Training Loss: 3.0434\n"
          ]
        },
        {
          "output_type": "stream",
          "name": "stderr",
          "text": [
            "Epoch 93 Evaluation: 100%|██████████| 42/42 [00:01<00:00, 31.78it/s]\n"
          ]
        },
        {
          "output_type": "stream",
          "name": "stdout",
          "text": [
            "Epoch 93 Evaluation Loss: 5.1682\n"
          ]
        },
        {
          "output_type": "stream",
          "name": "stderr",
          "text": [
            "Epoch 94: 100%|██████████| 234/234 [00:23<00:00, 10.17it/s, loss=2.7]\n"
          ]
        },
        {
          "output_type": "stream",
          "name": "stdout",
          "text": [
            "Epoch 94 Training Loss: 3.0395\n"
          ]
        },
        {
          "output_type": "stream",
          "name": "stderr",
          "text": [
            "Epoch 94 Evaluation: 100%|██████████| 42/42 [00:01<00:00, 32.17it/s]\n"
          ]
        },
        {
          "output_type": "stream",
          "name": "stdout",
          "text": [
            "Epoch 94 Evaluation Loss: 5.1659\n"
          ]
        },
        {
          "output_type": "stream",
          "name": "stderr",
          "text": [
            "Epoch 95: 100%|██████████| 234/234 [00:23<00:00, 10.17it/s, loss=2.85]\n"
          ]
        },
        {
          "output_type": "stream",
          "name": "stdout",
          "text": [
            "Epoch 95 Training Loss: 3.0383\n"
          ]
        },
        {
          "output_type": "stream",
          "name": "stderr",
          "text": [
            "Epoch 95 Evaluation: 100%|██████████| 42/42 [00:01<00:00, 32.00it/s]\n"
          ]
        },
        {
          "output_type": "stream",
          "name": "stdout",
          "text": [
            "Epoch 95 Evaluation Loss: 5.1678\n"
          ]
        },
        {
          "output_type": "stream",
          "name": "stderr",
          "text": [
            "Epoch 96: 100%|██████████| 234/234 [00:23<00:00, 10.16it/s, loss=3.07]\n"
          ]
        },
        {
          "output_type": "stream",
          "name": "stdout",
          "text": [
            "Epoch 96 Training Loss: 3.0343\n"
          ]
        },
        {
          "output_type": "stream",
          "name": "stderr",
          "text": [
            "Epoch 96 Evaluation: 100%|██████████| 42/42 [00:01<00:00, 32.13it/s]\n"
          ]
        },
        {
          "output_type": "stream",
          "name": "stdout",
          "text": [
            "Epoch 96 Evaluation Loss: 5.1677\n"
          ]
        },
        {
          "output_type": "stream",
          "name": "stderr",
          "text": [
            "Epoch 97: 100%|██████████| 234/234 [00:23<00:00, 10.16it/s, loss=2.91]\n"
          ]
        },
        {
          "output_type": "stream",
          "name": "stdout",
          "text": [
            "Epoch 97 Training Loss: 3.0336\n"
          ]
        },
        {
          "output_type": "stream",
          "name": "stderr",
          "text": [
            "Epoch 97 Evaluation: 100%|██████████| 42/42 [00:01<00:00, 32.15it/s]\n"
          ]
        },
        {
          "output_type": "stream",
          "name": "stdout",
          "text": [
            "Epoch 97 Evaluation Loss: 5.1663\n"
          ]
        },
        {
          "output_type": "stream",
          "name": "stderr",
          "text": [
            "Epoch 98: 100%|██████████| 234/234 [00:22<00:00, 10.27it/s, loss=3.07]\n"
          ]
        },
        {
          "output_type": "stream",
          "name": "stdout",
          "text": [
            "Epoch 98 Training Loss: 3.0275\n"
          ]
        },
        {
          "output_type": "stream",
          "name": "stderr",
          "text": [
            "Epoch 98 Evaluation: 100%|██████████| 42/42 [00:01<00:00, 32.07it/s]\n"
          ]
        },
        {
          "output_type": "stream",
          "name": "stdout",
          "text": [
            "Epoch 98 Evaluation Loss: 5.1686\n"
          ]
        },
        {
          "output_type": "stream",
          "name": "stderr",
          "text": [
            "Epoch 99: 100%|██████████| 234/234 [00:22<00:00, 10.20it/s, loss=2.76]\n"
          ]
        },
        {
          "output_type": "stream",
          "name": "stdout",
          "text": [
            "Epoch 99 Training Loss: 3.0283\n"
          ]
        },
        {
          "output_type": "stream",
          "name": "stderr",
          "text": [
            "Epoch 99 Evaluation: 100%|██████████| 42/42 [00:01<00:00, 32.12it/s]\n"
          ]
        },
        {
          "output_type": "stream",
          "name": "stdout",
          "text": [
            "Epoch 99 Evaluation Loss: 5.1674\n"
          ]
        },
        {
          "output_type": "stream",
          "name": "stderr",
          "text": [
            "Epoch 100: 100%|██████████| 234/234 [00:22<00:00, 10.22it/s, loss=2.84]\n"
          ]
        },
        {
          "output_type": "stream",
          "name": "stdout",
          "text": [
            "Epoch 100 Training Loss: 3.0294\n"
          ]
        },
        {
          "output_type": "stream",
          "name": "stderr",
          "text": [
            "Epoch 100 Evaluation: 100%|██████████| 42/42 [00:01<00:00, 31.92it/s]"
          ]
        },
        {
          "output_type": "stream",
          "name": "stdout",
          "text": [
            "Epoch 100 Evaluation Loss: 5.1663\n"
          ]
        },
        {
          "output_type": "stream",
          "name": "stderr",
          "text": [
            "\n"
          ]
        }
      ],
      "source": [
        "import torch\n",
        "import torch.nn as nn\n",
        "import torch.nn.functional as F\n",
        "import math\n",
        "from datasets import load_dataset\n",
        "from torch.utils.data import Dataset, DataLoader\n",
        "from transformers import get_linear_schedule_with_warmup\n",
        "from torch.optim import AdamW\n",
        "from tqdm import tqdm\n",
        "\n",
        "# --- Hyperparameters ---\n",
        "BATCH_SIZE = 32\n",
        "LEARNING_RATE = 5e-5\n",
        "NUM_EPOCHS = 100\n",
        "D_MODEL = 256  # Reduced for faster training on a smaller scale\n",
        "NUM_HEADS = 8\n",
        "NUM_LAYERS = 3  # Reduced for faster training\n",
        "D_FF = 512\n",
        "DROPOUT = 0.1\n",
        "MAX_LEN = 128  # Maximum sequence length\n",
        "WARMUP_STEPS = 1000\n",
        "GRADIENT_CLIPPING = 1.0\n",
        "\n",
        "# --- Load the GSM8k Dataset ---\n",
        "gsm8k_dataset = load_dataset(\"gsm8k\", \"main\")\n",
        "train_dataset = gsm8k_dataset['train']\n",
        "test_dataset = gsm8k_dataset['test']\n",
        "\n",
        "# --- Vocabulary Creation ---\n",
        "def build_vocabulary(examples):\n",
        "    tokenizer = set()\n",
        "    for example in examples:\n",
        "        text = example['question'] + \" \" + example['answer']\n",
        "        tokenizer.update(text.lower().split())\n",
        "    return sorted(list(tokenizer))\n",
        "\n",
        "vocabulary = build_vocabulary(train_dataset)\n",
        "vocab_size = len(vocabulary)\n",
        "word_to_index = {word: i for i, word in enumerate(vocabulary)}\n",
        "index_to_word = {i: word for word, i in word_to_index.items()}\n",
        "\n",
        "# Add special tokens\n",
        "PAD_TOKEN = \"<pad>\"\n",
        "START_TOKEN = \"<start>\"\n",
        "END_TOKEN = \"<end>\"\n",
        "UNK_TOKEN = \"<unk>\"\n",
        "PAD_INDEX = 0\n",
        "START_INDEX = vocab_size\n",
        "END_INDEX = vocab_size + 1\n",
        "UNK_INDEX = vocab_size + 2\n",
        "\n",
        "word_to_index[PAD_TOKEN] = PAD_INDEX\n",
        "word_to_index[START_TOKEN] = START_INDEX\n",
        "word_to_index[END_TOKEN] = END_INDEX\n",
        "word_to_index[UNK_TOKEN] = UNK_INDEX\n",
        "\n",
        "index_to_word[PAD_INDEX] = PAD_TOKEN\n",
        "index_to_word[START_INDEX] = START_TOKEN\n",
        "index_to_word[END_INDEX] = END_TOKEN\n",
        "index_to_word[UNK_INDEX] = UNK_TOKEN\n",
        "\n",
        "updated_vocab_size = len(word_to_index)\n",
        "\n",
        "# --- Data Processing Function ---\n",
        "def process_example(example, max_len, word_to_index):\n",
        "    question = example['question'].lower().split()\n",
        "    answer = example['answer'].lower().split()\n",
        "\n",
        "    question_tokens = [word_to_index.get(word, UNK_INDEX) for word in question]\n",
        "    answer_tokens = [word_to_index.get(word, UNK_INDEX) for word in answer]\n",
        "\n",
        "    src_tokens = [START_INDEX] + question_tokens + [END_INDEX]\n",
        "    tgt_tokens = [START_INDEX] + answer_tokens + [END_INDEX]\n",
        "\n",
        "    src_tokens = src_tokens[:max_len]\n",
        "    tgt_tokens = tgt_tokens[:max_len]\n",
        "\n",
        "    src_padding = [PAD_INDEX] * (max_len - len(src_tokens))\n",
        "    tgt_padding = [PAD_INDEX] * (max_len - len(tgt_tokens))\n",
        "\n",
        "    src_tensor = torch.tensor(src_tokens + src_padding)\n",
        "    tgt_input_tensor = torch.tensor([START_INDEX] + answer_tokens[:max_len-1] + tgt_padding[:1]) # Input to decoder\n",
        "    tgt_output_tensor = torch.tensor(answer_tokens[:max_len-1] + [END_INDEX] + tgt_padding[:1]) # Target for decoder\n",
        "\n",
        "    return src_tensor, tgt_input_tensor, tgt_output_tensor\n",
        "\n",
        "# --- Custom Dataset Class ---\n",
        "class MathDataset(Dataset):\n",
        "    def __init__(self, dataset, max_len, word_to_index):\n",
        "        self.dataset = dataset\n",
        "        self.max_len = max_len\n",
        "        self.word_to_index = word_to_index\n",
        "\n",
        "    def __len__(self):\n",
        "        return len(self.dataset)\n",
        "\n",
        "    def __getitem__(self, idx):\n",
        "        example = self.dataset[idx]\n",
        "        return process_example(example, self.max_len, self.word_to_index)\n",
        "\n",
        "# --- Create DataLoaders ---\n",
        "from torch.nn.utils.rnn import pad_sequence\n",
        "\n",
        "def collate_fn(batch):\n",
        "    src_tensors, tgt_in_tensors, tgt_out_tensors = zip(*batch)\n",
        "    # pad the sequences within the batch\n",
        "    src_tensors = pad_sequence(src_tensors, batch_first=True, padding_value=PAD_INDEX)\n",
        "    tgt_in_tensors = pad_sequence(tgt_in_tensors, batch_first=True, padding_value=PAD_INDEX)\n",
        "    tgt_out_tensors = pad_sequence(tgt_out_tensors, batch_first=True, padding_value=PAD_INDEX)\n",
        "    return src_tensors, tgt_in_tensors, tgt_out_tensors\n",
        "\n",
        "train_dataloader = DataLoader(MathDataset(train_dataset, MAX_LEN, word_to_index), batch_size=BATCH_SIZE, shuffle=True, collate_fn=collate_fn)\n",
        "test_dataloader = DataLoader(MathDataset(test_dataset, MAX_LEN, word_to_index), batch_size=BATCH_SIZE, collate_fn=collate_fn)\n",
        "\n",
        "# --- Transformer Model Definition ---\n",
        "class MultiHeadAttention(nn.Module):\n",
        "    def __init__(self, d_model, num_heads):\n",
        "        super(MultiHeadAttention, self).__init__()\n",
        "        assert d_model % num_heads == 0\n",
        "        self.d_model = d_model\n",
        "        self.num_heads = num_heads\n",
        "        self.d_k = d_model // num_heads\n",
        "\n",
        "        self.W_q = nn.Linear(d_model, d_model)\n",
        "        self.W_k = nn.Linear(d_model, d_model)\n",
        "        self.W_v = nn.Linear(d_model, d_model)\n",
        "        self.W_o = nn.Linear(d_model, d_model)\n",
        "\n",
        "    def scaled_dot_product_attention(self, Q, K, V, mask=None):\n",
        "        attn_scores = torch.matmul(Q, K.transpose(-2, -1)) / math.sqrt(self.d_k)\n",
        "        if mask is not None:\n",
        "            attn_scores = attn_scores.masked_fill(mask == 0, -1e9)\n",
        "        attn_probs = F.softmax(attn_scores, dim=-1)\n",
        "        output = torch.matmul(attn_probs, V)\n",
        "        return output, attn_probs\n",
        "\n",
        "    def split_heads(self, x):\n",
        "        batch_size, seq_len, d_model = x.size()\n",
        "        return x.view(batch_size, seq_len, self.num_heads, self.d_k).transpose(1, 2)\n",
        "\n",
        "    def combine_heads(self, x):\n",
        "        batch_size, num_heads, seq_len, d_k = x.size()\n",
        "        return x.transpose(1, 2).contiguous().view(batch_size, seq_len, self.d_model)\n",
        "\n",
        "    def forward(self, Q, K, V, mask=None):\n",
        "        Q_ = self.split_heads(self.W_q(Q))\n",
        "        K_ = self.split_heads(self.W_k(K))\n",
        "        V_ = self.split_heads(self.W_v(V))\n",
        "\n",
        "        output, attn_probs = self.scaled_dot_product_attention(Q_, K_, V_, mask)\n",
        "        output = self.combine_heads(output)\n",
        "        output = self.W_o(output)\n",
        "        return output, attn_probs\n",
        "\n",
        "class PositionWiseFeedForward(nn.Module):\n",
        "    def __init__(self, d_model, d_ff):\n",
        "        super(PositionWiseFeedForward, self).__init__()\n",
        "        self.fc1 = nn.Linear(d_model, d_ff)\n",
        "        self.fc2 = nn.Linear(d_ff, d_model)\n",
        "        self.relu = nn.ReLU()\n",
        "\n",
        "    def forward(self, x):\n",
        "        return self.fc2(self.relu(self.fc1(x)))\n",
        "\n",
        "class EncoderLayer(nn.Module):\n",
        "    def __init__(self, d_model, num_heads, d_ff, dropout):\n",
        "        super(EncoderLayer, self).__init__()\n",
        "        self.mha = MultiHeadAttention(d_model, num_heads)\n",
        "        self.norm1 = nn.LayerNorm(d_model)\n",
        "        self.ffn = PositionWiseFeedForward(d_model, d_ff)\n",
        "        self.norm2 = nn.LayerNorm(d_model)\n",
        "        self.dropout = nn.Dropout(dropout)\n",
        "\n",
        "    def forward(self, x, mask):\n",
        "        attn_output, _ = self.mha(x, x, x, mask)\n",
        "        norm1_output = self.norm1(x + self.dropout(attn_output))\n",
        "        ffn_output = self.ffn(norm1_output)\n",
        "        output = self.norm2(norm1_output + self.dropout(ffn_output))\n",
        "        return output\n",
        "\n",
        "class DecoderLayer(nn.Module):\n",
        "    def __init__(self, d_model, num_heads, d_ff, dropout):\n",
        "        super(DecoderLayer, self).__init__()\n",
        "        self.masked_mha = MultiHeadAttention(d_model, num_heads)\n",
        "        self.norm1 = nn.LayerNorm(d_model)\n",
        "        self.enc_dec_mha = MultiHeadAttention(d_model, num_heads)\n",
        "        self.norm2 = nn.LayerNorm(d_model)\n",
        "        self.ffn = PositionWiseFeedForward(d_model, d_ff)\n",
        "        self.norm3 = nn.LayerNorm(d_model)\n",
        "        self.dropout = nn.Dropout(dropout)\n",
        "\n",
        "    def forward(self, x, enc_output, src_mask, tgt_mask):\n",
        "        masked_attn_output, _ = self.masked_mha(x, x, x, tgt_mask)\n",
        "        norm1_output = self.norm1(x + self.dropout(masked_attn_output))\n",
        "        enc_dec_attn_output, _ = self.enc_dec_mha(norm1_output, enc_output, enc_output, src_mask)\n",
        "        norm2_output = self.norm2(norm1_output + self.dropout(enc_dec_attn_output))\n",
        "        ffn_output = self.ffn(norm2_output)\n",
        "        output = self.norm3(norm2_output + self.dropout(ffn_output))\n",
        "        return output\n",
        "\n",
        "class PositionalEncoding(nn.Module):\n",
        "    def __init__(self, d_model, max_len=5000):\n",
        "        super(PositionalEncoding, self).__init__()\n",
        "        pe = torch.zeros(max_len, d_model)\n",
        "        position = torch.arange(0, max_len, dtype=torch.float).unsqueeze(1)\n",
        "        div_term = torch.exp(torch.arange(0, d_model, 2).float() * (-math.log(10000.0) / d_model))\n",
        "        pe[:, 0::2] = torch.sin(position * div_term)\n",
        "        pe[:, 1::2] = torch.cos(position * div_term)\n",
        "        pe = pe.unsqueeze(0).transpose(0, 1)\n",
        "        self.register_buffer('pe', pe)\n",
        "\n",
        "    def forward(self, x):\n",
        "        return x + self.pe[:x.size(1), :].transpose(0, 1)\n",
        "\n",
        "class Encoder(nn.Module):\n",
        "    def __init__(self, vocab_size, d_model, num_layers, num_heads, d_ff, dropout, max_len):\n",
        "        super(Encoder, self).__init__()\n",
        "        self.embedding = nn.Embedding(vocab_size, d_model)\n",
        "        self.pos_encoding = PositionalEncoding(d_model, max_len)\n",
        "        self.layers = nn.ModuleList([EncoderLayer(d_model, num_heads, d_ff, dropout)\n",
        "                                     for _ in range(num_layers)])\n",
        "        self.dropout = nn.Dropout(dropout)\n",
        "\n",
        "    def forward(self, src, mask):\n",
        "        embedded = self.dropout(self.pos_encoding(self.embedding(src)))\n",
        "        for layer in self.layers:\n",
        "            embedded = layer(embedded, mask)\n",
        "        return embedded\n",
        "\n",
        "class Decoder(nn.Module):\n",
        "    def __init__(self, vocab_size, d_model, num_layers, num_heads, d_ff, dropout, max_len):\n",
        "        super(Decoder, self).__init__()\n",
        "        self.embedding = nn.Embedding(vocab_size, d_model)\n",
        "        self.pos_encoding = PositionalEncoding(d_model, max_len)\n",
        "        self.layers = nn.ModuleList([DecoderLayer(d_model, num_heads, d_ff, dropout)\n",
        "                                     for _ in range(num_layers)])\n",
        "        self.fc = nn.Linear(d_model, vocab_size)\n",
        "        self.dropout = nn.Dropout(dropout)\n",
        "\n",
        "    def forward(self, tgt, enc_output, src_mask, tgt_mask):\n",
        "        embedded = self.dropout(self.pos_encoding(self.embedding(tgt)))\n",
        "        for layer in self.layers:\n",
        "            embedded = layer(embedded, enc_output, src_mask, tgt_mask)\n",
        "        output = self.fc(embedded)\n",
        "        return output\n",
        "\n",
        "class Transformer(nn.Module):\n",
        "    def __init__(self, src_vocab_size, tgt_vocab_size, d_model, num_layers, num_heads, d_ff, dropout, max_len):\n",
        "        super(Transformer, self).__init__()\n",
        "        self.encoder = Encoder(src_vocab_size, d_model, num_layers, num_heads, d_ff, dropout, max_len)\n",
        "        self.decoder = Decoder(tgt_vocab_size, d_model, num_layers, num_heads, d_ff, dropout, max_len)\n",
        "\n",
        "    def make_src_mask(self, src):\n",
        "        return (src != PAD_INDEX).unsqueeze(1).unsqueeze(2)\n",
        "\n",
        "    def make_tgt_mask(self, tgt):\n",
        "        tgt_len = tgt.size(1)\n",
        "        attn_shape = (1, tgt_len, tgt_len)\n",
        "        subsequent_mask = torch.tril(torch.ones(attn_shape, device=tgt.device)).type(torch.uint8) # Create subsequent_mask on the same device as tgt\n",
        "        padding_mask = (tgt != PAD_INDEX).unsqueeze(1).unsqueeze(2)\n",
        "        return subsequent_mask & padding_mask.bool()\n",
        "\n",
        "    def forward(self, src, tgt):\n",
        "        src_mask = self.make_src_mask(src)\n",
        "        tgt_mask = self.make_tgt_mask(tgt)\n",
        "        enc_output = self.encoder(src, src_mask)\n",
        "        output = self.decoder(tgt, enc_output, src_mask, tgt_mask)\n",
        "        return output\n",
        "\n",
        "# --- Initialize Model, Optimizer, and Scheduler ---\n",
        "model = Transformer(updated_vocab_size, updated_vocab_size, D_MODEL, NUM_LAYERS, NUM_HEADS, D_FF, DROPOUT, MAX_LEN)\n",
        "optimizer = AdamW(model.parameters(), lr=LEARNING_RATE)\n",
        "total_steps = len(train_dataloader) * NUM_EPOCHS\n",
        "scheduler = get_linear_schedule_with_warmup(optimizer, num_warmup_steps=WARMUP_STEPS, num_training_steps=total_steps)\n",
        "criterion = nn.CrossEntropyLoss(ignore_index=PAD_INDEX)\n",
        "\n",
        "# --- Training Loop ---\n",
        "device = torch.device(\"cuda\" if torch.cuda.is_available() else \"cpu\")\n",
        "model.to(device)\n",
        "\n",
        "print('\\n')\n",
        "print(\"Training started...\")\n",
        "print(f\"Device: {device}\")\n",
        "print(f\"Optimizer: {optimizer}\")\n",
        "print(f\"Scheduler: {scheduler}\")\n",
        "print(f\"Criterion: {criterion}\")\n",
        "print(f\"Total Steps: {total_steps}\")\n",
        "print(f\"Warmup Steps: {WARMUP_STEPS}\")\n",
        "print(f\"Learning Rate: {LEARNING_RATE}\")\n",
        "print(f\"Batch Size: {BATCH_SIZE}\")\n",
        "print(f\"Number of Epochs: {NUM_EPOCHS}\")\n",
        "print(f\"Max Length: {MAX_LEN}\")\n",
        "print(f\"Dropout: {DROPOUT}\")\n",
        "print(f\"D_Model: {D_MODEL}\")\n",
        "print(f\"D_FF: {D_FF}\")\n",
        "print(f\"Number of Layers: {NUM_LAYERS}\")\n",
        "print(f\"Number of Heads: {NUM_HEADS}\")\n",
        "print(f\"Gradient Clipping: {GRADIENT_CLIPPING}\")\n",
        "print(f\"Warmup Steps: {WARMUP_STEPS}\")\n",
        "print(f\"Total Training Steps: {total_steps}\")\n",
        "print(f\"Vocabulary Size: {vocab_size}\")\n",
        "print(f\"Updated Vocabulary Size: {updated_vocab_size}\")\n",
        "print(f'Size of train_dataloader: {len(train_dataloader)}')\n",
        "print(f'Size of test_dataloader: {len(test_dataloader)}')\n",
        "print('\\n')\n",
        "\n",
        "\n",
        "\n",
        "\n",
        "\n",
        "\n",
        "for epoch in range(NUM_EPOCHS):\n",
        "    model.train()\n",
        "    total_loss = 0\n",
        "    progress_bar = tqdm(enumerate(train_dataloader), total=len(train_dataloader), desc=f\"Epoch {epoch+1}\")\n",
        "    for batch_idx, (src, tgt_in, tgt_out) in progress_bar:\n",
        "        src = src.to(device)\n",
        "        tgt_in = tgt_in.to(device)\n",
        "        tgt_out = tgt_out.to(device)\n",
        "\n",
        "        optimizer.zero_grad()\n",
        "        output = model(src, tgt_in)  # (batch_size, tgt_len, vocab_size)\n",
        "\n",
        "        # Reshape for loss calculation\n",
        "        output = output.view(-1, output.size(-1)) # (batch_size * tgt_len, vocab_size)\n",
        "        tgt_out = tgt_out.view(-1) # (batch_size * tgt_len)\n",
        "\n",
        "        loss = criterion(output, tgt_out)\n",
        "        loss.backward()\n",
        "        torch.nn.utils.clip_grad_norm_(model.parameters(), GRADIENT_CLIPPING)\n",
        "        optimizer.step()\n",
        "        scheduler.step()\n",
        "\n",
        "        total_loss += loss.item()\n",
        "        progress_bar.set_postfix({\"loss\": loss.item()})\n",
        "\n",
        "    avg_loss = total_loss / len(train_dataloader)\n",
        "    print(f\"Epoch {epoch+1} Training Loss: {avg_loss:.4f}\")\n",
        "\n",
        "    # --- Evaluation Loop ---\n",
        "    model.eval()\n",
        "    eval_loss = 0\n",
        "\n",
        "    # Add tqdm to the evaluation loop\n",
        "    eval_progress_bar = tqdm(enumerate(test_dataloader), total=len(test_dataloader), desc=f\"Epoch {epoch+1} Evaluation\")\n",
        "\n",
        "    with torch.no_grad():\n",
        "        for batch_idx, (src, tgt_in, tgt_out) in eval_progress_bar:\n",
        "            src = src.to(device)\n",
        "            tgt_in = tgt_in.to(device)\n",
        "            tgt_out = tgt_out.to(device)\n",
        "\n",
        "            output = model(src, tgt_in)\n",
        "            output = output.view(-1, output.size(-1))\n",
        "            tgt_out = tgt_out.view(-1)\n",
        "            loss = criterion(output, tgt_out)\n",
        "            eval_loss += loss.item()\n",
        "\n",
        "    avg_eval_loss = eval_loss / len(test_dataloader)\n",
        "    print(f\"Epoch {epoch+1} Evaluation Loss: {avg_eval_loss:.4f}\")\n",
        "\n",
        "# --- Inference Function (Basic) ---\n",
        "def translate_sentence(model, sentence, word_to_index, index_to_word, max_len, device):\n",
        "    model.eval()\n",
        "    tokens = [word_to_index.get(word.lower(), UNK_INDEX) for word in sentence.lower().split()]\n",
        "    src_tokens = [START_INDEX] + tokens + [END_INDEX]\n",
        "    src_tokens = src_tokens[:max_len]\n",
        "    src_padding = [PAD_INDEX] * (max_len - len(src_tokens))\n",
        "    src_tensor = torch.tensor(src_tokens + src_padding).unsqueeze(0).to(device)\n",
        "    src_mask = model.make_src_mask(src_tensor)\n",
        "\n",
        "    memory = model.encoder(src_tensor, src_mask)\n",
        "    tgt_tokens = [START_INDEX]\n",
        "    for _ in range(max_len - 1):\n",
        "        tgt_tensor = torch.tensor(tgt_tokens).unsqueeze(0).to(device)\n",
        "        tgt_mask = model.make_tgt_mask(tgt_tensor)\n",
        "        output = model.decoder(tgt_tensor, memory, src_mask, tgt_mask)\n",
        "        pred_token = output.argmax(2)[:, -1].item()\n",
        "        if pred_token == END_INDEX:\n",
        "            break\n",
        "        tgt_tokens.append(pred_token)\n",
        "\n",
        "    translated_words = [index_to_word[token] for token in tgt_tokens if token not in [START_INDEX, END_INDEX, PAD_INDEX]]\n",
        "    return \" \".join(translated_words)"
      ]
    },
    {
      "cell_type": "code",
      "source": [
        "# --- Example Inference ---\n",
        "if __name__ == '__main__':\n",
        "    # Example question from the dataset\n",
        "    sample_question = test_dataset[10]['question']\n",
        "    actual_answer = test_dataset[10]['answer']\n",
        "\n",
        "    translated_answer = translate_sentence(model, sample_question, word_to_index, index_to_word, MAX_LEN, device)\n",
        "\n",
        "    print(\"\\n--- Example Inference ---\")\n",
        "    print(f\"Question: {sample_question}\")\n",
        "    print(f\"Actual Answer: {actual_answer}\")\n",
        "    print(f\"Predicted Answer: {translated_answer}\")\n",
        "\n",
        "    # Note: The model is likely not well-trained with these hyperparameters and few epochs.\n",
        "    # The predicted answer will likely be poor without significant training."
      ],
      "metadata": {
        "colab": {
          "base_uri": "https://localhost:8080/"
        },
        "id": "y9QKYJGD-Epb",
        "outputId": "c3e294a9-ebfb-4128-9b2a-057593fc5f21"
      },
      "execution_count": 7,
      "outputs": [
        {
          "output_type": "stream",
          "name": "stdout",
          "text": [
            "\n",
            "--- Example Inference ---\n",
            "Question: A new program had 60 downloads in the first month. The number of downloads in the second month was three times as many as the downloads in the first month, but then reduced by 30% in the third month. How many downloads did the program have total over the three months?\n",
            "Actual Answer: The number of downloads of the program in the second month increased to 3*60 = <<3*60=180>>180\n",
            "In the first two months, the total number of downloads of the program was 180+60 = <<180+60=240>>240\n",
            "In the third month, the number of downloads of the program reduced by 30/100*180 = <<30/100*180=54>>54\n",
            "There were 180-54 = <<180-54=126>>126 downloads in the third month.\n",
            "In the three months, the total number of downloads of the program was 126+240 = <<126+240=366>>366\n",
            "#### 366\n",
            "Predicted Answer: in the first year, the second year, the second year, was three times the second year, the second year, the second year, the second year, the second year, was reduced = <<2*500=1000>>1000 the second year, the second year, the second year, was reduced = <<120+40=160>>160 the third year, the second year, the second year, the second year, the second year, the third year, = <<2*500=1000>>1000 in the second year, the second year, the third year, the third year, the third year, = <<360-270=90>>90 in the third year, the second year, the second year, the third year, the third year, the third year, in the third year, the third year, in the third year, = <<480+440=920>>920 #### 1500\n"
          ]
        }
      ]
    }
  ]
}