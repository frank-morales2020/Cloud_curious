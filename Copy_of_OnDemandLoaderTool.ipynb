{
  "cells": [
    {
      "cell_type": "markdown",
      "metadata": {
        "id": "view-in-github",
        "colab_type": "text"
      },
      "source": [
        "<a href=\"https://colab.research.google.com/github/frank-morales2020/Cloud_curious/blob/master/Copy_of_OnDemandLoaderTool.ipynb\" target=\"_parent\"><img src=\"https://colab.research.google.com/assets/colab-badge.svg\" alt=\"Open In Colab\"/></a>"
      ]
    },
    {
      "cell_type": "markdown",
      "id": "4f4b3e2a",
      "metadata": {
        "id": "4f4b3e2a"
      },
      "source": [
        "<a href=\"https://colab.research.google.com/github/jerryjliu/llama_index/blob/main/docs/docs/examples/tools/OnDemandLoaderTool.ipynb\" target=\"_parent\"><img src=\"https://colab.research.google.com/assets/colab-badge.svg\" alt=\"Open In Colab\"/></a>"
      ]
    },
    {
      "cell_type": "markdown",
      "id": "318d3e6d-8155-4f86-ac16-bdacaf041bb9",
      "metadata": {
        "id": "318d3e6d-8155-4f86-ac16-bdacaf041bb9"
      },
      "source": [
        "# OnDemandLoaderTool\n",
        "\n",
        "Our `OnDemandLoaderTool` is a powerful agent tool that allows for \"on-demand\" data querying from any data source on LlamaHub.\n",
        "\n",
        "This tool takes in a `BaseReader` data loader, and when called will 1) load data, 2) index data, and 3) query the data.\n",
        "\n",
        "In this walkthrough, we show how to use the `OnDemandLoaderTool` to convert our Wikipedia data loader into an accessible search tool for a LangChain agent."
      ]
    },
    {
      "cell_type": "code",
      "execution_count": 2,
      "id": "b3cb7c29",
      "metadata": {
        "id": "b3cb7c29",
        "colab": {
          "base_uri": "https://localhost:8080/"
        },
        "outputId": "6728d3ff-f582-481c-af42-d20f797c5d75"
      },
      "outputs": [
        {
          "output_type": "stream",
          "name": "stdout",
          "text": [
            "\u001b[2K     \u001b[90m━━━━━━━━━━━━━━━━━━━━━━━━━━━━━━━━━━━━━━━━\u001b[0m \u001b[32m15.4/15.4 MB\u001b[0m \u001b[31m64.5 MB/s\u001b[0m eta \u001b[36m0:00:00\u001b[0m\n",
            "\u001b[2K     \u001b[90m━━━━━━━━━━━━━━━━━━━━━━━━━━━━━━━━━━━━━━━━\u001b[0m \u001b[32m75.6/75.6 kB\u001b[0m \u001b[31m8.5 MB/s\u001b[0m eta \u001b[36m0:00:00\u001b[0m\n",
            "\u001b[2K     \u001b[90m━━━━━━━━━━━━━━━━━━━━━━━━━━━━━━━━━━━━━━━━\u001b[0m \u001b[32m141.9/141.9 kB\u001b[0m \u001b[31m17.3 MB/s\u001b[0m eta \u001b[36m0:00:00\u001b[0m\n",
            "\u001b[2K     \u001b[90m━━━━━━━━━━━━━━━━━━━━━━━━━━━━━━━━━━━━━━━━\u001b[0m \u001b[32m311.6/311.6 kB\u001b[0m \u001b[31m30.9 MB/s\u001b[0m eta \u001b[36m0:00:00\u001b[0m\n",
            "\u001b[2K     \u001b[90m━━━━━━━━━━━━━━━━━━━━━━━━━━━━━━━━━━━━━━━━\u001b[0m \u001b[32m1.8/1.8 MB\u001b[0m \u001b[31m67.9 MB/s\u001b[0m eta \u001b[36m0:00:00\u001b[0m\n",
            "\u001b[2K     \u001b[90m━━━━━━━━━━━━━━━━━━━━━━━━━━━━━━━━━━━━━━━━\u001b[0m \u001b[32m77.9/77.9 kB\u001b[0m \u001b[31m9.5 MB/s\u001b[0m eta \u001b[36m0:00:00\u001b[0m\n",
            "\u001b[2K     \u001b[90m━━━━━━━━━━━━━━━━━━━━━━━━━━━━━━━━━━━━━━━━\u001b[0m \u001b[32m58.3/58.3 kB\u001b[0m \u001b[31m5.2 MB/s\u001b[0m eta \u001b[36m0:00:00\u001b[0m\n",
            "\u001b[2K     \u001b[90m━━━━━━━━━━━━━━━━━━━━━━━━━━━━━━━━━━━━━━━━\u001b[0m \u001b[32m49.4/49.4 kB\u001b[0m \u001b[31m5.3 MB/s\u001b[0m eta \u001b[36m0:00:00\u001b[0m\n",
            "\u001b[?25h"
          ]
        }
      ],
      "source": [
        "%pip install llama-index-readers-wikipedia -q"
      ]
    },
    {
      "cell_type": "code",
      "execution_count": 3,
      "id": "d6815113",
      "metadata": {
        "id": "d6815113",
        "colab": {
          "base_uri": "https://localhost:8080/"
        },
        "outputId": "41fe8224-c224-4bb1-f4ef-275ee80df084"
      },
      "outputs": [
        {
          "output_type": "stream",
          "name": "stdout",
          "text": [
            "\u001b[2K     \u001b[90m━━━━━━━━━━━━━━━━━━━━━━━━━━━━━━━━━━━━━━━━\u001b[0m \u001b[32m2.0/2.0 MB\u001b[0m \u001b[31m37.4 MB/s\u001b[0m eta \u001b[36m0:00:00\u001b[0m\n",
            "\u001b[2K     \u001b[90m━━━━━━━━━━━━━━━━━━━━━━━━━━━━━━━━━━━━━━━━\u001b[0m \u001b[32m290.4/290.4 kB\u001b[0m \u001b[31m27.2 MB/s\u001b[0m eta \u001b[36m0:00:00\u001b[0m\n",
            "\u001b[?25h"
          ]
        }
      ],
      "source": [
        "!pip install llama-index -q"
      ]
    },
    {
      "cell_type": "code",
      "execution_count": 4,
      "id": "d1680fc8-1904-4ea8-b8da-88306b365e7f",
      "metadata": {
        "id": "d1680fc8-1904-4ea8-b8da-88306b365e7f"
      },
      "outputs": [],
      "source": [
        "from llama_index.core.tools.ondemand_loader_tool import OnDemandLoaderTool\n",
        "from llama_index.readers.wikipedia import WikipediaReader\n",
        "from typing import List\n",
        "\n",
        "from pydantic import BaseModel"
      ]
    },
    {
      "cell_type": "code",
      "source": [
        "!pip install wikipedia -q"
      ],
      "metadata": {
        "colab": {
          "base_uri": "https://localhost:8080/"
        },
        "id": "YryatPp3I5QX",
        "outputId": "d297d773-f453-40de-bfb9-19a77f229fc2"
      },
      "id": "YryatPp3I5QX",
      "execution_count": 5,
      "outputs": [
        {
          "output_type": "stream",
          "name": "stdout",
          "text": [
            "  Preparing metadata (setup.py) ... \u001b[?25l\u001b[?25hdone\n",
            "  Building wheel for wikipedia (setup.py) ... \u001b[?25l\u001b[?25hdone\n"
          ]
        }
      ]
    },
    {
      "cell_type": "code",
      "execution_count": 6,
      "id": "7c5caf3b-3544-4a39-be69-35e18ef12172",
      "metadata": {
        "id": "7c5caf3b-3544-4a39-be69-35e18ef12172"
      },
      "outputs": [],
      "source": [
        "reader = WikipediaReader()"
      ]
    },
    {
      "cell_type": "code",
      "execution_count": 7,
      "id": "ea9169ad-fe61-47da-bbdf-ce3a89c371a3",
      "metadata": {
        "id": "ea9169ad-fe61-47da-bbdf-ce3a89c371a3"
      },
      "outputs": [],
      "source": [
        "tool = OnDemandLoaderTool.from_defaults(\n",
        "    reader,\n",
        "    name=\"Wikipedia Tool\",\n",
        "    description=\"A tool for loading and querying articles from Wikipedia\",\n",
        ")"
      ]
    },
    {
      "cell_type": "code",
      "source": [
        "!pip install langchain -q"
      ],
      "metadata": {
        "colab": {
          "base_uri": "https://localhost:8080/"
        },
        "id": "9DriPym1kPbc",
        "outputId": "3d079337-cc1f-4fff-f167-043b90efc8f6"
      },
      "id": "9DriPym1kPbc",
      "execution_count": 9,
      "outputs": [
        {
          "output_type": "stream",
          "name": "stdout",
          "text": [
            "\u001b[2K     \u001b[90m━━━━━━━━━━━━━━━━━━━━━━━━━━━━━━━━━━━━━━━━\u001b[0m \u001b[32m817.7/817.7 kB\u001b[0m \u001b[31m14.0 MB/s\u001b[0m eta \u001b[36m0:00:00\u001b[0m\n",
            "\u001b[2K     \u001b[90m━━━━━━━━━━━━━━━━━━━━━━━━━━━━━━━━━━━━━━━━\u001b[0m \u001b[32m1.9/1.9 MB\u001b[0m \u001b[31m47.4 MB/s\u001b[0m eta \u001b[36m0:00:00\u001b[0m\n",
            "\u001b[2K     \u001b[90m━━━━━━━━━━━━━━━━━━━━━━━━━━━━━━━━━━━━━━━━\u001b[0m \u001b[32m299.3/299.3 kB\u001b[0m \u001b[31m28.6 MB/s\u001b[0m eta \u001b[36m0:00:00\u001b[0m\n",
            "\u001b[2K     \u001b[90m━━━━━━━━━━━━━━━━━━━━━━━━━━━━━━━━━━━━━━━━\u001b[0m \u001b[32m116.0/116.0 kB\u001b[0m \u001b[31m14.4 MB/s\u001b[0m eta \u001b[36m0:00:00\u001b[0m\n",
            "\u001b[2K     \u001b[90m━━━━━━━━━━━━━━━━━━━━━━━━━━━━━━━━━━━━━━━━\u001b[0m \u001b[32m53.0/53.0 kB\u001b[0m \u001b[31m5.9 MB/s\u001b[0m eta \u001b[36m0:00:00\u001b[0m\n",
            "\u001b[2K     \u001b[90m━━━━━━━━━━━━━━━━━━━━━━━━━━━━━━━━━━━━━━━━\u001b[0m \u001b[32m141.1/141.1 kB\u001b[0m \u001b[31m16.5 MB/s\u001b[0m eta \u001b[36m0:00:00\u001b[0m\n",
            "\u001b[?25h"
          ]
        }
      ]
    },
    {
      "cell_type": "code",
      "source": [
        "#added by Frank Morales(FM) 22/02/2024\n",
        "%pip install openai  --root-user-action=ignore -q\n",
        "%pip install colab-env --upgrade --quiet --root-user-action=ignore -q"
      ],
      "metadata": {
        "id": "FnFVfqM6kjhq"
      },
      "id": "FnFVfqM6kjhq",
      "execution_count": null,
      "outputs": []
    },
    {
      "cell_type": "code",
      "source": [
        "#added by Frank Morales(FM) 22/02/2024\n",
        "import warnings\n",
        "warnings.filterwarnings('ignore')\n",
        "\n",
        "import colab_env\n",
        "import openai\n",
        "import os\n",
        "openai.api_key = os.getenv(\"OPENAI_API_KEY\")\n",
        "\n",
        "from openai import OpenAI\n",
        "client = OpenAI()"
      ],
      "metadata": {
        "id": "O1iCMmPHkkkW"
      },
      "id": "O1iCMmPHkkkW",
      "execution_count": null,
      "outputs": []
    },
    {
      "cell_type": "code",
      "source": [
        "tool([\"Montreal\"], query_str=\"where is located the Montreal city?\")"
      ],
      "metadata": {
        "id": "zdpNp8Tak858"
      },
      "id": "zdpNp8Tak858",
      "execution_count": null,
      "outputs": []
    },
    {
      "cell_type": "code",
      "source": [
        "# run tool as langchain structured tool\n",
        "lc_tool = tool.to_langchain_structured_tool(verbose=True)"
      ],
      "metadata": {
        "id": "7r8eF7CDlTdI"
      },
      "id": "7r8eF7CDlTdI",
      "execution_count": 30,
      "outputs": []
    },
    {
      "cell_type": "code",
      "source": [
        "from langchain.agents import AgentType, initialize_agent, load_tools\n",
        "#from langchain_openai import ChatOpenAI, OpenAI\n",
        "from langchain.llms import OpenAI\n",
        "from langchain.chat_models import ChatOpenAI\n",
        "\n",
        "#llm = ChatOpenAI(temperature=0.0)\n",
        "math_llm = OpenAI(temperature=0.0)\n",
        "\n",
        "#llm = ChatOpenAI(temperature=0, model_name=\"gpt-3.5-turbo\", streaming=True)\n",
        "llm = ChatOpenAI(temperature=0, model_name=\"gpt-4\", streaming=True)\n",
        "\n",
        "tools = load_tools(\n",
        "    [\"human\", \"llm-math\"],\n",
        "    llm=math_llm,\n",
        ")\n",
        "\n",
        "agent_chain = initialize_agent(\n",
        "    tools,\n",
        "    llm,\n",
        "    agent=AgentType.ZERO_SHOT_REACT_DESCRIPTION,\n",
        "    #agent=\"structured-chat-zero-shot-react-description\",\n",
        "    verbose=True,\n",
        ")\n",
        "\n",
        "agent = initialize_agent(\n",
        "    [lc_tool],\n",
        "    #tools,\n",
        "    llm,\n",
        "    agent=\"structured-chat-zero-shot-react-description\",\n",
        "    verbose=True,\n",
        ")"
      ],
      "metadata": {
        "id": "UMOqGNlmSsXW"
      },
      "id": "UMOqGNlmSsXW",
      "execution_count": 67,
      "outputs": []
    },
    {
      "cell_type": "code",
      "source": [
        "agent_chain.run(\"What's my friend Rafael's surname?\")\n",
        "# Answer with 'Reinaldo'"
      ],
      "metadata": {
        "colab": {
          "base_uri": "https://localhost:8080/",
          "height": 295
        },
        "id": "c3EdwMHlW56Z",
        "outputId": "5d72ab3f-0121-4584-d7fe-c76f41daa7d0"
      },
      "id": "c3EdwMHlW56Z",
      "execution_count": 52,
      "outputs": [
        {
          "output_type": "stream",
          "name": "stdout",
          "text": [
            "\n",
            "\n",
            "\u001b[1m> Entering new AgentExecutor chain...\u001b[0m\n",
            "\u001b[32;1m\u001b[1;3mI need to ask a human for this information.\n",
            "Action: human\n",
            "Action Input: What is Rafael's surname?\u001b[0m\n",
            "\n",
            "What is Rafael's surname?\n",
            "Reinaldo\n",
            "\n",
            "Observation: \u001b[36;1m\u001b[1;3mReinaldo\u001b[0m\n",
            "Thought:\u001b[32;1m\u001b[1;3mI now know Rafael's surname.\n",
            "Final Answer: Rafael's surname is Reinaldo.\u001b[0m\n",
            "\n",
            "\u001b[1m> Finished chain.\u001b[0m\n"
          ]
        },
        {
          "output_type": "execute_result",
          "data": {
            "text/plain": [
              "\"Rafael's surname is Reinaldo.\""
            ],
            "application/vnd.google.colaboratory.intrinsic+json": {
              "type": "string"
            }
          },
          "metadata": {},
          "execution_count": 52
        }
      ]
    },
    {
      "source": [
        "#agent.run(input={\"pages\": \"Montreal\", \"query_str\": \"What's the arts and culture scene in montreal?\"},query_str=\"What's the arts and culture scene in montreal?\")\n",
        "\n",
        "agent.run(input={\"pages\": \"Montreal\", \"query_str\": \"What's the arts and culture scene in montreal?\"})\n"
      ],
      "cell_type": "code",
      "metadata": {
        "colab": {
          "base_uri": "https://localhost:8080/",
          "height": 663
        },
        "id": "6pMJCwm3p1Vq",
        "outputId": "27f4a500-cae4-45af-c19b-a8678185d934"
      },
      "id": "6pMJCwm3p1Vq",
      "execution_count": 48,
      "outputs": [
        {
          "output_type": "stream",
          "name": "stdout",
          "text": [
            "\n",
            "\n",
            "\u001b[1m> Entering new AgentExecutor chain...\u001b[0m\n",
            "\u001b[32;1m\u001b[1;3mThought: I should use the Wikipedia Tool to gather information about the arts and culture scene in Montreal.\n",
            "\n",
            "Action:\n",
            "```\n",
            "{\n",
            "  \"action\": \"Wikipedia Tool\",\n",
            "  \"action_input\": {\n",
            "    \"pages\": [\"Montreal\"],\n",
            "    \"query_str\": \"Arts and culture scene in Montreal\"\n",
            "  }\n",
            "}\n",
            "```\u001b[0m\n",
            "Observation: \u001b[36;1m\u001b[1;3mMontreal boasts a vibrant arts and culture scene, earning it the title of \"Canada's Cultural Capital.\" The city is known for its diverse cultural communities, which have contributed to a unique local culture. Montreal is a hub for various forms of artistic expression including visual arts, theatre, dance, and music, with a strong tradition in jazz and rock music. The city hosts over 100 annual festivals, with highlights such as the Montreal International Jazz Festival, the largest of its kind globally, and the Just for Laughs comedy festival. Montreal's downtown area comes alive during the summer with cultural and social events, showcasing the city's dynamic cultural ecosystem. Additionally, Montreal is home to renowned cultural venues like the Place des Arts, which hosts a variety of performances ranging from classical music to avant-garde dance. The city's rich cultural heritage is further exemplified by its numerous churches, including impressive basilicas and historic landmarks. Montreal's arts and culture scene continues to thrive, attracting both local talent and international recognition.\u001b[0m\n",
            "Thought:\u001b[32;1m\u001b[1;3mThought: The information retrieved provides a comprehensive overview of Montreal's vibrant arts and culture scene, highlighting its diversity and significance.\n",
            "\n",
            "Action:\n",
            "```\n",
            "{\n",
            "  \"action\": \"Final Answer\",\n",
            "  \"action_input\": \"Montreal boasts a vibrant arts and culture scene, earning it the title of 'Canada's Cultural Capital.' The city is known for its diverse cultural communities, which have contributed to a unique local culture. Montreal is a hub for various forms of artistic expression including visual arts, theatre, dance, and music, with a strong tradition in jazz and rock music. The city hosts over 100 annual festivals, with highlights such as the Montreal International Jazz Festival, the largest of its kind globally, and the Just for Laughs comedy festival. Montreal's downtown area comes alive during the summer with cultural and social events, showcasing the city's dynamic cultural ecosystem. Additionally, Montreal is home to renowned cultural venues like the Place des Arts, which hosts a variety of performances ranging from classical music to avant-garde dance. The city's rich cultural heritage is further exemplified by its numerous churches, including impressive basilicas and historic landmarks. Montreal's arts and culture scene continues to thrive, attracting both local talent and international recognition.\"\n",
            "}\n",
            "```\n",
            "\u001b[0m\n",
            "\n",
            "\u001b[1m> Finished chain.\u001b[0m\n"
          ]
        },
        {
          "output_type": "execute_result",
          "data": {
            "text/plain": [
              "\"Montreal boasts a vibrant arts and culture scene, earning it the title of 'Canada's Cultural Capital.' The city is known for its diverse cultural communities, which have contributed to a unique local culture. Montreal is a hub for various forms of artistic expression including visual arts, theatre, dance, and music, with a strong tradition in jazz and rock music. The city hosts over 100 annual festivals, with highlights such as the Montreal International Jazz Festival, the largest of its kind globally, and the Just for Laughs comedy festival. Montreal's downtown area comes alive during the summer with cultural and social events, showcasing the city's dynamic cultural ecosystem. Additionally, Montreal is home to renowned cultural venues like the Place des Arts, which hosts a variety of performances ranging from classical music to avant-garde dance. The city's rich cultural heritage is further exemplified by its numerous churches, including impressive basilicas and historic landmarks. Montreal's arts and culture scene continues to thrive, attracting both local talent and international recognition.\""
            ],
            "application/vnd.google.colaboratory.intrinsic+json": {
              "type": "string"
            }
          },
          "metadata": {},
          "execution_count": 48
        }
      ]
    },
    {
      "cell_type": "code",
      "source": [
        "agent.run(input={\"pages\": \"Montreal\", \"query_str\": \"What is the best restaurant in Montreal?\"})"
      ],
      "metadata": {
        "colab": {
          "base_uri": "https://localhost:8080/",
          "height": 558
        },
        "id": "tv9b32ywy8uc",
        "outputId": "ebe1847d-f372-4212-e060-96b1bc25f61a"
      },
      "id": "tv9b32ywy8uc",
      "execution_count": 68,
      "outputs": [
        {
          "output_type": "stream",
          "name": "stdout",
          "text": [
            "\n",
            "\n",
            "\u001b[1m> Entering new AgentExecutor chain...\u001b[0m\n",
            "\u001b[32;1m\u001b[1;3mThought: The user is asking for the best restaurant in Montreal. I will use the Wikipedia Tool to find information about Montreal's top restaurants.\n",
            "Action:\n",
            "```\n",
            "{\n",
            "  \"action\": \"Wikipedia Tool\",\n",
            "  \"action_input\": {\n",
            "    \"pages\": [\"Montreal\"],\n",
            "    \"query_str\": \"best restaurant\"\n",
            "  }\n",
            "}\n",
            "```\u001b[0m\n",
            "Observation: \u001b[36;1m\u001b[1;3mThe best restaurant in Montreal is a subjective matter and can vary depending on personal preferences. Montreal is known for its diverse culinary scene, offering a wide range of dining options from traditional French cuisine to innovative fusion dishes. Visitors and locals alike often recommend exploring the city's vibrant neighborhoods like Old Montreal, Plateau-Mont-Royal, and Mile End to discover hidden gems and popular dining spots. It is advisable to check online reviews, ask locals for recommendations, and explore different types of cuisine to find the best restaurant that suits your taste preferences.\u001b[0m\n",
            "Thought:\u001b[32;1m\u001b[1;3mThe Wikipedia tool provided a general overview of Montreal's culinary scene, but it didn't specify a particular restaurant as the best. Since the concept of \"best\" can be subjective and depends on personal preferences, it's difficult to pinpoint a single restaurant as the best in Montreal. However, the tool did suggest exploring neighborhoods like Old Montreal, Plateau-Mont-Royal, and Mile End for popular dining spots. \n",
            "\n",
            "Action:\n",
            "```\n",
            "{\n",
            "  \"action\": \"Final Answer\",\n",
            "  \"action_input\": \"The best restaurant in Montreal can vary depending on personal preferences. Montreal is known for its diverse culinary scene, offering a wide range of dining options from traditional French cuisine to innovative fusion dishes. It's recommended to explore the city's vibrant neighborhoods like Old Montreal, Plateau-Mont-Royal, and Mile End to discover popular dining spots. Checking online reviews and asking locals for recommendations can also help you find a restaurant that suits your taste preferences.\"\n",
            "}\n",
            "```\u001b[0m\n",
            "\n",
            "\u001b[1m> Finished chain.\u001b[0m\n"
          ]
        },
        {
          "output_type": "execute_result",
          "data": {
            "text/plain": [
              "\"The best restaurant in Montreal can vary depending on personal preferences. Montreal is known for its diverse culinary scene, offering a wide range of dining options from traditional French cuisine to innovative fusion dishes. It's recommended to explore the city's vibrant neighborhoods like Old Montreal, Plateau-Mont-Royal, and Mile End to discover popular dining spots. Checking online reviews and asking locals for recommendations can also help you find a restaurant that suits your taste preferences.\""
            ],
            "application/vnd.google.colaboratory.intrinsic+json": {
              "type": "string"
            }
          },
          "metadata": {},
          "execution_count": 68
        }
      ]
    }
  ],
  "metadata": {
    "kernelspec": {
      "display_name": "venv",
      "language": "python",
      "name": "python3"
    },
    "language_info": {
      "codemirror_mode": {
        "name": "ipython",
        "version": 3
      },
      "file_extension": ".py",
      "mimetype": "text/x-python",
      "name": "python",
      "nbconvert_exporter": "python",
      "pygments_lexer": "ipython3"
    },
    "colab": {
      "provenance": [],
      "include_colab_link": true
    }
  },
  "nbformat": 4,
  "nbformat_minor": 5
}