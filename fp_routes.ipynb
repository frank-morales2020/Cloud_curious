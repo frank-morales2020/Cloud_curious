{
  "nbformat": 4,
  "nbformat_minor": 0,
  "metadata": {
    "colab": {
      "provenance": [],
      "machine_shape": "hm",
      "collapsed_sections": [
        "_TAxRU3-90du"
      ],
      "authorship_tag": "ABX9TyMxfA+Ufzcqg/Wp4p4sITZX",
      "include_colab_link": true
    },
    "kernelspec": {
      "name": "python3",
      "display_name": "Python 3"
    },
    "language_info": {
      "name": "python"
    },
    "widgets": {
      "application/vnd.jupyter.widget-state+json": {
        "b67bb4b3d2ec41a3af966b1d25d20425": {
          "model_module": "@jupyter-widgets/controls",
          "model_name": "HBoxModel",
          "model_module_version": "1.5.0",
          "state": {
            "_dom_classes": [],
            "_model_module": "@jupyter-widgets/controls",
            "_model_module_version": "1.5.0",
            "_model_name": "HBoxModel",
            "_view_count": null,
            "_view_module": "@jupyter-widgets/controls",
            "_view_module_version": "1.5.0",
            "_view_name": "HBoxView",
            "box_style": "",
            "children": [
              "IPY_MODEL_919c1a2df85c465f8d92644d51d27f6c",
              "IPY_MODEL_195928cb25224776824941628b887752",
              "IPY_MODEL_70fd554d752c43b0a8ab8f28ba2557e1"
            ],
            "layout": "IPY_MODEL_c8bcd51e2b2141d29b41ef3a771397df"
          }
        },
        "919c1a2df85c465f8d92644d51d27f6c": {
          "model_module": "@jupyter-widgets/controls",
          "model_name": "HTMLModel",
          "model_module_version": "1.5.0",
          "state": {
            "_dom_classes": [],
            "_model_module": "@jupyter-widgets/controls",
            "_model_module_version": "1.5.0",
            "_model_name": "HTMLModel",
            "_view_count": null,
            "_view_module": "@jupyter-widgets/controls",
            "_view_module_version": "1.5.0",
            "_view_name": "HTMLView",
            "description": "",
            "description_tooltip": null,
            "layout": "IPY_MODEL_ba60f24f31f24e30bd6cb9e2a106e92b",
            "placeholder": "​",
            "style": "IPY_MODEL_bea2a94bba6e425bb88c8b8043a3d01d",
            "value": "Saving the dataset (1/1 shards): 100%"
          }
        },
        "195928cb25224776824941628b887752": {
          "model_module": "@jupyter-widgets/controls",
          "model_name": "FloatProgressModel",
          "model_module_version": "1.5.0",
          "state": {
            "_dom_classes": [],
            "_model_module": "@jupyter-widgets/controls",
            "_model_module_version": "1.5.0",
            "_model_name": "FloatProgressModel",
            "_view_count": null,
            "_view_module": "@jupyter-widgets/controls",
            "_view_module_version": "1.5.0",
            "_view_name": "ProgressView",
            "bar_style": "success",
            "description": "",
            "description_tooltip": null,
            "layout": "IPY_MODEL_d5860bdf48ec42e38229373ded474f3b",
            "max": 10,
            "min": 0,
            "orientation": "horizontal",
            "style": "IPY_MODEL_178b0519e47f47c88063473f505da6bf",
            "value": 10
          }
        },
        "70fd554d752c43b0a8ab8f28ba2557e1": {
          "model_module": "@jupyter-widgets/controls",
          "model_name": "HTMLModel",
          "model_module_version": "1.5.0",
          "state": {
            "_dom_classes": [],
            "_model_module": "@jupyter-widgets/controls",
            "_model_module_version": "1.5.0",
            "_model_name": "HTMLModel",
            "_view_count": null,
            "_view_module": "@jupyter-widgets/controls",
            "_view_module_version": "1.5.0",
            "_view_name": "HTMLView",
            "description": "",
            "description_tooltip": null,
            "layout": "IPY_MODEL_cec265ad591e42b1aef18f5931d22ee5",
            "placeholder": "​",
            "style": "IPY_MODEL_949bb9ec1e5f48eda2117df69d7f4e2b",
            "value": " 10/10 [00:00&lt;00:00, 560.62 examples/s]"
          }
        },
        "c8bcd51e2b2141d29b41ef3a771397df": {
          "model_module": "@jupyter-widgets/base",
          "model_name": "LayoutModel",
          "model_module_version": "1.2.0",
          "state": {
            "_model_module": "@jupyter-widgets/base",
            "_model_module_version": "1.2.0",
            "_model_name": "LayoutModel",
            "_view_count": null,
            "_view_module": "@jupyter-widgets/base",
            "_view_module_version": "1.2.0",
            "_view_name": "LayoutView",
            "align_content": null,
            "align_items": null,
            "align_self": null,
            "border": null,
            "bottom": null,
            "display": null,
            "flex": null,
            "flex_flow": null,
            "grid_area": null,
            "grid_auto_columns": null,
            "grid_auto_flow": null,
            "grid_auto_rows": null,
            "grid_column": null,
            "grid_gap": null,
            "grid_row": null,
            "grid_template_areas": null,
            "grid_template_columns": null,
            "grid_template_rows": null,
            "height": null,
            "justify_content": null,
            "justify_items": null,
            "left": null,
            "margin": null,
            "max_height": null,
            "max_width": null,
            "min_height": null,
            "min_width": null,
            "object_fit": null,
            "object_position": null,
            "order": null,
            "overflow": null,
            "overflow_x": null,
            "overflow_y": null,
            "padding": null,
            "right": null,
            "top": null,
            "visibility": null,
            "width": null
          }
        },
        "ba60f24f31f24e30bd6cb9e2a106e92b": {
          "model_module": "@jupyter-widgets/base",
          "model_name": "LayoutModel",
          "model_module_version": "1.2.0",
          "state": {
            "_model_module": "@jupyter-widgets/base",
            "_model_module_version": "1.2.0",
            "_model_name": "LayoutModel",
            "_view_count": null,
            "_view_module": "@jupyter-widgets/base",
            "_view_module_version": "1.2.0",
            "_view_name": "LayoutView",
            "align_content": null,
            "align_items": null,
            "align_self": null,
            "border": null,
            "bottom": null,
            "display": null,
            "flex": null,
            "flex_flow": null,
            "grid_area": null,
            "grid_auto_columns": null,
            "grid_auto_flow": null,
            "grid_auto_rows": null,
            "grid_column": null,
            "grid_gap": null,
            "grid_row": null,
            "grid_template_areas": null,
            "grid_template_columns": null,
            "grid_template_rows": null,
            "height": null,
            "justify_content": null,
            "justify_items": null,
            "left": null,
            "margin": null,
            "max_height": null,
            "max_width": null,
            "min_height": null,
            "min_width": null,
            "object_fit": null,
            "object_position": null,
            "order": null,
            "overflow": null,
            "overflow_x": null,
            "overflow_y": null,
            "padding": null,
            "right": null,
            "top": null,
            "visibility": null,
            "width": null
          }
        },
        "bea2a94bba6e425bb88c8b8043a3d01d": {
          "model_module": "@jupyter-widgets/controls",
          "model_name": "DescriptionStyleModel",
          "model_module_version": "1.5.0",
          "state": {
            "_model_module": "@jupyter-widgets/controls",
            "_model_module_version": "1.5.0",
            "_model_name": "DescriptionStyleModel",
            "_view_count": null,
            "_view_module": "@jupyter-widgets/base",
            "_view_module_version": "1.2.0",
            "_view_name": "StyleView",
            "description_width": ""
          }
        },
        "d5860bdf48ec42e38229373ded474f3b": {
          "model_module": "@jupyter-widgets/base",
          "model_name": "LayoutModel",
          "model_module_version": "1.2.0",
          "state": {
            "_model_module": "@jupyter-widgets/base",
            "_model_module_version": "1.2.0",
            "_model_name": "LayoutModel",
            "_view_count": null,
            "_view_module": "@jupyter-widgets/base",
            "_view_module_version": "1.2.0",
            "_view_name": "LayoutView",
            "align_content": null,
            "align_items": null,
            "align_self": null,
            "border": null,
            "bottom": null,
            "display": null,
            "flex": null,
            "flex_flow": null,
            "grid_area": null,
            "grid_auto_columns": null,
            "grid_auto_flow": null,
            "grid_auto_rows": null,
            "grid_column": null,
            "grid_gap": null,
            "grid_row": null,
            "grid_template_areas": null,
            "grid_template_columns": null,
            "grid_template_rows": null,
            "height": null,
            "justify_content": null,
            "justify_items": null,
            "left": null,
            "margin": null,
            "max_height": null,
            "max_width": null,
            "min_height": null,
            "min_width": null,
            "object_fit": null,
            "object_position": null,
            "order": null,
            "overflow": null,
            "overflow_x": null,
            "overflow_y": null,
            "padding": null,
            "right": null,
            "top": null,
            "visibility": null,
            "width": null
          }
        },
        "178b0519e47f47c88063473f505da6bf": {
          "model_module": "@jupyter-widgets/controls",
          "model_name": "ProgressStyleModel",
          "model_module_version": "1.5.0",
          "state": {
            "_model_module": "@jupyter-widgets/controls",
            "_model_module_version": "1.5.0",
            "_model_name": "ProgressStyleModel",
            "_view_count": null,
            "_view_module": "@jupyter-widgets/base",
            "_view_module_version": "1.2.0",
            "_view_name": "StyleView",
            "bar_color": null,
            "description_width": ""
          }
        },
        "cec265ad591e42b1aef18f5931d22ee5": {
          "model_module": "@jupyter-widgets/base",
          "model_name": "LayoutModel",
          "model_module_version": "1.2.0",
          "state": {
            "_model_module": "@jupyter-widgets/base",
            "_model_module_version": "1.2.0",
            "_model_name": "LayoutModel",
            "_view_count": null,
            "_view_module": "@jupyter-widgets/base",
            "_view_module_version": "1.2.0",
            "_view_name": "LayoutView",
            "align_content": null,
            "align_items": null,
            "align_self": null,
            "border": null,
            "bottom": null,
            "display": null,
            "flex": null,
            "flex_flow": null,
            "grid_area": null,
            "grid_auto_columns": null,
            "grid_auto_flow": null,
            "grid_auto_rows": null,
            "grid_column": null,
            "grid_gap": null,
            "grid_row": null,
            "grid_template_areas": null,
            "grid_template_columns": null,
            "grid_template_rows": null,
            "height": null,
            "justify_content": null,
            "justify_items": null,
            "left": null,
            "margin": null,
            "max_height": null,
            "max_width": null,
            "min_height": null,
            "min_width": null,
            "object_fit": null,
            "object_position": null,
            "order": null,
            "overflow": null,
            "overflow_x": null,
            "overflow_y": null,
            "padding": null,
            "right": null,
            "top": null,
            "visibility": null,
            "width": null
          }
        },
        "949bb9ec1e5f48eda2117df69d7f4e2b": {
          "model_module": "@jupyter-widgets/controls",
          "model_name": "DescriptionStyleModel",
          "model_module_version": "1.5.0",
          "state": {
            "_model_module": "@jupyter-widgets/controls",
            "_model_module_version": "1.5.0",
            "_model_name": "DescriptionStyleModel",
            "_view_count": null,
            "_view_module": "@jupyter-widgets/base",
            "_view_module_version": "1.2.0",
            "_view_name": "StyleView",
            "description_width": ""
          }
        }
      }
    }
  },
  "cells": [
    {
      "cell_type": "markdown",
      "metadata": {
        "id": "view-in-github",
        "colab_type": "text"
      },
      "source": [
        "<a href=\"https://colab.research.google.com/github/frank-morales2020/Cloud_curious/blob/master/fp_routes.ipynb\" target=\"_parent\"><img src=\"https://colab.research.google.com/assets/colab-badge.svg\" alt=\"Open In Colab\"/></a>"
      ]
    },
    {
      "cell_type": "markdown",
      "source": [
        "## waypoints"
      ],
      "metadata": {
        "id": "mvgg4b_Q97VT"
      }
    },
    {
      "cell_type": "code",
      "source": [
        "!pip install colab-env -q\n",
        "!pip install geopy -q\n",
        "!pip install datasets -q\n",
        "!pip install airportsdata -q"
      ],
      "metadata": {
        "id": "r3r1VokVZV-g"
      },
      "execution_count": null,
      "outputs": []
    },
    {
      "source": [
        "!pip install colab-env -q\n",
        "!pip install geopy -q\n",
        "!pip install datasets -q\n",
        "\n",
        "import random\n",
        "import math  # Import math for calculations\n",
        "from datasets import Dataset\n",
        "from geopy.geocoders import Nominatim\n",
        "from geopy.distance import geodesic\n",
        "from tqdm import tqdm\n",
        "from geopy.point import Point\n",
        "\n",
        "# Define lists for airports, aircraft types, and weather conditions\n",
        "airports = [\n",
        "    \"JFK\", \"LAX\", \"LGA\", \"BOS\", \"SFO\", \"ORD\", \"DFW\", \"ATL\", \"SEA\", \"MIA\",\n",
        "    \"DEN\", \"IAH\", \"MSP\", \"DTW\", \"PHX\", \"CLT\", \"LAS\", \"MCO\", \"EWR\", \"PHL\",\n",
        "    \"LHR\", \"CDG\", \"AMS\", \"FRA\", \"MAD\", \"FCO\", \"MUC\", \"BCN\", \"DUB\", \"ZRH\",\n",
        "    \"IST\", \"OSL\", \"ARN\", \"BRU\", \"VIE\", \"PRG\", \"CPH\", \"LIS\", \"ATH\", \"HEL\",\n",
        "    \"HND\", \"NRT\", \"ICN\", \"PVG\", \"PEK\", \"KIX\", \"BKK\", \"SIN\", \"DXB\", \"HKG\",\n",
        "    \"DEL\", \"BOM\", \"KUL\", \"CGK\", \"MNL\", \"TPE\", \"CAN\", \"SZX\", \"CTU\", \"XIY\"\n",
        "]\n",
        "aircraft_types = [\n",
        "    \"Boeing 747\", \"Airbus A320\", \"Boeing 777\", \"Boeing 737\", \"Airbus A330\",\n",
        "    \"Boeing 757\", \"Airbus A321\", \"Airbus A319\", \"Boeing 787\", \"Embraer E190\"\n",
        "]\n",
        "weather_conditions = [\"Clear\", \"Cloudy\", \"Rainy\", \"Snowy\", \"Windy\"]\n",
        "\n",
        "# Initialize geolocator\n",
        "geolocator = Nominatim(user_agent=\"flight_planner\", timeout=20)\n",
        "\n",
        "def create_flight_data_point(origin, destination, departure_date, aircraft, weather):\n",
        "    \"\"\"Creates a flight data point with distance category, waypoints, and waypoint names.\"\"\"\n",
        "    try:\n",
        "        location_origin = geolocator.geocode(origin)\n",
        "        location_destination = geolocator.geocode(destination)\n",
        "\n",
        "        if location_origin and location_destination:\n",
        "            # Calculate distance\n",
        "            distance = geodesic(\n",
        "                (location_origin.latitude, location_origin.longitude),\n",
        "                (location_destination.latitude, location_destination.longitude)\n",
        "            ).kilometers\n",
        "\n",
        "            print('\\n')\n",
        "            print(f\"Distance between {origin} and {destination}: {distance} kilometers\")\n",
        "\n",
        "            #Airlines often classify routes by distance for operational and economic reasons,\n",
        "            #using categories like short-haul (e.g., under 1,000 km), medium-haul (e.g., 1,600-4,000 km),\n",
        "            #and long-haul (e.g., over 4,000 km).\n",
        "\n",
        "            # Categorize distance (with a default category)\n",
        "            if distance < 1000:\n",
        "                distance_category = \"short\"\n",
        "            elif distance < 4000:\n",
        "                distance_category = \"medium\"\n",
        "            elif distance < 10000:\n",
        "                distance_category = \"long\"\n",
        "            elif distance < 20000:\n",
        "                distance_category = \"longhaul\"\n",
        "            else:\n",
        "                distance_category = \"unknown\"\n",
        "\n",
        "            # Determine number of waypoints\n",
        "            if distance_category == \"short\":\n",
        "                num_waypoints = random.randint(1, 2)\n",
        "            elif distance_category == \"medium\":\n",
        "                num_waypoints = random.randint(3, 4)\n",
        "            elif distance_category == \"longhaul\":\n",
        "                num_waypoints = random.randint(6, 8)\n",
        "            elif distance_category == \"long\":\n",
        "                num_waypoints = random.randint(5, 7)\n",
        "            else:\n",
        "                num_waypoints = random.randint(9, 11)\n",
        "\n",
        "            # Add waypoints (constrained to be closer to the route)\n",
        "            waypoints = [(location_origin.latitude, location_origin.longitude)]\n",
        "            waypoint_names = [origin]\n",
        "\n",
        "            print(f\"Number of waypoints: {num_waypoints}\")\n",
        "            print(f\"Distance category: {distance_category}\")\n",
        "            print('\\n')\n",
        "\n",
        "            for _ in range(num_waypoints):\n",
        "                fraction = random.uniform(0.2, 0.8)\n",
        "                waypoint_lat = location_origin.latitude + fraction * (location_destination.latitude - location_origin.latitude)\n",
        "                waypoint_lon = location_origin.longitude + fraction * (location_destination.longitude - location_origin.longitude)\n",
        "\n",
        "                radius = 500  # Radius in kilometers\n",
        "                max_offset_lat = radius / 111.32\n",
        "                max_offset_lon = radius / (111.32 * math.cos(math.radians(waypoint_lat)))\n",
        "\n",
        "                offset_lat = random.uniform(-max_offset_lat, max_offset_lat)\n",
        "                offset_lon = random.uniform(-max_offset_lon, max_offset_lon)\n",
        "\n",
        "                waypoint_lat += offset_lat\n",
        "                waypoint_lon += offset_lon\n",
        "\n",
        "                waypoint = Point(waypoint_lat, waypoint_lon)\n",
        "                waypoint_location = geolocator.reverse(query=waypoint, exactly_one=True, addressdetails=True)\n",
        "                waypoint_name = waypoint_location.address.split(\",\")[0] if waypoint_location else \"Waypoint\"\n",
        "                waypoint_names.append(waypoint_name)\n",
        "                waypoints.append((waypoint_lat, waypoint_lon))\n",
        "\n",
        "            waypoints.append((location_destination.latitude, location_destination.longitude))\n",
        "            waypoint_names.append(destination)\n",
        "\n",
        "            input_text = f\"Calculate the distance from {origin} to {destination}. Departure: {departure_date}, Aircraft: {aircraft}, Weather: {weather}\"\n",
        "\n",
        "            return {\n",
        "                \"input\": input_text,\n",
        "                \"label\": distance_category,\n",
        "                \"waypoints\": waypoints,\n",
        "                \"waypoint_names\": waypoint_names\n",
        "            }\n",
        "        else:\n",
        "            print(f\"Could not find coordinates for {origin} or {destination}\")\n",
        "            return None\n",
        "\n",
        "    except Exception as e:\n",
        "        print(f\"Error generating flight data point: {e}\")\n",
        "        return None\n",
        "\n",
        "# --- Dataset Creation Loop ---\n",
        "flight_data = []\n",
        "number_routes = 10  # You can adjust this number\n",
        "\n",
        "for _ in tqdm(range(number_routes), desc=\"Generating flight data\"):\n",
        "    origin = random.choice(airports)\n",
        "    destination = random.choice(airports)\n",
        "    while origin == destination:\n",
        "        destination = random.choice(airports)\n",
        "    departure_date = f\"2024-{random.randint(1, 12):02}-{random.randint(1, 28):02}\"\n",
        "    aircraft = random.choice(aircraft_types)\n",
        "    weather = random.choice(weather_conditions)\n",
        "\n",
        "    data_point = create_flight_data_point(origin, destination, departure_date, aircraft, weather)\n",
        "    if data_point:\n",
        "        flight_data.append(data_point)\n",
        "\n",
        "# --- Create the Dataset ---\n",
        "dataset = Dataset.from_list(flight_data)\n",
        "print(dataset)\n",
        "dataset.save_to_disk(\"flight_dataset_with_waypoints\")"
      ],
      "cell_type": "code",
      "metadata": {
        "colab": {
          "base_uri": "https://localhost:8080/",
          "height": 1000,
          "referenced_widgets": [
            "b67bb4b3d2ec41a3af966b1d25d20425",
            "919c1a2df85c465f8d92644d51d27f6c",
            "195928cb25224776824941628b887752",
            "70fd554d752c43b0a8ab8f28ba2557e1",
            "c8bcd51e2b2141d29b41ef3a771397df",
            "ba60f24f31f24e30bd6cb9e2a106e92b",
            "bea2a94bba6e425bb88c8b8043a3d01d",
            "d5860bdf48ec42e38229373ded474f3b",
            "178b0519e47f47c88063473f505da6bf",
            "cec265ad591e42b1aef18f5931d22ee5",
            "949bb9ec1e5f48eda2117df69d7f4e2b"
          ]
        },
        "id": "p2HEKEL8gf4Z",
        "outputId": "e457fd0b-47ac-4f1f-9d27-4722401669eb"
      },
      "execution_count": 22,
      "outputs": [
        {
          "output_type": "stream",
          "name": "stderr",
          "text": [
            "\rGenerating flight data:   0%|          | 0/10 [00:00<?, ?it/s]"
          ]
        },
        {
          "output_type": "stream",
          "name": "stdout",
          "text": [
            "\n",
            "\n",
            "Distance between MIA and MAD: 7109.69356063665 kilometers\n",
            "Number of waypoints: 7\n",
            "Distance category: long\n",
            "\n",
            "\n"
          ]
        },
        {
          "output_type": "stream",
          "name": "stderr",
          "text": [
            "\rGenerating flight data:  10%|█         | 1/10 [00:09<01:24,  9.33s/it]"
          ]
        },
        {
          "output_type": "stream",
          "name": "stdout",
          "text": [
            "\n",
            "\n",
            "Distance between CGK and MAD: 12172.559978985006 kilometers\n",
            "Number of waypoints: 7\n",
            "Distance category: longhaul\n",
            "\n",
            "\n"
          ]
        },
        {
          "output_type": "stream",
          "name": "stderr",
          "text": [
            "\rGenerating flight data:  20%|██        | 2/10 [00:18<01:13,  9.14s/it]"
          ]
        },
        {
          "output_type": "stream",
          "name": "stdout",
          "text": [
            "\n",
            "\n",
            "Distance between PHX and LAS: 13004.906923680726 kilometers\n",
            "Number of waypoints: 6\n",
            "Distance category: longhaul\n",
            "\n",
            "\n"
          ]
        },
        {
          "output_type": "stream",
          "name": "stderr",
          "text": [
            "\rGenerating flight data:  30%|███       | 3/10 [00:26<01:00,  8.62s/it]"
          ]
        },
        {
          "output_type": "stream",
          "name": "stdout",
          "text": [
            "\n",
            "\n",
            "Distance between PEK and MNL: 2865.9803693453764 kilometers\n",
            "Number of waypoints: 3\n",
            "Distance category: medium\n",
            "\n",
            "\n"
          ]
        },
        {
          "output_type": "stream",
          "name": "stderr",
          "text": [
            "\rGenerating flight data:  40%|████      | 4/10 [00:31<00:43,  7.20s/it]"
          ]
        },
        {
          "output_type": "stream",
          "name": "stdout",
          "text": [
            "\n",
            "\n",
            "Distance between PRG and MUC: 10542.524450269531 kilometers\n",
            "Number of waypoints: 7\n",
            "Distance category: longhaul\n",
            "\n",
            "\n"
          ]
        },
        {
          "output_type": "stream",
          "name": "stderr",
          "text": [
            "\rGenerating flight data:  50%|█████     | 5/10 [00:40<00:39,  7.84s/it]"
          ]
        },
        {
          "output_type": "stream",
          "name": "stdout",
          "text": [
            "\n",
            "\n",
            "Distance between SEA and LIS: 8393.461302974172 kilometers\n",
            "Number of waypoints: 7\n",
            "Distance category: long\n",
            "\n",
            "\n"
          ]
        },
        {
          "output_type": "stream",
          "name": "stderr",
          "text": [
            "\rGenerating flight data:  60%|██████    | 6/10 [00:49<00:32,  8.25s/it]"
          ]
        },
        {
          "output_type": "stream",
          "name": "stdout",
          "text": [
            "\n",
            "\n",
            "Distance between MIA and AMS: 13848.154681881959 kilometers\n",
            "Number of waypoints: 7\n",
            "Distance category: longhaul\n",
            "\n",
            "\n"
          ]
        },
        {
          "output_type": "stream",
          "name": "stderr",
          "text": [
            "\rGenerating flight data:  70%|███████   | 7/10 [00:58<00:25,  8.51s/it]"
          ]
        },
        {
          "output_type": "stream",
          "name": "stdout",
          "text": [
            "\n",
            "\n",
            "Distance between PHL and MIA: 1630.7918468072676 kilometers\n",
            "Number of waypoints: 4\n",
            "Distance category: medium\n",
            "\n",
            "\n"
          ]
        },
        {
          "output_type": "stream",
          "name": "stderr",
          "text": [
            "\rGenerating flight data:  80%|████████  | 8/10 [01:04<00:15,  7.71s/it]"
          ]
        },
        {
          "output_type": "stream",
          "name": "stdout",
          "text": [
            "\n",
            "\n",
            "Distance between DUB and CTU: 676.5232560843866 kilometers\n",
            "Number of waypoints: 1\n",
            "Distance category: short\n",
            "\n",
            "\n"
          ]
        },
        {
          "output_type": "stream",
          "name": "stderr",
          "text": [
            "\rGenerating flight data:  90%|█████████ | 9/10 [01:07<00:06,  6.25s/it]"
          ]
        },
        {
          "output_type": "stream",
          "name": "stdout",
          "text": [
            "\n",
            "\n",
            "Distance between CAN and DXB: 5459.237471205346 kilometers\n",
            "Number of waypoints: 7\n",
            "Distance category: long\n",
            "\n",
            "\n"
          ]
        },
        {
          "output_type": "stream",
          "name": "stderr",
          "text": [
            "Generating flight data: 100%|██████████| 10/10 [01:16<00:00,  7.64s/it]"
          ]
        },
        {
          "output_type": "stream",
          "name": "stdout",
          "text": [
            "Dataset({\n",
            "    features: ['input', 'label', 'waypoints', 'waypoint_names'],\n",
            "    num_rows: 10\n",
            "})\n"
          ]
        },
        {
          "output_type": "stream",
          "name": "stderr",
          "text": [
            "\n"
          ]
        },
        {
          "output_type": "display_data",
          "data": {
            "text/plain": [
              "Saving the dataset (0/1 shards):   0%|          | 0/10 [00:00<?, ? examples/s]"
            ],
            "application/vnd.jupyter.widget-view+json": {
              "version_major": 2,
              "version_minor": 0,
              "model_id": "b67bb4b3d2ec41a3af966b1d25d20425"
            }
          },
          "metadata": {}
        }
      ]
    },
    {
      "cell_type": "code",
      "source": [
        "dataset"
      ],
      "metadata": {
        "colab": {
          "base_uri": "https://localhost:8080/"
        },
        "id": "u3fs8KFP_utj",
        "outputId": "5ffc16e3-de20-4e29-90c9-ca2eea0f28bf"
      },
      "execution_count": 23,
      "outputs": [
        {
          "output_type": "execute_result",
          "data": {
            "text/plain": [
              "Dataset({\n",
              "    features: ['input', 'label', 'waypoints', 'waypoint_names'],\n",
              "    num_rows: 10\n",
              "})"
            ]
          },
          "metadata": {},
          "execution_count": 23
        }
      ]
    },
    {
      "cell_type": "code",
      "source": [
        "dataset[9]"
      ],
      "metadata": {
        "colab": {
          "base_uri": "https://localhost:8080/"
        },
        "id": "B4LDGDTX-Rfv",
        "outputId": "d2442dc1-ac18-4e7e-92d5-ebf9b0ba4389"
      },
      "execution_count": 24,
      "outputs": [
        {
          "output_type": "execute_result",
          "data": {
            "text/plain": [
              "{'input': 'Calculate the distance from CAN to DXB. Departure: 2024-02-19, Aircraft: Boeing 747, Weather: Rainy',\n",
              " 'label': 'long',\n",
              " 'waypoints': [[49.1813403, -0.3635615],\n",
              "  [28.195739951019338, 40.26631446572423],\n",
              "  [39.54913666699523, 33.926827270115794],\n",
              "  [46.551574079095644, 18.0195396159328],\n",
              "  [41.133354278683456, 18.753091629009944],\n",
              "  [35.628987425271205, 40.893903785907334],\n",
              "  [35.623121079138585, 32.27758685936468],\n",
              "  [44.72059943625497, 19.157995109519398],\n",
              "  [25.2500008, 55.3760231]],\n",
              " 'waypoint_names': ['CAN',\n",
              "  'بنيّة عمّاش',\n",
              "  'Çelebiuşağı',\n",
              "  'Somogyszil',\n",
              "  'Waypoint',\n",
              "  'ناحية مركدة',\n",
              "  'Waypoint',\n",
              "  'M-I 113',\n",
              "  'DXB']}"
            ]
          },
          "metadata": {},
          "execution_count": 24
        }
      ]
    }
  ]
}