{
  "nbformat": 4,
  "nbformat_minor": 0,
  "metadata": {
    "colab": {
      "provenance": [],
      "machine_shape": "hm",
      "gpuType": "L4",
      "authorship_tag": "ABX9TyOcaQZR9n9a+ISD3+CIYYqY",
      "include_colab_link": true
    },
    "kernelspec": {
      "name": "python3",
      "display_name": "Python 3"
    },
    "language_info": {
      "name": "python"
    },
    "accelerator": "GPU"
  },
  "cells": [
    {
      "cell_type": "markdown",
      "metadata": {
        "id": "view-in-github",
        "colab_type": "text"
      },
      "source": [
        "<a href=\"https://colab.research.google.com/github/frank-morales2020/Cloud_curious/blob/master/POC_TESLA.ipynb\" target=\"_parent\"><img src=\"https://colab.research.google.com/assets/colab-badge.svg\" alt=\"Open In Colab\"/></a>"
      ]
    },
    {
      "cell_type": "code",
      "source": [
        "!pip install google-generativeai -q\n",
        "!pip install colab-env -q"
      ],
      "metadata": {
        "id": "1-EGYnq6NmQh"
      },
      "execution_count": null,
      "outputs": []
    },
    {
      "cell_type": "code",
      "source": [
        "# Used to securely store your API key\n",
        "from google.colab import userdata\n",
        "\n",
        "import pathlib\n",
        "import textwrap\n",
        "\n",
        "import google.generativeai as genai"
      ],
      "metadata": {
        "id": "567WIWntNsUw"
      },
      "execution_count": 7,
      "outputs": []
    },
    {
      "cell_type": "code",
      "source": [
        "import colab_env\n",
        "import os\n",
        "GOOGLE_API_KEY=userdata.get('GEMINI')\n",
        "genai.configure(api_key=GOOGLE_API_KEY)"
      ],
      "metadata": {
        "id": "KFOy6f41Nxbk"
      },
      "execution_count": null,
      "outputs": []
    },
    {
      "cell_type": "code",
      "source": [
        "import google.generativeai as genai\n",
        "\n",
        "for m in genai.list_models():\n",
        "    if \"generateContent\" in m.supported_generation_methods:\n",
        "        print(m.name)"
      ],
      "metadata": {
        "colab": {
          "base_uri": "https://localhost:8080/",
          "height": 555
        },
        "id": "Q4Kyj5rYN2Qb",
        "outputId": "04bf0e74-0b82-4a9c-d730-19602b9726f0"
      },
      "execution_count": 9,
      "outputs": [
        {
          "output_type": "stream",
          "name": "stdout",
          "text": [
            "models/gemini-1.0-pro-latest\n",
            "models/gemini-1.0-pro\n",
            "models/gemini-pro\n",
            "models/gemini-1.0-pro-001\n",
            "models/gemini-1.0-pro-vision-latest\n",
            "models/gemini-pro-vision\n",
            "models/gemini-1.5-pro-latest\n",
            "models/gemini-1.5-pro-001\n",
            "models/gemini-1.5-pro-002\n",
            "models/gemini-1.5-pro\n",
            "models/gemini-1.5-pro-exp-0801\n",
            "models/gemini-1.5-pro-exp-0827\n",
            "models/gemini-1.5-flash-latest\n",
            "models/gemini-1.5-flash-001\n",
            "models/gemini-1.5-flash-001-tuning\n",
            "models/gemini-1.5-flash\n",
            "models/gemini-1.5-flash-exp-0827\n",
            "models/gemini-1.5-flash-002\n",
            "models/gemini-1.5-flash-8b\n",
            "models/gemini-1.5-flash-8b-001\n",
            "models/gemini-1.5-flash-8b-latest\n",
            "models/gemini-1.5-flash-8b-exp-0827\n",
            "models/gemini-1.5-flash-8b-exp-0924\n",
            "models/gemini-2.0-flash-exp\n",
            "models/gemini-exp-1206\n",
            "models/gemini-exp-1121\n",
            "models/gemini-exp-1114\n",
            "models/gemini-2.0-flash-thinking-exp-01-21\n",
            "models/gemini-2.0-flash-thinking-exp\n",
            "models/gemini-2.0-flash-thinking-exp-1219\n",
            "models/learnlm-1.5-pro-experimental\n"
          ]
        }
      ]
    },
    {
      "cell_type": "code",
      "source": [
        "import random\n",
        "import google.generativeai as genai  # Import the Gemini library\n",
        "\n",
        "class TrafficOptimizer:\n",
        "  \"\"\"\n",
        "  Simulates an AI system for optimizing traffic flow,\n",
        "  with considerations for pedestrian safety, incorporating Gemini for feedback.\n",
        "  \"\"\"\n",
        "\n",
        "  def __init__(self, initial_speed_limit, pedestrian_density):\n",
        "    \"\"\"\n",
        "    Initializes the traffic optimizer and loads the Gemini model.\n",
        "    \"\"\"\n",
        "    self.speed_limit = initial_speed_limit\n",
        "    self.pedestrian_density = pedestrian_density\n",
        "    self.accident_count = 0\n",
        "\n",
        "    # Load the Gemini model here (outside the loop):\n",
        "    GOOGLE_API_KEY = userdata.get('GEMINI')  # Retrieve API key from user data\n",
        "    genai.configure(api_key=GOOGLE_API_KEY)\n",
        "    self.model = genai.GenerativeModel(\"gemini-1.5-pro\")\n",
        "\n",
        "  def optimize_flow(self):\n",
        "    \"\"\"\n",
        "    Adjusts the speed limit based on traffic conditions\n",
        "    and pedestrian density.\n",
        "    \"\"\"\n",
        "    if self.pedestrian_density > 5:  # Example threshold\n",
        "      self.speed_limit -= 5\n",
        "    else:\n",
        "      self.speed_limit += 2\n",
        "\n",
        "    # Simulate potential accidents (simplified)\n",
        "    accident_probability = self.speed_limit / 100 * self.pedestrian_density\n",
        "    if random.random() < accident_probability:\n",
        "      self.accident_count += 1\n",
        "\n",
        "  def get_gemini_feedback(self):\n",
        "    \"\"\"\n",
        "    Gets feedback from the loaded Gemini model.\n",
        "    \"\"\"\n",
        "    prompt = f\"\"\"\n",
        "    You are an AI safety expert.\n",
        "    Analyze the following traffic optimization scenario:\n",
        "    - Current speed limit: {self.speed_limit}\n",
        "    - Pedestrian density: {self.pedestrian_density}\n",
        "    - Accident count: {self.accident_count}\n",
        "    Provide feedback on the AI's performance, focusing on safety and\n",
        "    alignment with human values. Suggest specific adjustments\n",
        "    to the speed limit if necessary.\n",
        "    \"\"\"\n",
        "\n",
        "    # Use the loaded Gemini model:\n",
        "    response = self.model.generate_content(prompt)\n",
        "    feedback = response.text  # Extract the text from Gemini's response\n",
        "\n",
        "    return feedback\n",
        "\n",
        "  def incorporate_feedback(self, feedback):\n",
        "    \"\"\"\n",
        "    Adjusts optimization strategy based on Gemini's feedback.\n",
        "    \"\"\"\n",
        "    # (This function would need to be improved to\n",
        "    #  interpret Gemini's more nuanced feedback)\n",
        "    if \"reduce\" in feedback:\n",
        "      self.speed_limit -= 10\n",
        "    elif \"increase\" in feedback:\n",
        "      self.speed_limit += 5\n",
        "\n",
        "# Simulation (PoC with 3 time steps)\n",
        "optimizer = TrafficOptimizer(initial_speed_limit=50, pedestrian_density=3)"
      ],
      "metadata": {
        "id": "6X2tV322UtER"
      },
      "execution_count": 10,
      "outputs": []
    },
    {
      "cell_type": "code",
      "source": [
        "for _ in range(3):  # Simulate 3 time steps for the PoC\n",
        "  optimizer.optimize_flow()\n",
        "  print(f\"Speed limit: {optimizer.speed_limit}, Accidents: {optimizer.accident_count}\")\n",
        "\n",
        "  feedback = optimizer.get_gemini_feedback()\n",
        "  print(f\"Gemini Feedback: {feedback}\")\n",
        "  optimizer.incorporate_feedback(feedback)"
      ],
      "metadata": {
        "colab": {
          "base_uri": "https://localhost:8080/",
          "height": 1000
        },
        "id": "iTylqwLZIQC3",
        "outputId": "aebec919-287a-4285-99bc-21b2a964e225"
      },
      "execution_count": 11,
      "outputs": [
        {
          "output_type": "stream",
          "name": "stdout",
          "text": [
            "Speed limit: 52, Accidents: 1\n",
            "Gemini Feedback: As an AI safety expert, I'd analyze the traffic optimization scenario with a focus on safety and human values, considering the given parameters:\n",
            "\n",
            "* **Current Speed Limit:** 52 (units unspecified, assuming mph or kph)\n",
            "* **Pedestrian Density:** 3 (units unspecified, assuming low density)\n",
            "* **Accident Count:** 1 (in what timeframe? This is crucial. 1 accident per year is very different from 1 accident per week at the same location)\n",
            "\n",
            "**AI Performance Analysis & Concerns:**\n",
            "\n",
            "The information provided is insufficient to judge the AI's performance.  We don't know what the AI is doing. Is it simply monitoring? Is it recommending or *setting* the speed limit?  Knowing the AI's role is crucial for evaluation.\n",
            "\n",
            "Here are my key concerns and analysis points:\n",
            "\n",
            "* **Insufficient Context:**  \"Pedestrian density: 3\" is meaningless without units or a defined scale.  What does \"3\" represent? 3 pedestrians per square meter? 3 pedestrians crossing per hour? Similarly, a timeframe for the accident count is essential. 1 accident in the past year at a low-traffic intersection is acceptable.  1 accident in the past week suggests a serious problem.  We also need to know the *type* of accident. Was it a pedestrian fatality, a fender-bender, or something else? The severity matters a great deal.\n",
            "\n",
            "* **Lack of Transparency:** How did the AI arrive at the current speed limit of 52?  What factors did it consider besides pedestrian density and accident count?  Understanding the AI's reasoning process is essential for safety and trust.  A \"black box\" approach is unacceptable, especially in safety-critical systems like traffic management.\n",
            "\n",
            "* **Safety Prioritization:**  Human safety should be the paramount concern.  Minimizing accidents and protecting vulnerable road users (pedestrians, cyclists) should be weighted higher than maximizing traffic flow.  The AI's objective function needs to reflect this prioritization.\n",
            "\n",
            "* **Ethical Considerations:**  The AI should not discriminate against certain groups or prioritize certain types of traffic over others.  Fairness and equity are crucial in traffic management.\n",
            "\n",
            "**Speed Limit Adjustment Suggestions & Recommendations:**\n",
            "\n",
            "I cannot recommend a specific speed limit adjustment without more context. However, general guidance based on safety and human values would be:\n",
            "\n",
            "* **Principle of Caution:** In the presence of pedestrians, especially if the density is unclear or potentially high, erring on the side of lower speed limits is crucial.\n",
            "\n",
            "* **Data-Driven Approach:**  Collect more detailed data on pedestrian movements, traffic volume, near misses, and accident types. Use this data to train and refine the AI.\n",
            "\n",
            "* **Human Oversight:**  Human experts should review and validate the AI's recommendations and have the ability to override them if necessary. Full automation without human oversight is risky in this context.\n",
            "\n",
            "\n",
            "* **Transparency and Explainability:** The AI's decision-making process should be transparent and understandable to human operators.\n",
            "\n",
            "\n",
            "* **Continuous Monitoring and Evaluation:** Regularly monitor the AI's performance and its impact on safety and traffic flow.  Evaluate and adjust the AI's parameters and algorithms as needed.\n",
            "\n",
            "\n",
            "In summary, while optimizing traffic flow is important, safety and alignment with human values must be the primary drivers in any AI-based traffic management system.  The scenario presented lacks sufficient information for a thorough evaluation, but the principles outlined above should guide the development and deployment of such a system.\n",
            "\n",
            "Speed limit: 54, Accidents: 2\n",
            "Gemini Feedback: As an AI safety expert, I would be deeply concerned about an AI that *only* uses speed limit, pedestrian density, and accident count to optimize traffic flow. This approach is drastically oversimplified and neglects critical safety considerations and human values.  Here's a breakdown:\n",
            "\n",
            "**Concerns:**\n",
            "\n",
            "* **Limited Context:**  The provided data points are insufficient for safe speed limit adjustments.  What *kind* of accidents were they? Were they related to speed? What's the road type (highway, residential street)?  What are the visibility conditions? Is there construction?  Time of day?  Pedestrian demographics (elderly, children)?  These factors heavily influence safe speed limits.\n",
            "* **Missing Safety Margins:**  Optimizing for \"flow\" without explicit safety constraints is dangerous.  A small increase in speed might improve flow slightly but significantly increase the risk of severe accidents.  Human safety should be the primary objective, not flow.\n",
            "* **Lack of Transparency and Explainability:**  How did the AI arrive at the current speed limit of 54?  We need to understand the AI's reasoning to ensure it's not overlooking critical factors or making unsafe assumptions.\n",
            "* **Potential for Misaligned Optimization:** Minimizing accident *count* doesn't necessarily minimize accident *severity*.  For example, the AI might reduce the speed limit drastically to prevent minor fender benders but create conditions for more dangerous rear-end collisions at higher speeds.\n",
            "* **Ignoring Human Values:**  Traffic management is not just about efficiency; it's about quality of life, accessibility, and community impact. A speed limit optimized solely for flow might negatively impact pedestrians, cyclists, and residents.\n",
            "\n",
            "**Specific Adjustments and Recommendations:**\n",
            "\n",
            "It's impossible to recommend a specific speed limit adjustment with the limited information provided.  However, here's a recommended approach for the AI:\n",
            "\n",
            "1. **Expand Input Data:**  Include a much broader range of data points, including:\n",
            "    * Road type and geometry (curves, intersections)\n",
            "    * Visibility conditions (weather, lighting)\n",
            "    * Traffic volume and composition (trucks, bicycles)\n",
            "    * Accident history (types, severity, location)\n",
            "    * Pedestrian demographics and behavior\n",
            "    * Time of day and day of the week\n",
            "    * Presence of schools, hospitals, or other sensitive areas\n",
            "2. **Prioritize Safety:**  Establish clear safety constraints and prioritize them over flow optimization.  This might involve setting minimum safety distances, maximum deceleration rates, and explicit consideration of vulnerable road users.\n",
            "3. **Incorporate Human Values:**  Include factors like noise pollution, accessibility for pedestrians and cyclists, and the impact on local businesses in the optimization process.  Consider using human feedback and surveys to understand community preferences.\n",
            "4. **Ensure Transparency and Explainability:** The AI should provide clear justifications for its speed limit recommendations. This allows human oversight and helps identify potential biases or errors.\n",
            "5. **Robustness and Validation:**  Rigorously test the AI in simulated and real-world environments to ensure it performs safely and reliably under diverse conditions.  Include edge cases and adversarial scenarios.\n",
            "6. **Human-in-the-Loop System:**  Initially, deploy the AI in a human-in-the-loop system, where a human operator can override the AI's recommendations if necessary. This allows for gradual trust building and continuous improvement of the AI.\n",
            "\n",
            "In summary, focusing solely on limited metrics like accident count and pedestrian density is a dangerous oversimplification. A robust and safe AI traffic optimization system needs to consider a much broader context, prioritize safety, and align with human values.\n",
            "\n",
            "Speed limit: 46, Accidents: 3\n",
            "Gemini Feedback: As an AI safety expert, I'd be deeply concerned about an AI that *only* considers current speed limit, pedestrian density, and accident count to optimize traffic flow. This approach lacks crucial context and reflects a dangerous oversimplification of a complex system.  Here's a breakdown of the issues and recommended adjustments:\n",
            "\n",
            "**Safety and Alignment Concerns:**\n",
            "\n",
            "* **Insufficient Data:**  Three accidents are statistically insignificant without further information:  When did these accidents occur?  Were they related to speed, pedestrian interactions, or other factors (e.g., weather, road conditions, driver error)? What *types* of accidents were they?  A fender-bender is different from a fatality.  The pedestrian density of \"3\" is equally meaningless.  3 pedestrians per what? Per block? Per mile?  Per intersection?  What time of day was this density measured? Rush hour vs. late night makes a big difference.\n",
            "* **Missing Human Values:**  Optimizing \"traffic flow\" could be interpreted as maximizing speed or minimizing travel time.  However, human values prioritize safety, accessibility, and minimizing harm above pure efficiency. An AI solely focused on flow might dangerously increase speed limits even with high pedestrian activity and recent accidents, which is unacceptable.\n",
            "* **Lack of Explainability:**  We don't know *how* the AI arrived at the current speed limit of 46.  What is its reasoning process? This lack of transparency makes it impossible to assess the AI's safety and identify potential biases or flaws in its logic.\n",
            "* **Ignoring External Factors:**  Weather conditions, time of day, road construction, special events, the presence of schools or hospitals, and even the type of road (residential vs. highway) are critical factors impacting safe speed limits.  The scenario completely ignores these.\n",
            "\n",
            "**Suggested Adjustments and Next Steps:**\n",
            "\n",
            "1. **Gather More Data:**  The AI needs substantially more data to make responsible decisions. This includes:\n",
            "    * **Detailed accident reports:**  Time, date, location, cause, severity, contributing factors.\n",
            "    * **Real-time pedestrian and vehicle counts:** Using sensors and cameras at multiple points.\n",
            "    * **Environmental data:** Weather conditions, visibility, road surface conditions.\n",
            "    * **Road geometry:** Number of lanes, presence of crosswalks, bike lanes, etc.\n",
            "2. **Define Clear Objectives Aligned with Human Values:** The AI's objective should not just be \"traffic flow\" but rather something like \"Minimize the risk of accidents while maintaining reasonable traffic flow.\"  This prioritizes safety.  Explicitly including pedestrian safety and accessibility metrics is crucial.\n",
            "3. **Develop a Transparent and Explainable Algorithm:**  The AI's decision-making process must be transparent. We should be able to understand *why* it suggests a particular speed limit. This allows for auditing, validation, and identification of potential biases.\n",
            "4. **Incorporate External Factors:** The AI should dynamically adjust speed limits based on changing conditions (weather, time of day, special events).\n",
            "5. **Human Oversight and Control:**  Human experts should review and validate the AI's recommendations.  Ultimately, humans should retain control over setting speed limits, especially in complex or uncertain situations.\n",
            "\n",
            "**Regarding the current scenario, I *cannot* recommend any specific adjustment to the speed limit of 46 without significantly more information.**  Maintaining the current limit is the safest course of action until a proper assessment can be conducted with the data outlined above.  Deploying an AI without addressing these critical safety and alignment issues is highly irresponsible and potentially dangerous.\n",
            "\n"
          ]
        }
      ]
    }
  ]
}