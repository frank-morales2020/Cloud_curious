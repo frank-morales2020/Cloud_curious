{
  "nbformat": 4,
  "nbformat_minor": 0,
  "metadata": {
    "colab": {
      "provenance": [],
      "authorship_tag": "ABX9TyM9ulp6X7AlJ84cgHXSP3cW",
      "include_colab_link": true
    },
    "kernelspec": {
      "name": "python3",
      "display_name": "Python 3"
    },
    "language_info": {
      "name": "python"
    }
  },
  "cells": [
    {
      "cell_type": "markdown",
      "metadata": {
        "id": "view-in-github",
        "colab_type": "text"
      },
      "source": [
        "<a href=\"https://colab.research.google.com/github/frank-morales2020/Cloud_curious/blob/master/brain_AI_demo.ipynb\" target=\"_parent\"><img src=\"https://colab.research.google.com/assets/colab-badge.svg\" alt=\"Open In Colab\"/></a>"
      ]
    },
    {
      "cell_type": "markdown",
      "source": [
        "https://github.com/naplab/naplib-python"
      ],
      "metadata": {
        "id": "QZWBBupNJJ1f"
      }
    },
    {
      "cell_type": "code",
      "execution_count": null,
      "metadata": {
        "colab": {
          "base_uri": "https://localhost:8080/"
        },
        "id": "BGd0kKzoI9rc",
        "outputId": "74129eec-f3a2-4974-dd89-c5aa97705b30"
      },
      "outputs": [
        {
          "output_type": "stream",
          "name": "stdout",
          "text": [
            "Cloning into 'naplib-python'...\n",
            "remote: Enumerating objects: 2969, done.\u001b[K\n",
            "remote: Counting objects: 100% (2969/2969), done.\u001b[K\n",
            "remote: Compressing objects: 100% (1133/1133), done.\u001b[K\n",
            "remote: Total 2969 (delta 1919), reused 2779 (delta 1812), pack-reused 0 (from 0)\u001b[K\n",
            "Receiving objects: 100% (2969/2969), 265.04 MiB | 20.31 MiB/s, done.\n",
            "Resolving deltas: 100% (1919/1919), done.\n",
            "Updating files: 100% (196/196), done.\n"
          ]
        }
      ],
      "source": [
        "!git clone https://github.com/naplab/naplib-python.git"
      ]
    },
    {
      "cell_type": "code",
      "source": [
        "!cd naplib-python/"
      ],
      "metadata": {
        "id": "dcv_j0JJJskp"
      },
      "execution_count": null,
      "outputs": []
    },
    {
      "cell_type": "code",
      "source": [
        "!pip install --upgrade naplib -q"
      ],
      "metadata": {
        "id": "TfAulTstKLC5"
      },
      "execution_count": null,
      "outputs": []
    },
    {
      "cell_type": "code",
      "source": [
        "# License: MIT\n",
        "\n",
        "import numpy as np\n",
        "import matplotlib.pyplot as plt\n",
        "\n",
        "import naplib as nl\n",
        "from naplib.localization import Brain\n",
        "from naplib.visualization import plot_brain_elecs, plot_brain_overlay"
      ],
      "metadata": {
        "id": "UNIHqXgFLUFr"
      },
      "execution_count": null,
      "outputs": []
    },
    {
      "cell_type": "code",
      "source": [
        "import os\n",
        "import mne\n",
        "os.makedirs('./fsaverage', exist_ok=True)\n",
        "mne.datasets.fetch_fsaverage('./fsaverage/')"
      ],
      "metadata": {
        "colab": {
          "base_uri": "https://localhost:8080/"
        },
        "id": "hkEYvJWCLXqx",
        "outputId": "d777dbe2-6350-4880-fef3-36d57b0fc55f"
      },
      "execution_count": null,
      "outputs": [
        {
          "output_type": "stream",
          "name": "stdout",
          "text": [
            "Attempting to create new mne-python configuration file:\n",
            "/root/.mne/mne-python.json\n",
            "179 files missing from root.txt in /content/fsaverage\n",
            "Downloading missing files remotely\n"
          ]
        },
        {
          "output_type": "stream",
          "name": "stderr",
          "text": [
            "Downloading data from 'https://osf.io/3bxqt/download?version=2' to file '/tmp/tmp__i9up_v/temp.zip'.\n",
            "100%|████████████████████████████████████████| 196M/196M [00:00<00:00, 123GB/s]\n"
          ]
        },
        {
          "output_type": "stream",
          "name": "stdout",
          "text": [
            "Extracting missing files\n",
            "Successfully extracted 179 files\n",
            "10 files missing from bem.txt in /content/fsaverage/fsaverage\n",
            "Downloading missing files remotely\n"
          ]
        },
        {
          "output_type": "stream",
          "name": "stderr",
          "text": [
            "Downloading data from 'https://osf.io/7ve8g/download?version=4' to file '/tmp/tmplhq2ydfk/temp.zip'.\n",
            "100%|███████████████████████████████████████| 239M/239M [00:00<00:00, 88.5GB/s]\n"
          ]
        },
        {
          "output_type": "stream",
          "name": "stdout",
          "text": [
            "Extracting missing files\n",
            "Successfully extracted 10 files\n"
          ]
        },
        {
          "output_type": "execute_result",
          "data": {
            "text/plain": [
              "PosixPath('/content/fsaverage/fsaverage')"
            ]
          },
          "metadata": {},
          "execution_count": 10
        }
      ]
    },
    {
      "cell_type": "code",
      "source": [
        "brain = Brain('pial', subject_dir='./fsaverage/').split_hg('midpoint').split_stg().simplify_labels()\n",
        "\n",
        "# Specify the coordinates of 30 electrodes in fsaverage space\n",
        "coords = np.array([[-47.281147  ,  17.026093  , -21.833099  ],\n",
        "                   [-48.273964  ,  16.155487  , -20.162935  ],\n",
        "                   [-51.101261  ,  13.711058  , -16.258459  ],\n",
        "                   [-55.660889  ,   9.761111  , -12.340655  ],\n",
        "                   [-58.733326  ,   6.046287  ,  -9.626602  ],\n",
        "                   [-60.749279  ,   2.233287  ,  -8.044459  ],\n",
        "                   [-61.26712   ,  -1.939675  ,  -8.582445  ],\n",
        "                   [-63.686226  , -10.447982  ,  -0.445693  ],\n",
        "                   [-63.453224  ,  -9.826311  ,   1.095302  ],\n",
        "                   [-48.792809  ,  15.73144   , -19.34193   ],\n",
        "                   [-51.336754  ,  13.27527   , -15.57861   ],\n",
        "                   [-53.301971  ,  11.016301  , -12.48259   ],\n",
        "                   [-55.044659  ,   9.894337  , -11.228349  ],\n",
        "                   [-57.597462  ,   6.753941  ,  -8.082416  ],\n",
        "                   [-60.594891  ,   2.579503  ,  -6.884331  ],\n",
        "                   [-63.078999  ,  -8.770401  ,  -1.878142  ],\n",
        "                   [-67.419235  , -26.153931  ,  -1.260003  ],\n",
        "                   [-60.28742599, -11.71243477,   5.62593937],\n",
        "                   [-63.12403107, -12.37896156,   4.09772062],\n",
        "                   [ 64.44213867,  -3.16063929,  -6.95104313],\n",
        "                   [ 61.58537674, -23.53317833,  -3.20349312],\n",
        "                   [ 69.31034851, -18.18317795,   1.97798777],\n",
        "                   [ 69.0439682 , -18.64465904,   1.2625511 ],\n",
        "                   [ 68.32962799, -20.90372849,  -0.25190961],\n",
        "                   [ 59.79437256, -23.76178932,  -3.52095652],\n",
        "                   [-56.57900238,  -9.23060513,  -7.33194447],\n",
        "                   [-58.861763  , -11.2859602 ,  -6.18047237],\n",
        "                   [-61.13874054, -11.35863781,  -4.49999475],\n",
        "                   [-60.82435989,  -8.91696072,  -3.20156574],\n",
        "                   [-61.00576019,  -7.45676041,  -3.06485367]])\n",
        "\n",
        "isleft = coords[:,0]<0"
      ],
      "metadata": {
        "id": "GIkdCx2zLwzW"
      },
      "execution_count": null,
      "outputs": []
    },
    {
      "cell_type": "code",
      "source": [
        "anatomical_labels = brain.annotate_coords(coords, isleft)\n",
        "print(anatomical_labels)"
      ],
      "metadata": {
        "colab": {
          "base_uri": "https://localhost:8080/"
        },
        "id": "8TTkqBiEL_h0",
        "outputId": "0e9363d1-920c-4ba4-e77b-de15228a5e58"
      },
      "execution_count": null,
      "outputs": [
        {
          "output_type": "stream",
          "name": "stdout",
          "text": [
            "['mSTG' 'mSTG' 'mSTG' 'mSTG' 'mSTG' 'mSTG' 'mSTG' 'mSTG' 'mSTG' 'mSTG'\n",
            " 'mSTG' 'mSTG' 'mSTG' 'mSTG' 'mSTG' 'mSTG' 'pSTG' 'mSTG' 'mSTG' 'mSTG'\n",
            " 'pSTG' 'pSTG' 'pSTG' 'pSTG' 'pSTG' 'mSTG' 'mSTG' 'mSTG' 'mSTG' 'mSTG']\n"
          ]
        }
      ]
    },
    {
      "cell_type": "code",
      "source": [
        "# Define dist_from_HG before using it in plot_brain_elecs\n",
        "# Example: Assuming you want random values for demonstration\n",
        "dist_from_HG = np.random.rand(coords.shape[0])\n",
        "\n",
        "\n",
        "fig, axes = plot_brain_elecs(brain, coords, isleft, values=dist_from_HG, hemi='lh', view='lateral')\n",
        "plt.show()"
      ],
      "metadata": {
        "id": "H55gJGQVMIQJ"
      },
      "execution_count": null,
      "outputs": []
    },
    {
      "cell_type": "code",
      "source": [
        "colors = ['k' if lab == 'pSTG' else 'r' for lab in anatomical_labels]\n",
        "fig, axes = plot_brain_elecs(brain, coords, isleft, colors=colors, backend='plotly')\n",
        "fig.write_html(\"interactive_brain_plot.html\") # save as an interactive html plot\n",
        "fig.show() # show the interactive plot in the notebook"
      ],
      "metadata": {
        "id": "VTZ-0r-1Ml98"
      },
      "execution_count": null,
      "outputs": []
    },
    {
      "cell_type": "code",
      "source": [
        "brain.paint_overlay('mSTG', -3)\n",
        "brain.paint_overlay('pSTG', 3)\n",
        "brain.paint_overlay('MTG', 1)\n",
        "fig, axes = plot_brain_overlay(brain, view='lateral')\n",
        "plt.show()"
      ],
      "metadata": {
        "id": "SFvXwealMzIM"
      },
      "execution_count": null,
      "outputs": []
    }
  ]
}