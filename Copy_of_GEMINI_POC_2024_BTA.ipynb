{
  "nbformat": 4,
  "nbformat_minor": 0,
  "metadata": {
    "colab": {
      "provenance": [],
      "machine_shape": "hm",
      "gpuType": "T4",
      "authorship_tag": "ABX9TyMh/i601TcvJYWDDLeuEG4g",
      "include_colab_link": true
    },
    "kernelspec": {
      "name": "python3",
      "display_name": "Python 3"
    },
    "language_info": {
      "name": "python"
    },
    "accelerator": "GPU"
  },
  "cells": [
    {
      "cell_type": "markdown",
      "metadata": {
        "id": "view-in-github",
        "colab_type": "text"
      },
      "source": [
        "<a href=\"https://colab.research.google.com/github/frank-morales2020/Cloud_curious/blob/master/Copy_of_GEMINI_POC_2024_BTA.ipynb\" target=\"_parent\"><img src=\"https://colab.research.google.com/assets/colab-badge.svg\" alt=\"Open In Colab\"/></a>"
      ]
    },
    {
      "cell_type": "markdown",
      "source": [
        "https://ai.google.dev/gemini-api/docs/get-started/python\n",
        "\n",
        "https://github.com/neulab/gemini-benchmark?tab=readme-ov-file\n"
      ],
      "metadata": {
        "id": "ZpkH6Tyr6Fca"
      }
    },
    {
      "cell_type": "code",
      "source": [
        "!nvidia-smi"
      ],
      "metadata": {
        "colab": {
          "base_uri": "https://localhost:8080/"
        },
        "id": "YBO9Yr-VDSDL",
        "outputId": "9e1e8721-0aed-4f6a-9b1d-d15a47eb6a94"
      },
      "execution_count": 1,
      "outputs": [
        {
          "output_type": "stream",
          "name": "stdout",
          "text": [
            "Mon May 27 11:26:59 2024       \n",
            "+---------------------------------------------------------------------------------------+\n",
            "| NVIDIA-SMI 535.104.05             Driver Version: 535.104.05   CUDA Version: 12.2     |\n",
            "|-----------------------------------------+----------------------+----------------------+\n",
            "| GPU  Name                 Persistence-M | Bus-Id        Disp.A | Volatile Uncorr. ECC |\n",
            "| Fan  Temp   Perf          Pwr:Usage/Cap |         Memory-Usage | GPU-Util  Compute M. |\n",
            "|                                         |                      |               MIG M. |\n",
            "|=========================================+======================+======================|\n",
            "|   0  Tesla T4                       Off | 00000000:00:04.0 Off |                    0 |\n",
            "| N/A   43C    P8              10W /  70W |      0MiB / 15360MiB |      0%      Default |\n",
            "|                                         |                      |                  N/A |\n",
            "+-----------------------------------------+----------------------+----------------------+\n",
            "                                                                                         \n",
            "+---------------------------------------------------------------------------------------+\n",
            "| Processes:                                                                            |\n",
            "|  GPU   GI   CI        PID   Type   Process name                            GPU Memory |\n",
            "|        ID   ID                                                             Usage      |\n",
            "|=======================================================================================|\n",
            "|  No running processes found                                                           |\n",
            "+---------------------------------------------------------------------------------------+\n"
          ]
        }
      ]
    },
    {
      "cell_type": "code",
      "source": [
        "!pip install google-generativeai -q"
      ],
      "metadata": {
        "id": "18GXpuMi3Bfh"
      },
      "execution_count": 2,
      "outputs": []
    },
    {
      "cell_type": "code",
      "source": [
        "# Used to securely store your API key\n",
        "from google.colab import userdata\n",
        "\n",
        "import pathlib\n",
        "import textwrap\n",
        "\n",
        "import google.generativeai as genai\n",
        "\n",
        "from IPython.display import display\n",
        "from IPython.display import Markdown"
      ],
      "metadata": {
        "id": "n2wh14Ck4XX1"
      },
      "execution_count": 3,
      "outputs": []
    },
    {
      "cell_type": "code",
      "source": [
        "from IPython.display import Markdown\n",
        "def to_markdown(text):\n",
        "  text = text.replace('•', '  *')\n",
        "  return Markdown(textwrap.indent(text, '> ', predicate=lambda _: True))"
      ],
      "metadata": {
        "id": "Itvp4FprTBKd"
      },
      "execution_count": 4,
      "outputs": []
    },
    {
      "cell_type": "code",
      "source": [
        "GOOGLE_API_KEY=userdata.get('GEMINI')\n",
        "genai.configure(api_key=GOOGLE_API_KEY)"
      ],
      "metadata": {
        "id": "SG4V1mVs5K97"
      },
      "execution_count": 5,
      "outputs": []
    },
    {
      "cell_type": "code",
      "source": [
        "import google.generativeai as genai\n",
        "\n",
        "for m in genai.list_models():\n",
        "    if \"generateContent\" in m.supported_generation_methods:\n",
        "        print(m.name)"
      ],
      "metadata": {
        "colab": {
          "base_uri": "https://localhost:8080/",
          "height": 225
        },
        "id": "YY-DNFpwBYxr",
        "outputId": "d954b5a2-3680-4edb-da6f-ba65a6fc45fe"
      },
      "execution_count": 6,
      "outputs": [
        {
          "output_type": "stream",
          "name": "stdout",
          "text": [
            "models/gemini-1.0-pro\n",
            "models/gemini-1.0-pro-001\n",
            "models/gemini-1.0-pro-latest\n",
            "models/gemini-1.0-pro-vision-latest\n",
            "models/gemini-1.5-flash\n",
            "models/gemini-1.5-flash-001\n",
            "models/gemini-1.5-flash-latest\n",
            "models/gemini-1.5-pro\n",
            "models/gemini-1.5-pro-001\n",
            "models/gemini-1.5-pro-latest\n",
            "models/gemini-pro\n",
            "models/gemini-pro-vision\n"
          ]
        }
      ]
    },
    {
      "cell_type": "code",
      "source": [
        "model = genai.GenerativeModel('gemini-1.5-pro-latest')"
      ],
      "metadata": {
        "id": "ihFR6I7Eh5jd"
      },
      "execution_count": 7,
      "outputs": []
    },
    {
      "cell_type": "markdown",
      "source": [
        "BOB TRAVEL APP"
      ],
      "metadata": {
        "id": "qRt5ffS_ihmA"
      }
    },
    {
      "cell_type": "code",
      "source": [
        "#query = \"I bought a computer for $900, sold it for $1200, repurchased it for $1300, and sold it again for $1600. how much did I earn? Take in consideration the money for the repurchased too.\"\n",
        "\n",
        "query = 'How do you plan out your trip? \\\n",
        "Bob is travelling to SAT from YVR \\\n",
        "1. He has a connection in DFW \\\n",
        "2. His connection is 6 hours long \\\n",
        "3. He has a budget of 100.00 including meals \\\n",
        "4. What can he do? Please suggest a time. \\\n",
        "5. Know- he is a hiker, museum, foodie, has a carry-on bag'\n",
        "\n",
        "chat_response=model.generate_content(query)\n",
        "print()\n",
        "\n",
        "print()\n",
        "print(\"-\" * 80)\n",
        "print('Question: %s'%query)\n",
        "print(\"-\" * 80)\n",
        "print(\"No streaming\")\n",
        "print()\n",
        "print('Answer: ')\n",
        "print(chat_response.text)"
      ],
      "metadata": {
        "colab": {
          "base_uri": "https://localhost:8080/",
          "height": 905
        },
        "id": "ZmEOxU6XcMGT",
        "outputId": "40e49aea-10fd-4b89-b5eb-e4f164f63b74"
      },
      "execution_count": 8,
      "outputs": [
        {
          "output_type": "stream",
          "name": "stdout",
          "text": [
            "\n",
            "\n",
            "--------------------------------------------------------------------------------\n",
            "Question: How do you plan out your trip? Bob is travelling to SAT from YVR 1. He has a connection in DFW 2. His connection is 6 hours long 3. He has a budget of 100.00 including meals 4. What can he do? Please suggest a time. 5. Know- he is a hiker, museum, foodie, has a carry-on bag\n",
            "--------------------------------------------------------------------------------\n",
            "No streaming\n",
            "\n",
            "Answer: \n",
            "Let's help Bob plan his DFW layover!\n",
            "\n",
            "Here's a breakdown of how we can approach this, keeping his interests and limitations in mind:\n",
            "\n",
            "**1. Transportation is Key:**\n",
            "\n",
            "* **DFW Airport Transit:** DFW is huge.  Find out if his connecting flight is in the same terminal. If not, how long does the inter-terminal transportation take? Factor this into the available time.\n",
            "* **Venturing Out Options:**\n",
            "    * **Free Airport Shuttle:**  DFW might have a shuttle to nearby hotels or areas of interest. \n",
            "    * **Public Transportation:** Check for bus or train connections from the airport to the city. Research day passes for cost-effectiveness.\n",
            "    * **Ride-Sharing:**  Get an estimate for Uber/Lyft to and from potential destinations, keeping his budget in mind.\n",
            "\n",
            "**2.  Six Hours...Realistically:**\n",
            "\n",
            "* **Airport Time:** Account for deplaning, potential security checks, and getting to his next gate.  Realistically, he might have 4-5 hours for an adventure.\n",
            "* **The \"Is it Worth it?\" Factor:**  A 1-hour activity each way eats into his time. Consider if leaving the airport is worth it or if enjoying airport amenities is more relaxing.\n",
            "\n",
            "**3. DFW Layover Activities - Budget-Friendly Options:**\n",
            "\n",
            "**Option A:  Stay at the Airport:**\n",
            "\n",
            "* **Foodie Finds:** DFW has surprisingly good food options. Research airport restaurants within his budget. Maybe try a Texas BBQ sampler platter!\n",
            "* **Hike the Terminals:** DFW has walking paths and art installations. It won't replace a real hike, but it's exercise and a way to stretch his legs.\n",
            "* **Airport Lounge Day Pass:**  For around $50, he might snag a day pass to an airport lounge. This provides comfortable seating, Wi-Fi, snacks, and sometimes drinks.\n",
            "\n",
            "**Option B: Venture Out (If Time and Budget Allow):**\n",
            "\n",
            "* **The Sixth Floor Museum (Dealey Plaza):** A somber but significant museum about the JFK assassination. It's about a 20-minute ride from DFW. \n",
            "* **Dallas Arboretum and Botanical Garden:** (Seasonal) Beautiful gardens, about a 25-minute ride from DFW.  Check entry fees.\n",
            "* **Deep Ellum (Dallas):** Known for its murals and art scene, plus unique shops and eateries. About a 25-minute ride. Could be good for wandering and soaking up a different atmosphere.\n",
            "\n",
            "**Time Suggestion:**\n",
            "\n",
            "* If staying at the airport, no time constraints really matter!\n",
            "* If venturing out, aim for an activity that can be done comfortably within 3 hours, leaving ample buffer time.\n",
            "\n",
            "**Additional Tips for Bob:**\n",
            "\n",
            "* **Pack Snacks:** Airport food can be pricey. Bringing snacks helps stretch his budget.\n",
            "* **Download Entertainment:**  Load up his phone with podcasts, audiobooks, or movies for the flight and potential downtime.\n",
            "* **Research, Research, Research:**  Knowing transportation options, costs, and estimated travel times before he arrives will help him maximize his layover. \n",
            "\n"
          ]
        }
      ]
    }
  ]
}