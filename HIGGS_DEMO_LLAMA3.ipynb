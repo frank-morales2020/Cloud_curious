{
  "nbformat": 4,
  "nbformat_minor": 0,
  "metadata": {
    "colab": {
      "provenance": [],
      "machine_shape": "hm",
      "gpuType": "A100",
      "authorship_tag": "ABX9TyPULuVF+dGR4A5nfKznPIwd",
      "include_colab_link": true
    },
    "kernelspec": {
      "name": "python3",
      "display_name": "Python 3"
    },
    "language_info": {
      "name": "python"
    },
    "accelerator": "GPU"
  },
  "cells": [
    {
      "cell_type": "markdown",
      "metadata": {
        "id": "view-in-github",
        "colab_type": "text"
      },
      "source": [
        "<a href=\"https://colab.research.google.com/github/frank-morales2020/Cloud_curious/blob/master/HIGGS_DEMO_LLAMA3.ipynb\" target=\"_parent\"><img src=\"https://colab.research.google.com/assets/colab-badge.svg\" alt=\"Open In Colab\"/></a>"
      ]
    },
    {
      "cell_type": "code",
      "source": [
        "!pip install colab-env --quiet\n",
        "import warnings\n",
        "\n",
        "warnings.filterwarnings(\"ignore\")\n",
        "\n",
        "import colab_env\n",
        "import os\n",
        "\n",
        "access_token_write = os.getenv(\"HUGGINGFACE_ACCESS_TOKEN_WRITE\")\n",
        "\n",
        "from huggingface_hub import login\n",
        "\n",
        "login(\n",
        "  token=access_token_write,\n",
        "  add_to_git_credential=True\n",
        ")"
      ],
      "metadata": {
        "id": "C4yFi3mIgckB"
      },
      "execution_count": null,
      "outputs": []
    },
    {
      "cell_type": "code",
      "execution_count": null,
      "metadata": {
        "id": "67ERYXbaejh7"
      },
      "outputs": [],
      "source": [
        "import torch\n",
        "import torch.nn as nn\n",
        "from transformers import AutoModelForCausalLM, AutoTokenizer\n",
        "import numpy as np\n",
        "from scipy.stats import norm\n",
        "\n",
        "# Check for GPU availability and set the device\n",
        "device = torch.device(\"cuda\" if torch.cuda.is_available() else \"cpu\")\n",
        "print(f\"Using device: {device}\")\n",
        "\n",
        "model_id = \"meta-llama/Meta-Llama-3-8B\"\n",
        "\n",
        "try:\n",
        "    # Load the pre-trained Llama 3 8B model and tokenizer on the selected device\n",
        "    model = AutoModelForCausalLM.from_pretrained(model_id).to(device)\n",
        "    tokenizer = AutoTokenizer.from_pretrained(model_id)\n",
        "    print(f\"Successfully loaded {model_id}\")\n",
        "except Exception as e:\n",
        "    print(f\"Error loading {model_id}: {e}\")\n",
        "    print(\"Make sure you have access to this model and the necessary libraries are installed.\")\n",
        "    exit()\n",
        "\n",
        "# --- Concrete (Standard) Hadamard Transform (1D) ---\n",
        "def hadamard_transform_1d(x):\n",
        "    n = x.shape[0]\n",
        "    if n == 1:\n",
        "        return x\n",
        "    h_half = hadamard_transform_1d(x[:n//2])\n",
        "    return torch.cat((h_half + x[n//2:], h_half - x[n//2:]), dim=0)\n",
        "\n",
        "def apply_standard_hadamard(weight):\n",
        "    original_shape = weight.shape\n",
        "    flattened = weight.flatten()\n",
        "    n = flattened.shape[0]\n",
        "    if np.log2(n).is_integer():\n",
        "        transformed = hadamard_transform_1d(flattened)\n",
        "        return transformed.reshape(original_shape)\n",
        "    else:\n",
        "        # Pad to the nearest power of 2 (conceptual handling)\n",
        "        next_power_of_2 = 2**int(np.ceil(np.log2(n)))\n",
        "        padding = torch.zeros(next_power_of_2 - n, device=weight.device)  # Create padding on the same device\n",
        "        padded = torch.cat((flattened, padding))\n",
        "        transformed_padded = hadamard_transform_1d(padded)\n",
        "        return transformed_padded[:n].reshape(original_shape)\n",
        "\n",
        "# --- Gaussian-Inspired Quantization ---\n",
        "def gaussian_inspired_quantize(tensor, num_bits):\n",
        "    num_levels = 2**num_bits\n",
        "    # Move tensor to CPU before calculating mean and std\n",
        "    mean = tensor.float().cpu().mean()\n",
        "    std = tensor.float().cpu().std()\n",
        "    quantized = torch.zeros_like(tensor, dtype=torch.int, device=tensor.device) # Create quantized on the same device\n",
        "    scale = (norm.ppf(0.99, loc=mean, scale=std) - norm.ppf(0.01, loc=mean, scale=std)) / (num_levels - 1) if num_levels > 1 else 1.0\n",
        "    zero_point = -norm.ppf(0.01, loc=mean, scale=std) / scale if scale != 0 else 0\n",
        "\n",
        "    normalized = (tensor - norm.ppf(0.01, loc=mean, scale=std)) / scale\n",
        "    quantized = torch.round(torch.clamp(normalized, 0, num_levels - 1)).int()\n",
        "\n",
        "    dequantized = (quantized.float() * scale) + norm.ppf(0.01, loc=mean, scale=std)\n",
        "    return quantized, dequantized\n",
        "\n",
        "import torch\n",
        "import torch.nn as nn\n",
        "from transformers import AutoModelForCausalLM, AutoTokenizer\n",
        "import numpy as np\n",
        "from scipy.stats import norm\n",
        "\n",
        "def apply_conceptual_higgs_to_llama3(model, num_bits=4):\n",
        "    for name, module in model.named_modules():\n",
        "        if isinstance(module, nn.Linear) or isinstance(module, nn.Embedding):\n",
        "            if hasattr(module, 'weight') and module.weight.requires_grad:\n",
        "                # 1. Move original weights to CPU to free up GPU memory\n",
        "                original_weights = module.weight.data.cpu().clone()\n",
        "\n",
        "                # 2. Apply standard Hadamard transform\n",
        "                transformed_weights = apply_standard_hadamard(original_weights)\n",
        "\n",
        "                # 3. Apply Gaussian-inspired quantization\n",
        "                quantized_weights, dequantized_weights = gaussian_inspired_quantize(transformed_weights, num_bits)\n",
        "\n",
        "                # 4. Delete transformed_weights to free memory\n",
        "                del transformed_weights\n",
        "\n",
        "                # 5. Replace original weights and move back to GPU\n",
        "                module.weight.data = dequantized_weights.to(device) # Move to GPU for inference/training\n",
        "                print(f\"Applied conceptual HIGGS (Hadamard + Gaussian quant) to {name}.weight\")\n",
        "\n",
        "                # 6. Delete unnecessary tensors\n",
        "                del original_weights, quantized_weights, dequantized_weights\n",
        "\n",
        "                # 7. Empty cache to free up memory\n",
        "                torch.cuda.empty_cache()"
      ]
    },
    {
      "cell_type": "code",
      "source": [
        "# Apply the conceptual HIGGS to the loaded Llama 3 model\n",
        "apply_conceptual_higgs_to_llama3(model, num_bits=4)\n",
        "\n",
        "print(\"\\nModel weights after conceptual HIGGS:\")\n",
        "for name, param in model.named_parameters():\n",
        "    print(name, param.dtype, param.shape, param.requires_grad)"
      ],
      "metadata": {
        "id": "uDcM1tNKjeEQ"
      },
      "execution_count": null,
      "outputs": []
    }
  ]
}